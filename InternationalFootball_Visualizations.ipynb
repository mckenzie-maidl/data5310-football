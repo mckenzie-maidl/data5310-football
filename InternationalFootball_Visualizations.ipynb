{
 "cells": [
  {
   "cell_type": "markdown",
   "id": "b0eba47d",
   "metadata": {},
   "source": [
    "## Visualizations"
   ]
  },
  {
   "cell_type": "code",
   "execution_count": null,
   "id": "33d53131",
   "metadata": {},
   "outputs": [],
   "source": [
    "# import statements\n",
    "import pandas as pd\n",
    "import numpy as np\n",
    "import altair as alt"
   ]
  },
  {
   "cell_type": "code",
   "execution_count": null,
   "id": "08adb3d8",
   "metadata": {},
   "outputs": [],
   "source": [
    "# load goals data\n",
    "goals = pd.read_csv('goals.csv')\n",
    "goals.head()"
   ]
  },
  {
   "cell_type": "code",
   "execution_count": null,
   "id": "4b7e5f16",
   "metadata": {},
   "outputs": [],
   "source": [
    "# set custom theme\n",
    "def custom_theme():\n",
    "    return {\n",
    "        'config': {\n",
    "            'view': {\n",
    "                'height': 600,\n",
    "                'width': 600,\n",
    "                \n",
    "            },\n",
    "            \"axis\": {\n",
    "                \"labelFontSize\": 12, \n",
    "                \"titleFontSize\": 13,\n",
    "            },\n",
    "            \"title\": {\n",
    "              \"fontSize\": 14\n",
    "            },\n",
    "            \"legend\": {\n",
    "              \"direction\": \"horizontal\",\n",
    "              \"labelFontSize\": 12,\n",
    "              \"titleFontSize\": 13\n",
    "            },\n",
    "            'mark': {\n",
    "                'fill': '#005391'\n",
    "            }\n",
    "        }\n",
    "    }\n",
    "\n",
    "# register the custom theme under a chosen name\n",
    "alt.themes.register('custom_theme', custom_theme)\n",
    "\n",
    "# enable the newly registered theme\n",
    "alt.themes.enable('custom_theme')"
   ]
  },
  {
   "cell_type": "markdown",
   "id": "00579515",
   "metadata": {},
   "source": [
    "### Game Plots"
   ]
  },
  {
   "cell_type": "markdown",
   "id": "db92c1fa",
   "metadata": {},
   "source": [
    "### Player Plots"
   ]
  },
  {
   "cell_type": "markdown",
   "id": "5c7e632e",
   "metadata": {},
   "source": [
    "### Team Plots"
   ]
  },
  {
   "cell_type": "markdown",
   "id": "aa85a559",
   "metadata": {},
   "source": [
    "#### Data Manipulation"
   ]
  },
  {
   "cell_type": "code",
   "execution_count": null,
   "id": "0b52d6dd",
   "metadata": {},
   "outputs": [],
   "source": [
    "# group data by game\n",
    "game_cols = ['date', 'home_team', 'away_team', 'home_goals', 'away_goals', \n",
    "        'winner', 'winner_team', 'home_penalties', 'away_penalties']\n",
    "\n",
    "games = goals[game_cols].drop_duplicates()\n",
    "\n",
    "games['year'] =  games['date'].astype('datetime64[ns]').dt.year \n",
    "\n",
    "games.reset_index(drop=True, inplace=True)"
   ]
  },
  {
   "cell_type": "code",
   "execution_count": null,
   "id": "19a21d65",
   "metadata": {},
   "outputs": [],
   "source": [
    "# group data by team\n",
    "team_cols = ['date', 'year', 'team', 'opponent', 'goals', 'opponent_goals', \n",
    "        'penalties_awarded', 'penalties_caused', 'won', 'home']\n",
    "\n",
    "home_teams = games.copy()\n",
    "home_teams = home_teams.rename(columns={'home_team': 'team',\n",
    "                                        'away_team': 'opponent',\n",
    "                                        'home_goals': 'goals',\n",
    "                                        'away_goals': 'opponent_goals',\n",
    "                                        'home_penalties': 'penalties_awarded',\n",
    "                                        'away_penalties': 'penalties_caused'\n",
    "                                       })\n",
    "home_teams['won'] = np.where(home_teams['team'] == home_teams['winner'], 1, 0)\n",
    "home_teams['home'] = 1\n",
    "home_teams = home_teams[team_cols]\n",
    "\n",
    "away_teams = games.copy()\n",
    "away_teams = away_teams.rename(columns={'away_team': 'team',\n",
    "                                        'home_team': 'opponent',\n",
    "                                        'away_goals': 'goals',\n",
    "                                        'home_goals': 'opponent_goals',\n",
    "                                        'away_penalties': 'penalties_awarded',\n",
    "                                        'home_penalties': 'penalties_caused'\n",
    "                                       })\n",
    "away_teams['won'] = np.where(away_teams['team'] == away_teams['winner'], 1, 0)\n",
    "away_teams['home'] = 0\n",
    "away_teams = away_teams[team_cols]\n",
    "\n",
    "teams = pd.concat([home_teams, away_teams], axis=0)\n",
    "\n",
    "teams.reset_index(drop=True, inplace=True)"
   ]
  }
 ],
 "metadata": {
  "kernelspec": {
   "display_name": "Python 3 (ipykernel)",
   "language": "python",
   "name": "python3"
  },
  "language_info": {
   "codemirror_mode": {
    "name": "ipython",
    "version": 3
   },
   "file_extension": ".py",
   "mimetype": "text/x-python",
   "name": "python",
   "nbconvert_exporter": "python",
   "pygments_lexer": "ipython3",
   "version": "3.9.12"
  }
 },
 "nbformat": 4,
 "nbformat_minor": 5
}
