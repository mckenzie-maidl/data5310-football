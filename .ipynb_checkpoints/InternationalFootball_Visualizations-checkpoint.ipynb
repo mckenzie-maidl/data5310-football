{
 "cells": [
  {
   "cell_type": "markdown",
   "id": "b0eba47d",
   "metadata": {},
   "source": [
    "### Visualizations"
   ]
  },
  {
   "cell_type": "code",
   "execution_count": null,
   "id": "33d53131",
   "metadata": {},
   "outputs": [],
   "source": [
    "# import statements\n",
    "import pandas as pd\n",
    "import numpy as np\n",
    "import altair as alt"
   ]
  },
  {
   "cell_type": "code",
   "execution_count": null,
   "id": "08adb3d8",
   "metadata": {},
   "outputs": [],
   "source": [
    "# load data\n",
    "goals = pd.read_csv('goals_raw.csv')\n",
    "goals.head()"
   ]
  },
  {
   "cell_type": "markdown",
   "id": "00579515",
   "metadata": {},
   "source": [
    "#### Game Plots"
   ]
  },
  {
   "cell_type": "markdown",
   "id": "5c7e632e",
   "metadata": {},
   "source": [
    "#### Team Plots"
   ]
  },
  {
   "cell_type": "markdown",
   "id": "db92c1fa",
   "metadata": {},
   "source": [
    "#### Player Plots"
   ]
  }
 ],
 "metadata": {
  "kernelspec": {
   "display_name": "Python 3 (ipykernel)",
   "language": "python",
   "name": "python3"
  },
  "language_info": {
   "codemirror_mode": {
    "name": "ipython",
    "version": 3
   },
   "file_extension": ".py",
   "mimetype": "text/x-python",
   "name": "python",
   "nbconvert_exporter": "python",
   "pygments_lexer": "ipython3",
   "version": "3.9.12"
  }
 },
 "nbformat": 4,
 "nbformat_minor": 5
}
