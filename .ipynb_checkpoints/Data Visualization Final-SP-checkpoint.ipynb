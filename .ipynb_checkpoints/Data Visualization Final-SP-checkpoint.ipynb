{
 "cells": [
  {
   "cell_type": "code",
   "execution_count": 1,
   "id": "b4f8f0d9",
   "metadata": {},
   "outputs": [
    {
     "data": {
      "text/plain": [
       "DataTransformerRegistry.enable('json')"
      ]
     },
     "execution_count": 1,
     "metadata": {},
     "output_type": "execute_result"
    }
   ],
   "source": [
    "import altair as alt\n",
    "import pandas as pd\n",
    "import numpy as np\n",
    "import json \n",
    "\n",
    "alt.data_transformers.enable('json') #altair plot for more than 5,000 datapoints "
   ]
  },
  {
   "cell_type": "code",
   "execution_count": 2,
   "id": "a19956e1",
   "metadata": {},
   "outputs": [],
   "source": [
    "#get dataset\n",
    "#location = '/Users/samikshyapandey/Downloads/'\n",
    "#file = 'goals.csv'\n",
    "#goals = location + file\n",
    "#goals = pd.read_csv(goals)\n",
    "goals = pd.read_csv('Data/goals.csv')\n"
   ]
  },
  {
   "cell_type": "code",
   "execution_count": 3,
   "id": "1c543615",
   "metadata": {},
   "outputs": [
    {
     "data": {
      "text/plain": [
       "ThemeRegistry.enable('custom_theme')"
      ]
     },
     "execution_count": 3,
     "metadata": {},
     "output_type": "execute_result"
    }
   ],
   "source": [
    "# set custom theme\n",
    "def custom_theme():\n",
    "    return {\n",
    "        'config': {\n",
    "            'view': {\n",
    "                'height': 400,\n",
    "                'width': 600,\n",
    "                \n",
    "            },\n",
    "            \"axis\": {\n",
    "                \"labelFontSize\": 12, \n",
    "                \"titleFontSize\": 13,\n",
    "            },\n",
    "            \"title\": {\n",
    "              \"fontSize\": 14\n",
    "            },\n",
    "            \"legend\": {\n",
    "              \"labelFontSize\": 12,\n",
    "              \"titleFontSize\": 13\n",
    "            },\n",
    "            'mark': {\n",
    "                'fill': '#005391'\n",
    "            }\n",
    "        }\n",
    "    }\n",
    "\n",
    "# register the custom theme under a chosen name\n",
    "alt.themes.register('custom_theme', custom_theme)\n",
    "\n",
    "# enable the newly registered theme\n",
    "alt.themes.enable('custom_theme')"
   ]
  },
  {
   "cell_type": "markdown",
   "id": "3c7b87bb",
   "metadata": {},
   "source": [
    "## EXPLORING THE DATASET"
   ]
  },
  {
   "cell_type": "code",
   "execution_count": 4,
   "id": "6f548a8e",
   "metadata": {},
   "outputs": [
    {
     "data": {
      "text/html": [
       "<div>\n",
       "<style scoped>\n",
       "    .dataframe tbody tr th:only-of-type {\n",
       "        vertical-align: middle;\n",
       "    }\n",
       "\n",
       "    .dataframe tbody tr th {\n",
       "        vertical-align: top;\n",
       "    }\n",
       "\n",
       "    .dataframe thead th {\n",
       "        text-align: right;\n",
       "    }\n",
       "</style>\n",
       "<table border=\"1\" class=\"dataframe\">\n",
       "  <thead>\n",
       "    <tr style=\"text-align: right;\">\n",
       "      <th></th>\n",
       "      <th>date</th>\n",
       "      <th>home_team</th>\n",
       "      <th>away_team</th>\n",
       "      <th>scorer_team</th>\n",
       "      <th>scorer</th>\n",
       "      <th>minute</th>\n",
       "      <th>own_goal</th>\n",
       "      <th>penalty</th>\n",
       "      <th>point_earned</th>\n",
       "      <th>home_goals</th>\n",
       "      <th>away_goals</th>\n",
       "      <th>winner</th>\n",
       "      <th>winner_team</th>\n",
       "      <th>penalty_point</th>\n",
       "      <th>home_penalties</th>\n",
       "      <th>away_penalties</th>\n",
       "    </tr>\n",
       "  </thead>\n",
       "  <tbody>\n",
       "    <tr>\n",
       "      <th>0</th>\n",
       "      <td>1916-07-02</td>\n",
       "      <td>Chile</td>\n",
       "      <td>Uruguay</td>\n",
       "      <td>Uruguay</td>\n",
       "      <td>José Piendibene</td>\n",
       "      <td>44.0</td>\n",
       "      <td>False</td>\n",
       "      <td>False</td>\n",
       "      <td>1</td>\n",
       "      <td>0</td>\n",
       "      <td>4</td>\n",
       "      <td>Uruguay</td>\n",
       "      <td>Away</td>\n",
       "      <td>0</td>\n",
       "      <td>0</td>\n",
       "      <td>0</td>\n",
       "    </tr>\n",
       "    <tr>\n",
       "      <th>1</th>\n",
       "      <td>1916-07-02</td>\n",
       "      <td>Chile</td>\n",
       "      <td>Uruguay</td>\n",
       "      <td>Uruguay</td>\n",
       "      <td>Isabelino Gradín</td>\n",
       "      <td>55.0</td>\n",
       "      <td>False</td>\n",
       "      <td>False</td>\n",
       "      <td>1</td>\n",
       "      <td>0</td>\n",
       "      <td>4</td>\n",
       "      <td>Uruguay</td>\n",
       "      <td>Away</td>\n",
       "      <td>0</td>\n",
       "      <td>0</td>\n",
       "      <td>0</td>\n",
       "    </tr>\n",
       "    <tr>\n",
       "      <th>2</th>\n",
       "      <td>1916-07-02</td>\n",
       "      <td>Chile</td>\n",
       "      <td>Uruguay</td>\n",
       "      <td>Uruguay</td>\n",
       "      <td>Isabelino Gradín</td>\n",
       "      <td>70.0</td>\n",
       "      <td>False</td>\n",
       "      <td>False</td>\n",
       "      <td>1</td>\n",
       "      <td>0</td>\n",
       "      <td>4</td>\n",
       "      <td>Uruguay</td>\n",
       "      <td>Away</td>\n",
       "      <td>0</td>\n",
       "      <td>0</td>\n",
       "      <td>0</td>\n",
       "    </tr>\n",
       "    <tr>\n",
       "      <th>3</th>\n",
       "      <td>1916-07-02</td>\n",
       "      <td>Chile</td>\n",
       "      <td>Uruguay</td>\n",
       "      <td>Uruguay</td>\n",
       "      <td>José Piendibene</td>\n",
       "      <td>75.0</td>\n",
       "      <td>False</td>\n",
       "      <td>False</td>\n",
       "      <td>1</td>\n",
       "      <td>0</td>\n",
       "      <td>4</td>\n",
       "      <td>Uruguay</td>\n",
       "      <td>Away</td>\n",
       "      <td>0</td>\n",
       "      <td>0</td>\n",
       "      <td>0</td>\n",
       "    </tr>\n",
       "    <tr>\n",
       "      <th>4</th>\n",
       "      <td>1916-07-06</td>\n",
       "      <td>Argentina</td>\n",
       "      <td>Chile</td>\n",
       "      <td>Argentina</td>\n",
       "      <td>Alberto Ohaco</td>\n",
       "      <td>2.0</td>\n",
       "      <td>False</td>\n",
       "      <td>False</td>\n",
       "      <td>1</td>\n",
       "      <td>6</td>\n",
       "      <td>1</td>\n",
       "      <td>Argentina</td>\n",
       "      <td>Home</td>\n",
       "      <td>0</td>\n",
       "      <td>2</td>\n",
       "      <td>0</td>\n",
       "    </tr>\n",
       "  </tbody>\n",
       "</table>\n",
       "</div>"
      ],
      "text/plain": [
       "         date  home_team away_team scorer_team            scorer  minute  \\\n",
       "0  1916-07-02      Chile   Uruguay     Uruguay   José Piendibene    44.0   \n",
       "1  1916-07-02      Chile   Uruguay     Uruguay  Isabelino Gradín    55.0   \n",
       "2  1916-07-02      Chile   Uruguay     Uruguay  Isabelino Gradín    70.0   \n",
       "3  1916-07-02      Chile   Uruguay     Uruguay   José Piendibene    75.0   \n",
       "4  1916-07-06  Argentina     Chile   Argentina     Alberto Ohaco     2.0   \n",
       "\n",
       "   own_goal  penalty  point_earned  home_goals  away_goals     winner  \\\n",
       "0     False    False             1           0           4    Uruguay   \n",
       "1     False    False             1           0           4    Uruguay   \n",
       "2     False    False             1           0           4    Uruguay   \n",
       "3     False    False             1           0           4    Uruguay   \n",
       "4     False    False             1           6           1  Argentina   \n",
       "\n",
       "  winner_team  penalty_point  home_penalties  away_penalties  \n",
       "0        Away              0               0               0  \n",
       "1        Away              0               0               0  \n",
       "2        Away              0               0               0  \n",
       "3        Away              0               0               0  \n",
       "4        Home              0               2               0  "
      ]
     },
     "execution_count": 4,
     "metadata": {},
     "output_type": "execute_result"
    }
   ],
   "source": [
    "goals.head()"
   ]
  },
  {
   "cell_type": "code",
   "execution_count": 5,
   "id": "ea0e03bd",
   "metadata": {},
   "outputs": [
    {
     "data": {
      "text/html": [
       "<div>\n",
       "<style scoped>\n",
       "    .dataframe tbody tr th:only-of-type {\n",
       "        vertical-align: middle;\n",
       "    }\n",
       "\n",
       "    .dataframe tbody tr th {\n",
       "        vertical-align: top;\n",
       "    }\n",
       "\n",
       "    .dataframe thead th {\n",
       "        text-align: right;\n",
       "    }\n",
       "</style>\n",
       "<table border=\"1\" class=\"dataframe\">\n",
       "  <thead>\n",
       "    <tr style=\"text-align: right;\">\n",
       "      <th></th>\n",
       "      <th>date</th>\n",
       "      <th>home_team</th>\n",
       "      <th>away_team</th>\n",
       "      <th>scorer_team</th>\n",
       "      <th>scorer</th>\n",
       "      <th>minute</th>\n",
       "      <th>own_goal</th>\n",
       "      <th>penalty</th>\n",
       "      <th>point_earned</th>\n",
       "      <th>home_goals</th>\n",
       "      <th>away_goals</th>\n",
       "      <th>winner</th>\n",
       "      <th>winner_team</th>\n",
       "      <th>penalty_point</th>\n",
       "      <th>home_penalties</th>\n",
       "      <th>away_penalties</th>\n",
       "    </tr>\n",
       "  </thead>\n",
       "  <tbody>\n",
       "    <tr>\n",
       "      <th>0</th>\n",
       "      <td>1916-07-02</td>\n",
       "      <td>Chile</td>\n",
       "      <td>Uruguay</td>\n",
       "      <td>Uruguay</td>\n",
       "      <td>José Piendibene</td>\n",
       "      <td>44.0</td>\n",
       "      <td>False</td>\n",
       "      <td>False</td>\n",
       "      <td>1</td>\n",
       "      <td>0</td>\n",
       "      <td>4</td>\n",
       "      <td>Uruguay</td>\n",
       "      <td>Away</td>\n",
       "      <td>0</td>\n",
       "      <td>0</td>\n",
       "      <td>0</td>\n",
       "    </tr>\n",
       "    <tr>\n",
       "      <th>1</th>\n",
       "      <td>1916-07-02</td>\n",
       "      <td>Chile</td>\n",
       "      <td>Uruguay</td>\n",
       "      <td>Uruguay</td>\n",
       "      <td>Isabelino Gradín</td>\n",
       "      <td>55.0</td>\n",
       "      <td>False</td>\n",
       "      <td>False</td>\n",
       "      <td>1</td>\n",
       "      <td>0</td>\n",
       "      <td>4</td>\n",
       "      <td>Uruguay</td>\n",
       "      <td>Away</td>\n",
       "      <td>0</td>\n",
       "      <td>0</td>\n",
       "      <td>0</td>\n",
       "    </tr>\n",
       "    <tr>\n",
       "      <th>2</th>\n",
       "      <td>1916-07-02</td>\n",
       "      <td>Chile</td>\n",
       "      <td>Uruguay</td>\n",
       "      <td>Uruguay</td>\n",
       "      <td>Isabelino Gradín</td>\n",
       "      <td>70.0</td>\n",
       "      <td>False</td>\n",
       "      <td>False</td>\n",
       "      <td>1</td>\n",
       "      <td>0</td>\n",
       "      <td>4</td>\n",
       "      <td>Uruguay</td>\n",
       "      <td>Away</td>\n",
       "      <td>0</td>\n",
       "      <td>0</td>\n",
       "      <td>0</td>\n",
       "    </tr>\n",
       "    <tr>\n",
       "      <th>3</th>\n",
       "      <td>1916-07-02</td>\n",
       "      <td>Chile</td>\n",
       "      <td>Uruguay</td>\n",
       "      <td>Uruguay</td>\n",
       "      <td>José Piendibene</td>\n",
       "      <td>75.0</td>\n",
       "      <td>False</td>\n",
       "      <td>False</td>\n",
       "      <td>1</td>\n",
       "      <td>0</td>\n",
       "      <td>4</td>\n",
       "      <td>Uruguay</td>\n",
       "      <td>Away</td>\n",
       "      <td>0</td>\n",
       "      <td>0</td>\n",
       "      <td>0</td>\n",
       "    </tr>\n",
       "  </tbody>\n",
       "</table>\n",
       "</div>"
      ],
      "text/plain": [
       "         date home_team away_team scorer_team            scorer  minute  \\\n",
       "0  1916-07-02     Chile   Uruguay     Uruguay   José Piendibene    44.0   \n",
       "1  1916-07-02     Chile   Uruguay     Uruguay  Isabelino Gradín    55.0   \n",
       "2  1916-07-02     Chile   Uruguay     Uruguay  Isabelino Gradín    70.0   \n",
       "3  1916-07-02     Chile   Uruguay     Uruguay   José Piendibene    75.0   \n",
       "\n",
       "   own_goal  penalty  point_earned  home_goals  away_goals   winner  \\\n",
       "0     False    False             1           0           4  Uruguay   \n",
       "1     False    False             1           0           4  Uruguay   \n",
       "2     False    False             1           0           4  Uruguay   \n",
       "3     False    False             1           0           4  Uruguay   \n",
       "\n",
       "  winner_team  penalty_point  home_penalties  away_penalties  \n",
       "0        Away              0               0               0  \n",
       "1        Away              0               0               0  \n",
       "2        Away              0               0               0  \n",
       "3        Away              0               0               0  "
      ]
     },
     "execution_count": 5,
     "metadata": {},
     "output_type": "execute_result"
    }
   ],
   "source": [
    "# multiple rows for each game acocunting for each goal at team\n",
    "goals.loc[goals[\"date\"] == \"1916-07-02\"]"
   ]
  },
  {
   "cell_type": "markdown",
   "id": "cc277a93",
   "metadata": {},
   "source": [
    "If there are 4 goals in the match, the data set would have 4 rows.so it is a long data."
   ]
  },
  {
   "cell_type": "code",
   "execution_count": 6,
   "id": "a50a444a",
   "metadata": {},
   "outputs": [
    {
     "data": {
      "text/plain": [
       "date                        1916-07-06\n",
       "home_team                    Argentina\n",
       "away_team                        Chile\n",
       "scorer_team                  Argentina\n",
       "scorer            Alberto Marcovecchio\n",
       "minute                            67.0\n",
       "own_goal                         False\n",
       "penalty                          False\n",
       "point_earned                         1\n",
       "home_goals                           6\n",
       "away_goals                           1\n",
       "winner                       Argentina\n",
       "winner_team                       Home\n",
       "penalty_point                        0\n",
       "home_penalties                       2\n",
       "away_penalties                       0\n",
       "Name: 8, dtype: object"
      ]
     },
     "execution_count": 6,
     "metadata": {},
     "output_type": "execute_result"
    }
   ],
   "source": [
    "goals.iloc[8]"
   ]
  },
  {
   "cell_type": "code",
   "execution_count": 7,
   "id": "c34f9c78",
   "metadata": {},
   "outputs": [],
   "source": [
    "#goals.loc[goals[\"date\"] == \"1916-07-06\"]"
   ]
  },
  {
   "cell_type": "code",
   "execution_count": 8,
   "id": "5b581052",
   "metadata": {},
   "outputs": [
    {
     "data": {
      "text/plain": [
       "'1916-07-02'"
      ]
     },
     "execution_count": 8,
     "metadata": {},
     "output_type": "execute_result"
    }
   ],
   "source": [
    "goals[\"date\"].min()"
   ]
  },
  {
   "cell_type": "code",
   "execution_count": 9,
   "id": "4e3c8ff8",
   "metadata": {
    "scrolled": true
   },
   "outputs": [
    {
     "data": {
      "text/html": [
       "<div>\n",
       "<style scoped>\n",
       "    .dataframe tbody tr th:only-of-type {\n",
       "        vertical-align: middle;\n",
       "    }\n",
       "\n",
       "    .dataframe tbody tr th {\n",
       "        vertical-align: top;\n",
       "    }\n",
       "\n",
       "    .dataframe thead th {\n",
       "        text-align: right;\n",
       "    }\n",
       "</style>\n",
       "<table border=\"1\" class=\"dataframe\">\n",
       "  <thead>\n",
       "    <tr style=\"text-align: right;\">\n",
       "      <th></th>\n",
       "      <th>minute</th>\n",
       "      <th>point_earned</th>\n",
       "      <th>home_goals</th>\n",
       "      <th>away_goals</th>\n",
       "      <th>penalty_point</th>\n",
       "      <th>home_penalties</th>\n",
       "      <th>away_penalties</th>\n",
       "    </tr>\n",
       "  </thead>\n",
       "  <tbody>\n",
       "    <tr>\n",
       "      <th>count</th>\n",
       "      <td>42929.000000</td>\n",
       "      <td>43189.000000</td>\n",
       "      <td>43189.000000</td>\n",
       "      <td>43189.000000</td>\n",
       "      <td>43189.000000</td>\n",
       "      <td>43189.000000</td>\n",
       "      <td>43189.000000</td>\n",
       "    </tr>\n",
       "    <tr>\n",
       "      <th>mean</th>\n",
       "      <td>50.040206</td>\n",
       "      <td>0.981755</td>\n",
       "      <td>2.579175</td>\n",
       "      <td>1.562828</td>\n",
       "      <td>0.066290</td>\n",
       "      <td>0.170877</td>\n",
       "      <td>0.094376</td>\n",
       "    </tr>\n",
       "    <tr>\n",
       "      <th>std</th>\n",
       "      <td>26.363782</td>\n",
       "      <td>0.133839</td>\n",
       "      <td>2.417675</td>\n",
       "      <td>1.699588</td>\n",
       "      <td>0.248791</td>\n",
       "      <td>0.412225</td>\n",
       "      <td>0.311749</td>\n",
       "    </tr>\n",
       "    <tr>\n",
       "      <th>min</th>\n",
       "      <td>1.000000</td>\n",
       "      <td>0.000000</td>\n",
       "      <td>0.000000</td>\n",
       "      <td>0.000000</td>\n",
       "      <td>0.000000</td>\n",
       "      <td>0.000000</td>\n",
       "      <td>0.000000</td>\n",
       "    </tr>\n",
       "    <tr>\n",
       "      <th>25%</th>\n",
       "      <td>28.000000</td>\n",
       "      <td>1.000000</td>\n",
       "      <td>1.000000</td>\n",
       "      <td>0.000000</td>\n",
       "      <td>0.000000</td>\n",
       "      <td>0.000000</td>\n",
       "      <td>0.000000</td>\n",
       "    </tr>\n",
       "    <tr>\n",
       "      <th>50%</th>\n",
       "      <td>51.000000</td>\n",
       "      <td>1.000000</td>\n",
       "      <td>2.000000</td>\n",
       "      <td>1.000000</td>\n",
       "      <td>0.000000</td>\n",
       "      <td>0.000000</td>\n",
       "      <td>0.000000</td>\n",
       "    </tr>\n",
       "    <tr>\n",
       "      <th>75%</th>\n",
       "      <td>73.000000</td>\n",
       "      <td>1.000000</td>\n",
       "      <td>4.000000</td>\n",
       "      <td>2.000000</td>\n",
       "      <td>0.000000</td>\n",
       "      <td>0.000000</td>\n",
       "      <td>0.000000</td>\n",
       "    </tr>\n",
       "    <tr>\n",
       "      <th>max</th>\n",
       "      <td>122.000000</td>\n",
       "      <td>1.000000</td>\n",
       "      <td>31.000000</td>\n",
       "      <td>17.000000</td>\n",
       "      <td>1.000000</td>\n",
       "      <td>3.000000</td>\n",
       "      <td>3.000000</td>\n",
       "    </tr>\n",
       "  </tbody>\n",
       "</table>\n",
       "</div>"
      ],
      "text/plain": [
       "             minute  point_earned    home_goals    away_goals  penalty_point  \\\n",
       "count  42929.000000  43189.000000  43189.000000  43189.000000   43189.000000   \n",
       "mean      50.040206      0.981755      2.579175      1.562828       0.066290   \n",
       "std       26.363782      0.133839      2.417675      1.699588       0.248791   \n",
       "min        1.000000      0.000000      0.000000      0.000000       0.000000   \n",
       "25%       28.000000      1.000000      1.000000      0.000000       0.000000   \n",
       "50%       51.000000      1.000000      2.000000      1.000000       0.000000   \n",
       "75%       73.000000      1.000000      4.000000      2.000000       0.000000   \n",
       "max      122.000000      1.000000     31.000000     17.000000       1.000000   \n",
       "\n",
       "       home_penalties  away_penalties  \n",
       "count    43189.000000    43189.000000  \n",
       "mean         0.170877        0.094376  \n",
       "std          0.412225        0.311749  \n",
       "min          0.000000        0.000000  \n",
       "25%          0.000000        0.000000  \n",
       "50%          0.000000        0.000000  \n",
       "75%          0.000000        0.000000  \n",
       "max          3.000000        3.000000  "
      ]
     },
     "execution_count": 9,
     "metadata": {},
     "output_type": "execute_result"
    }
   ],
   "source": [
    "goals.describe()"
   ]
  },
  {
   "cell_type": "markdown",
   "id": "ec786bfd",
   "metadata": {},
   "source": [
    "Total dataset: 43189 and ranges from 1916-07-02 to 2023-11-21"
   ]
  },
  {
   "cell_type": "code",
   "execution_count": 10,
   "id": "2ea374c6",
   "metadata": {},
   "outputs": [],
   "source": [
    "#goals[goals[\"date\"].duplicated()]  #multiple games in same data as well"
   ]
  },
  {
   "cell_type": "code",
   "execution_count": null,
   "id": "509b6acc",
   "metadata": {},
   "outputs": [],
   "source": [
    "\n",
    "    "
   ]
  },
  {
   "cell_type": "code",
   "execution_count": 11,
   "id": "28b85428",
   "metadata": {},
   "outputs": [],
   "source": [
    "#goals.tail()"
   ]
  },
  {
   "cell_type": "markdown",
   "id": "1bd808d0",
   "metadata": {},
   "source": [
    "## PLOT: What is an average number of goals in a game?\n",
    "Total scores/total games played.\n",
    "Here, it is important to note that there could be multiple games on the same date and data are in wide format. So I created a new column that pairs the home and away team so it is easier to calculate the total goals scored in each match. "
   ]
  },
  {
   "cell_type": "code",
   "execution_count": 12,
   "id": "2970d4b1",
   "metadata": {},
   "outputs": [],
   "source": [
    "total_goal = goals.copy()\n",
    "total_goal['team_pair'] = total_goal['home_team'] + '_' + total_goal['away_team'] #denotes same match\n",
    "total_goal[\"total_goals\"] = total_goal[\"home_goals\"] + total_goal[\"away_goals\"]  #home goals and away goals value are sum total of goal scored by each team so adding them together to get total score. \n"
   ]
  },
  {
   "cell_type": "code",
   "execution_count": 13,
   "id": "93292188",
   "metadata": {},
   "outputs": [],
   "source": [
    "#total_goal.head()"
   ]
  },
  {
   "cell_type": "code",
   "execution_count": 14,
   "id": "9b03363f",
   "metadata": {},
   "outputs": [
    {
     "data": {
      "text/plain": [
       "(13986, 18)"
      ]
     },
     "execution_count": 14,
     "metadata": {},
     "output_type": "execute_result"
    }
   ],
   "source": [
    "#group to get unique games played: group my playing teams and date and drop duplicates\n",
    "total_goal = total_goal.groupby([\"team_pair\", \"date\"]).first().reset_index()\n",
    "total_goal.shape"
   ]
  },
  {
   "cell_type": "code",
   "execution_count": 15,
   "id": "9f7cd1cd",
   "metadata": {},
   "outputs": [
    {
     "data": {
      "text/html": [
       "<div>\n",
       "<style scoped>\n",
       "    .dataframe tbody tr th:only-of-type {\n",
       "        vertical-align: middle;\n",
       "    }\n",
       "\n",
       "    .dataframe tbody tr th {\n",
       "        vertical-align: top;\n",
       "    }\n",
       "\n",
       "    .dataframe thead th {\n",
       "        text-align: right;\n",
       "    }\n",
       "</style>\n",
       "<table border=\"1\" class=\"dataframe\">\n",
       "  <thead>\n",
       "    <tr style=\"text-align: right;\">\n",
       "      <th></th>\n",
       "      <th>target_value</th>\n",
       "    </tr>\n",
       "  </thead>\n",
       "  <tbody>\n",
       "    <tr>\n",
       "      <th>0</th>\n",
       "      <td>3.033319</td>\n",
       "    </tr>\n",
       "  </tbody>\n",
       "</table>\n",
       "</div>"
      ],
      "text/plain": [
       "   target_value\n",
       "0      3.033319"
      ]
     },
     "execution_count": 15,
     "metadata": {},
     "output_type": "execute_result"
    }
   ],
   "source": [
    "#calculate average goal: \n",
    "avg_goal_per_game = total_goal['total_goals'].sum() / len(total_goal['total_goals'])\n",
    "#print(avg_goal_per_game)\n",
    "#create dataframe to help with plotting later\n",
    "average_score = pd.DataFrame({'target_value': [avg_goal_per_game]})\n",
    "average_score"
   ]
  },
  {
   "cell_type": "code",
   "execution_count": 16,
   "id": "8589dafb",
   "metadata": {},
   "outputs": [
    {
     "ename": "TypeError",
     "evalue": "Cannot perform 'rand_' with a dtyped [object] array and scalar of type [bool]",
     "output_type": "error",
     "traceback": [
      "\u001b[0;31m---------------------------------------------------------------------------\u001b[0m",
      "\u001b[0;31mTypeError\u001b[0m                                 Traceback (most recent call last)",
      "File \u001b[0;32m~/opt/anaconda3/lib/python3.9/site-packages/pandas/core/ops/array_ops.py:305\u001b[0m, in \u001b[0;36mna_logical_op\u001b[0;34m(x, y, op)\u001b[0m\n\u001b[1;32m    296\u001b[0m \u001b[38;5;28;01mtry\u001b[39;00m:\n\u001b[1;32m    297\u001b[0m     \u001b[38;5;66;03m# For exposition, write:\u001b[39;00m\n\u001b[1;32m    298\u001b[0m     \u001b[38;5;66;03m#  yarr = isinstance(y, np.ndarray)\u001b[39;00m\n\u001b[0;32m   (...)\u001b[0m\n\u001b[1;32m    303\u001b[0m     \u001b[38;5;66;03m# Then Cases where this goes through without raising include:\u001b[39;00m\n\u001b[1;32m    304\u001b[0m     \u001b[38;5;66;03m#  (xint or xbool) and (yint or bool)\u001b[39;00m\n\u001b[0;32m--> 305\u001b[0m     result \u001b[38;5;241m=\u001b[39m \u001b[43mop\u001b[49m\u001b[43m(\u001b[49m\u001b[43mx\u001b[49m\u001b[43m,\u001b[49m\u001b[43m \u001b[49m\u001b[43my\u001b[49m\u001b[43m)\u001b[49m\n\u001b[1;32m    306\u001b[0m \u001b[38;5;28;01mexcept\u001b[39;00m \u001b[38;5;167;01mTypeError\u001b[39;00m:\n",
      "File \u001b[0;32m~/opt/anaconda3/lib/python3.9/site-packages/pandas/core/roperator.py:54\u001b[0m, in \u001b[0;36mrand_\u001b[0;34m(left, right)\u001b[0m\n\u001b[1;32m     53\u001b[0m \u001b[38;5;28;01mdef\u001b[39;00m \u001b[38;5;21mrand_\u001b[39m(left, right):\n\u001b[0;32m---> 54\u001b[0m     \u001b[38;5;28;01mreturn\u001b[39;00m \u001b[43moperator\u001b[49m\u001b[38;5;241;43m.\u001b[39;49m\u001b[43mand_\u001b[49m\u001b[43m(\u001b[49m\u001b[43mright\u001b[49m\u001b[43m,\u001b[49m\u001b[43m \u001b[49m\u001b[43mleft\u001b[49m\u001b[43m)\u001b[49m\n",
      "\u001b[0;31mTypeError\u001b[0m: unsupported operand type(s) for &: 'str' and 'str'",
      "\nDuring handling of the above exception, another exception occurred:\n",
      "\u001b[0;31mTypeError\u001b[0m                                 Traceback (most recent call last)",
      "File \u001b[0;32m~/opt/anaconda3/lib/python3.9/site-packages/pandas/core/ops/array_ops.py:319\u001b[0m, in \u001b[0;36mna_logical_op\u001b[0;34m(x, y, op)\u001b[0m\n\u001b[1;32m    318\u001b[0m \u001b[38;5;28;01mtry\u001b[39;00m:\n\u001b[0;32m--> 319\u001b[0m     result \u001b[38;5;241m=\u001b[39m \u001b[43mlibops\u001b[49m\u001b[38;5;241;43m.\u001b[39;49m\u001b[43mscalar_binop\u001b[49m\u001b[43m(\u001b[49m\u001b[43mx\u001b[49m\u001b[43m,\u001b[49m\u001b[43m \u001b[49m\u001b[43my\u001b[49m\u001b[43m,\u001b[49m\u001b[43m \u001b[49m\u001b[43mop\u001b[49m\u001b[43m)\u001b[49m\n\u001b[1;32m    320\u001b[0m \u001b[38;5;28;01mexcept\u001b[39;00m (\n\u001b[1;32m    321\u001b[0m     \u001b[38;5;167;01mTypeError\u001b[39;00m,\n\u001b[1;32m    322\u001b[0m     \u001b[38;5;167;01mValueError\u001b[39;00m,\n\u001b[0;32m   (...)\u001b[0m\n\u001b[1;32m    325\u001b[0m     \u001b[38;5;167;01mNotImplementedError\u001b[39;00m,\n\u001b[1;32m    326\u001b[0m ) \u001b[38;5;28;01mas\u001b[39;00m err:\n",
      "File \u001b[0;32m~/opt/anaconda3/lib/python3.9/site-packages/pandas/_libs/ops.pyx:210\u001b[0m, in \u001b[0;36mpandas._libs.ops.scalar_binop\u001b[0;34m()\u001b[0m\n",
      "File \u001b[0;32m~/opt/anaconda3/lib/python3.9/site-packages/pandas/core/roperator.py:54\u001b[0m, in \u001b[0;36mrand_\u001b[0;34m(left, right)\u001b[0m\n\u001b[1;32m     53\u001b[0m \u001b[38;5;28;01mdef\u001b[39;00m \u001b[38;5;21mrand_\u001b[39m(left, right):\n\u001b[0;32m---> 54\u001b[0m     \u001b[38;5;28;01mreturn\u001b[39;00m \u001b[43moperator\u001b[49m\u001b[38;5;241;43m.\u001b[39;49m\u001b[43mand_\u001b[49m\u001b[43m(\u001b[49m\u001b[43mright\u001b[49m\u001b[43m,\u001b[49m\u001b[43m \u001b[49m\u001b[43mleft\u001b[49m\u001b[43m)\u001b[49m\n",
      "\u001b[0;31mTypeError\u001b[0m: unsupported operand type(s) for &: 'bool' and 'str'",
      "\nThe above exception was the direct cause of the following exception:\n",
      "\u001b[0;31mTypeError\u001b[0m                                 Traceback (most recent call last)",
      "Input \u001b[0;32mIn [16]\u001b[0m, in \u001b[0;36m<cell line: 1>\u001b[0;34m()\u001b[0m\n\u001b[0;32m----> 1\u001b[0m total_goal[(total_goal[\u001b[38;5;124m'\u001b[39m\u001b[38;5;124mdate\u001b[39m\u001b[38;5;124m'\u001b[39m] \u001b[38;5;241m>\u001b[39m \u001b[38;5;124;43m'\u001b[39;49m\u001b[38;5;124;43m2017-12-31\u001b[39;49m\u001b[38;5;124;43m'\u001b[39;49m\u001b[43m \u001b[49m\u001b[38;5;241;43m&\u001b[39;49m\u001b[43m \u001b[49m\u001b[43mtotal_goal\u001b[49m\u001b[43m[\u001b[49m\u001b[38;5;124;43m'\u001b[39;49m\u001b[38;5;124;43mdate\u001b[39;49m\u001b[38;5;124;43m'\u001b[39;49m\u001b[43m]\u001b[49m \u001b[38;5;241m<\u001b[39m \u001b[38;5;124m'\u001b[39m\u001b[38;5;124m2019-01-01\u001b[39m\u001b[38;5;124m'\u001b[39m)]\n",
      "File \u001b[0;32m~/opt/anaconda3/lib/python3.9/site-packages/pandas/core/ops/common.py:72\u001b[0m, in \u001b[0;36m_unpack_zerodim_and_defer.<locals>.new_method\u001b[0;34m(self, other)\u001b[0m\n\u001b[1;32m     68\u001b[0m             \u001b[38;5;28;01mreturn\u001b[39;00m \u001b[38;5;28mNotImplemented\u001b[39m\n\u001b[1;32m     70\u001b[0m other \u001b[38;5;241m=\u001b[39m item_from_zerodim(other)\n\u001b[0;32m---> 72\u001b[0m \u001b[38;5;28;01mreturn\u001b[39;00m \u001b[43mmethod\u001b[49m\u001b[43m(\u001b[49m\u001b[38;5;28;43mself\u001b[39;49m\u001b[43m,\u001b[49m\u001b[43m \u001b[49m\u001b[43mother\u001b[49m\u001b[43m)\u001b[49m\n",
      "File \u001b[0;32m~/opt/anaconda3/lib/python3.9/site-packages/pandas/core/arraylike.py:76\u001b[0m, in \u001b[0;36mOpsMixin.__rand__\u001b[0;34m(self, other)\u001b[0m\n\u001b[1;32m     74\u001b[0m \u001b[38;5;129m@unpack_zerodim_and_defer\u001b[39m(\u001b[38;5;124m\"\u001b[39m\u001b[38;5;124m__rand__\u001b[39m\u001b[38;5;124m\"\u001b[39m)\n\u001b[1;32m     75\u001b[0m \u001b[38;5;28;01mdef\u001b[39;00m \u001b[38;5;21m__rand__\u001b[39m(\u001b[38;5;28mself\u001b[39m, other):\n\u001b[0;32m---> 76\u001b[0m     \u001b[38;5;28;01mreturn\u001b[39;00m \u001b[38;5;28;43mself\u001b[39;49m\u001b[38;5;241;43m.\u001b[39;49m\u001b[43m_logical_method\u001b[49m\u001b[43m(\u001b[49m\u001b[43mother\u001b[49m\u001b[43m,\u001b[49m\u001b[43m \u001b[49m\u001b[43mroperator\u001b[49m\u001b[38;5;241;43m.\u001b[39;49m\u001b[43mrand_\u001b[49m\u001b[43m)\u001b[49m\n",
      "File \u001b[0;32m~/opt/anaconda3/lib/python3.9/site-packages/pandas/core/series.py:6254\u001b[0m, in \u001b[0;36mSeries._logical_method\u001b[0;34m(self, other, op)\u001b[0m\n\u001b[1;32m   6251\u001b[0m lvalues \u001b[38;5;241m=\u001b[39m \u001b[38;5;28mself\u001b[39m\u001b[38;5;241m.\u001b[39m_values\n\u001b[1;32m   6252\u001b[0m rvalues \u001b[38;5;241m=\u001b[39m extract_array(other, extract_numpy\u001b[38;5;241m=\u001b[39m\u001b[38;5;28;01mTrue\u001b[39;00m, extract_range\u001b[38;5;241m=\u001b[39m\u001b[38;5;28;01mTrue\u001b[39;00m)\n\u001b[0;32m-> 6254\u001b[0m res_values \u001b[38;5;241m=\u001b[39m \u001b[43mops\u001b[49m\u001b[38;5;241;43m.\u001b[39;49m\u001b[43mlogical_op\u001b[49m\u001b[43m(\u001b[49m\u001b[43mlvalues\u001b[49m\u001b[43m,\u001b[49m\u001b[43m \u001b[49m\u001b[43mrvalues\u001b[49m\u001b[43m,\u001b[49m\u001b[43m \u001b[49m\u001b[43mop\u001b[49m\u001b[43m)\u001b[49m\n\u001b[1;32m   6255\u001b[0m \u001b[38;5;28;01mreturn\u001b[39;00m \u001b[38;5;28mself\u001b[39m\u001b[38;5;241m.\u001b[39m_construct_result(res_values, name\u001b[38;5;241m=\u001b[39mres_name)\n",
      "File \u001b[0;32m~/opt/anaconda3/lib/python3.9/site-packages/pandas/core/ops/array_ops.py:395\u001b[0m, in \u001b[0;36mlogical_op\u001b[0;34m(left, right, op)\u001b[0m\n\u001b[1;32m    391\u001b[0m \u001b[38;5;66;03m# For int vs int `^`, `|`, `&` are bitwise operators and return\u001b[39;00m\n\u001b[1;32m    392\u001b[0m \u001b[38;5;66;03m#   integer dtypes.  Otherwise these are boolean ops\u001b[39;00m\n\u001b[1;32m    393\u001b[0m filler \u001b[38;5;241m=\u001b[39m fill_int \u001b[38;5;28;01mif\u001b[39;00m is_self_int_dtype \u001b[38;5;129;01mand\u001b[39;00m is_other_int_dtype \u001b[38;5;28;01melse\u001b[39;00m fill_bool\n\u001b[0;32m--> 395\u001b[0m res_values \u001b[38;5;241m=\u001b[39m \u001b[43mna_logical_op\u001b[49m\u001b[43m(\u001b[49m\u001b[43mlvalues\u001b[49m\u001b[43m,\u001b[49m\u001b[43m \u001b[49m\u001b[43mrvalues\u001b[49m\u001b[43m,\u001b[49m\u001b[43m \u001b[49m\u001b[43mop\u001b[49m\u001b[43m)\u001b[49m\n\u001b[1;32m    396\u001b[0m \u001b[38;5;66;03m# error: Cannot call function of unknown type\u001b[39;00m\n\u001b[1;32m    397\u001b[0m res_values \u001b[38;5;241m=\u001b[39m filler(res_values)  \u001b[38;5;66;03m# type: ignore[operator]\u001b[39;00m\n",
      "File \u001b[0;32m~/opt/anaconda3/lib/python3.9/site-packages/pandas/core/ops/array_ops.py:328\u001b[0m, in \u001b[0;36mna_logical_op\u001b[0;34m(x, y, op)\u001b[0m\n\u001b[1;32m    320\u001b[0m         \u001b[38;5;28;01mexcept\u001b[39;00m (\n\u001b[1;32m    321\u001b[0m             \u001b[38;5;167;01mTypeError\u001b[39;00m,\n\u001b[1;32m    322\u001b[0m             \u001b[38;5;167;01mValueError\u001b[39;00m,\n\u001b[0;32m   (...)\u001b[0m\n\u001b[1;32m    325\u001b[0m             \u001b[38;5;167;01mNotImplementedError\u001b[39;00m,\n\u001b[1;32m    326\u001b[0m         ) \u001b[38;5;28;01mas\u001b[39;00m err:\n\u001b[1;32m    327\u001b[0m             typ \u001b[38;5;241m=\u001b[39m \u001b[38;5;28mtype\u001b[39m(y)\u001b[38;5;241m.\u001b[39m\u001b[38;5;18m__name__\u001b[39m\n\u001b[0;32m--> 328\u001b[0m             \u001b[38;5;28;01mraise\u001b[39;00m \u001b[38;5;167;01mTypeError\u001b[39;00m(\n\u001b[1;32m    329\u001b[0m                 \u001b[38;5;124mf\u001b[39m\u001b[38;5;124m\"\u001b[39m\u001b[38;5;124mCannot perform \u001b[39m\u001b[38;5;124m'\u001b[39m\u001b[38;5;132;01m{\u001b[39;00mop\u001b[38;5;241m.\u001b[39m\u001b[38;5;18m__name__\u001b[39m\u001b[38;5;132;01m}\u001b[39;00m\u001b[38;5;124m'\u001b[39m\u001b[38;5;124m with a dtyped [\u001b[39m\u001b[38;5;132;01m{\u001b[39;00mx\u001b[38;5;241m.\u001b[39mdtype\u001b[38;5;132;01m}\u001b[39;00m\u001b[38;5;124m] array \u001b[39m\u001b[38;5;124m\"\u001b[39m\n\u001b[1;32m    330\u001b[0m                 \u001b[38;5;124mf\u001b[39m\u001b[38;5;124m\"\u001b[39m\u001b[38;5;124mand scalar of type [\u001b[39m\u001b[38;5;132;01m{\u001b[39;00mtyp\u001b[38;5;132;01m}\u001b[39;00m\u001b[38;5;124m]\u001b[39m\u001b[38;5;124m\"\u001b[39m\n\u001b[1;32m    331\u001b[0m             ) \u001b[38;5;28;01mfrom\u001b[39;00m \u001b[38;5;21;01merr\u001b[39;00m\n\u001b[1;32m    333\u001b[0m \u001b[38;5;28;01mreturn\u001b[39;00m result\u001b[38;5;241m.\u001b[39mreshape(x\u001b[38;5;241m.\u001b[39mshape)\n",
      "\u001b[0;31mTypeError\u001b[0m: Cannot perform 'rand_' with a dtyped [object] array and scalar of type [bool]"
     ]
    }
   ],
   "source": [
    "total_goal[(total_goal['date'] > '2017-12-31') & (total_goal['date'] < '2019-01-01')]"
   ]
  },
  {
   "cell_type": "code",
   "execution_count": null,
   "id": "1459a786",
   "metadata": {},
   "outputs": [],
   "source": [
    "#now we can plot this information \n",
    "# clip on x domain\n",
    "avg_goals = alt.Chart(total_goal).mark_bar(clip = True\n",
    ").encode(\n",
    "  alt.X('total_goals:Q', title = \"Total number of goals\",scale=alt.Scale(domain=[0,12], zero=True)),\n",
    "  alt.Y ('count():Q', title = \"Number of match\")\n",
    ").properties(title = \"Distribution of goals scored per game\")\n",
    "\n",
    "\n",
    "avg_goals"
   ]
  },
  {
   "cell_type": "markdown",
   "id": "f4283eb7",
   "metadata": {},
   "source": [
    "Average number of goals in each game is 3.09. It is a discrete data as the number of goals scored cannot be 1.5; its number can be 1,2,3. The graph follows a trend of normal distribution.  "
   ]
  },
  {
   "cell_type": "code",
   "execution_count": null,
   "id": "dfb43a3a",
   "metadata": {
    "scrolled": true
   },
   "outputs": [],
   "source": [
    "line_chart = alt.Chart(average_score).mark_rule(color='red').encode(\n",
    "    alt.X('target_value:Q',scale=alt.Scale(zero=True) )\n",
    ")\n",
    "\n",
    "text_chart = alt.Chart(average_score).mark_text(\n",
    "    text='Average Score 3.09',\n",
    "    color='red',\n",
    "    align = 'left',\n",
    "    baseline='middle',\n",
    "    dx = 2,\n",
    "    dy = 10\n",
    ").encode(\n",
    "    alt.X('target_value:Q', scale=alt.Scale(zero=True)),\n",
    "    alt.YValue(0)  # Y coordinate for the text\n",
    ")\n",
    "\n",
    "#MOve the text in the score\n",
    "#text_chart"
   ]
  },
  {
   "cell_type": "code",
   "execution_count": null,
   "id": "34ea4bfe",
   "metadata": {},
   "outputs": [],
   "source": [
    "alt.layer(avg_goals, line_chart,text_chart)"
   ]
  },
  {
   "cell_type": "code",
   "execution_count": null,
   "id": "05e8390a",
   "metadata": {},
   "outputs": [],
   "source": []
  },
  {
   "cell_type": "markdown",
   "id": "d6953d2b",
   "metadata": {},
   "source": [
    "## PLOT 2: \n",
    "\n",
    "After a team scores a goal, how quicky does the second goal follow? \n",
    "We have data on the minute when a player for team scored a goal. We can use this information to observe how quickly following one goal was another goal scored. \n"
   ]
  },
  {
   "cell_type": "code",
   "execution_count": null,
   "id": "21c25c14",
   "metadata": {},
   "outputs": [],
   "source": [
    "goals[\"minute\"].dtype\n",
    "goals_timediff = goals.copy()\n",
    "goals_timediff['time_between_goals'] = goals_timediff.groupby(['date','home_team', 'away_team'])['minute'].diff()\n",
    "#goals_timediff\n",
    "#to know if the same team scored two goals consecutively or did opposite team scored the goal\n",
    "goals_timediff['next_goal_team'] = goals_timediff['scorer_team'].eq(goals_timediff['scorer_team'].shift()).map({True: 'same', False: 'opposite'})"
   ]
  },
  {
   "cell_type": "code",
   "execution_count": null,
   "id": "0401dcec",
   "metadata": {},
   "outputs": [],
   "source": [
    "goals_timediff[\"time_between_goals\"].isna().sum\n",
    "goals_timediff['team_pair'] = goals_timediff['home_team'] + '_' + goals_timediff['away_team'] #denotes same match\n",
    "goals_timediff[\"total_goals\"] = goals_timediff[\"home_goals\"] + goals_timediff[\"away_goals\"]  #home goals and away goals value are sum total of goal scored by each team so adding them together to get total score. \n"
   ]
  },
  {
   "cell_type": "code",
   "execution_count": null,
   "id": "6425bfbd",
   "metadata": {},
   "outputs": [],
   "source": [
    "#goals_timediff['time_between_goals'].agg(['min', 'max'])\n"
   ]
  },
  {
   "cell_type": "code",
   "execution_count": null,
   "id": "22ebf551",
   "metadata": {},
   "outputs": [],
   "source": [
    "alt.Chart(goals_timediff).mark_bar(clip = True).transform_filter(\n",
    "    'datum.time_between_goals != null' #time_between_goals is null at the first goal\n",
    ").transform_filter(\n",
    "    'datum.next_goal_team != null'#next_goal_team is null at the first goal\n",
    ").encode(\n",
    "    alt.X('time_between_goals:Q',title = \"Time between Goals\", scale=alt.Scale(domain=[0,80])),\n",
    "    alt.Y('count():Q', title = \"Numer of Match\"),\n",
    "    alt.Color('next_goal_team:N', title = \"Team scoring next goal\"),\n",
    "   alt.Column('next_goal_team:N', header= None)  \n",
    ").properties(title = \"Time between two consecutive goals\")"
   ]
  },
  {
   "cell_type": "markdown",
   "id": "de5f6179",
   "metadata": {},
   "source": [
    "If a team scores a goal than there is a higher chance that same team will score a goal within next 10 minutes, compared to other team. \n",
    "Average time between minutes when two consecutive goals were scored by same team is close to 18 min, for opposite is close to 19.5. \n",
    "Could be caused by many things: some(same teams) score more; or same team got more energized or counter attack were not as successful/ "
   ]
  },
  {
   "cell_type": "code",
   "execution_count": null,
   "id": "6b82943d",
   "metadata": {},
   "outputs": [],
   "source": [
    "#goals_timediff.head(20)"
   ]
  },
  {
   "cell_type": "code",
   "execution_count": null,
   "id": "67d05671",
   "metadata": {},
   "outputs": [],
   "source": [
    "\n",
    "average = alt.Chart(goals_timediff).mark_bar().transform_filter(\n",
    "    'datum.time_between_goals != null'\n",
    ").encode(\n",
    "    alt.X('next_goal_team:N'),\n",
    "    alt.Y('average(time_between_goals):Q'),\n",
    "    alt.Color('next_goal_team:N')\n",
    ")\n",
    "\n",
    "#average\n",
    "#not using for graph: wanted to confirm above graph is correct by calculating average. \n"
   ]
  },
  {
   "cell_type": "markdown",
   "id": "f2fe0349",
   "metadata": {},
   "source": [
    "ON average, after a team has scored a goal, the opposite team with score goal in the next 19 minutes and same will score in the next 18 ih minutes."
   ]
  },
  {
   "cell_type": "markdown",
   "id": "07e19f2e",
   "metadata": {},
   "source": [
    "## Plot 3 & 4 : Has total goal and total penatly recieved changed  changed after introduction of some major soccer laws? "
   ]
  },
  {
   "cell_type": "markdown",
   "id": "093c79b1",
   "metadata": {},
   "source": [
    "See impact of 3 major law change in football:\n",
    "1. 1970: Introduction of red and yellow cards to players where if a team receives a red card, the player has to play with 10 players, 2 or more yellow cards: the player recieves red card\n",
    "2. 2012: Goal line technology was introduced: the use of electronic aid to determine if a goal has been scored or not. \n",
    "3. 2018: VAR is introduced: using video footage by offical to make match decisions like goal/no goal, penatly/no penatly among others. \n"
   ]
  },
  {
   "cell_type": "code",
   "execution_count": null,
   "id": "f77ada98",
   "metadata": {},
   "outputs": [],
   "source": [
    "#dataset: total_goal\n",
    "total_goal.head()\n",
    "total_goal[\"date\"].dtype\n",
    "total_goal['date'] = pd.to_datetime(total_goal['date'])\n",
    "\n",
    "# Extract year and create a new column\n",
    "total_goal['year'] = total_goal['date'].dt.year\n",
    "total_goal['year'].dtype"
   ]
  },
  {
   "cell_type": "code",
   "execution_count": null,
   "id": "98ee9d7c",
   "metadata": {},
   "outputs": [],
   "source": [
    "total_goal.head()\n",
    "total_goal[\"total_penatly\"] = total_goal[\"home_penalties\"] + total_goal[\"away_penalties\"]"
   ]
  },
  {
   "cell_type": "markdown",
   "id": "b10b95dd",
   "metadata": {},
   "source": []
  },
  {
   "cell_type": "code",
   "execution_count": null,
   "id": "e2e2c35c",
   "metadata": {},
   "outputs": [],
   "source": [
    "#total_goal.head()"
   ]
  },
  {
   "cell_type": "code",
   "execution_count": null,
   "id": "bb552504",
   "metadata": {},
   "outputs": [],
   "source": [
    "total_goal[\"year\"].dtype\n",
    "#total_goal['year'] = pd.to_datetime(total_goal['year'], format='%Y')"
   ]
  },
  {
   "cell_type": "code",
   "execution_count": null,
   "id": "15fbe07b",
   "metadata": {
    "scrolled": true
   },
   "outputs": [],
   "source": [
    "#1960 as filtering date \n",
    "base_totalgoal = alt.Chart(total_goal).mark_line(fill = None).transform_aggregate(\n",
    "    total_goals='sum(total_goals)',\n",
    "    groupby=['year']\n",
    ").transform_filter(\n",
    "    'datum.year > 1960'\n",
    ").encode(\n",
    "    alt.X('year:O',title = \"Year\", axis=alt.Axis(labelAngle = -45, values =[1960,1965,1970,1975,1980,1985,1990,1995,2000,2005,2010,2015,2020])),\n",
    "    alt.Y('total_goals:Q', title = \" Total Goals\"),\n",
    ").properties(title = \"Did change in laws affect average total goal scored?\")\n",
    "\n",
    "\n",
    "#base_totalgoal\n"
   ]
  },
  {
   "cell_type": "code",
   "execution_count": null,
   "id": "793aca6d",
   "metadata": {
    "scrolled": true
   },
   "outputs": [],
   "source": [
    "year_1970 = alt.Chart(total_goal).mark_rule(color = \"Red\"\n",
    ").transform_filter('datum.year == \"1970\"'\n",
    "                  ).encode(alt.X('year:O'))\n",
    "\n",
    "\n",
    "year_2012 = alt.Chart(total_goal).mark_rule(color = \"Red\"\n",
    ").transform_filter('datum.year == \"2012\"'\n",
    "                  ).encode(alt.X('year:O'))\n",
    "                         # alt.Y('average(total_goals):Q'))\n",
    "year_2018 = alt.Chart(total_goal).mark_rule(color = \"Red\"\n",
    ").transform_filter('datum.year == \"2018\"'\n",
    "                  ).encode(alt.X('year:O')) \n",
    "\n",
    "## alt.Y('average(total_goals):Q'))\n",
    "#year_2012"
   ]
  },
  {
   "cell_type": "code",
   "execution_count": null,
   "id": "54d8cc40",
   "metadata": {},
   "outputs": [],
   "source": []
  },
  {
   "cell_type": "code",
   "execution_count": null,
   "id": "0ffb34fd",
   "metadata": {},
   "outputs": [],
   "source": [
    "year_1970 = alt.Chart(total_goal).mark_rule(color=\"red\").transform_filter('datum.year == 1970').encode(\n",
    "    alt.X('year:O')\n",
    ")\n",
    "\n",
    "text_1970 = alt.Chart(total_goal).mark_text(\n",
    "    text='1970:Card',\n",
    "    color='red',\n",
    "    align='left',\n",
    "    baseline='middle',\n",
    "    dx=-200,\n",
    "    dy=10\n",
    ").encode(\n",
    "    #alt.X(value = 1970),  # Specify the x-value directly\n",
    "    alt.YValue(0)      # Y coordinate for the text\n",
    ")\n",
    "\n",
    "text_2012 = alt.Chart(total_goal).mark_text(\n",
    "    text='2012: Goal Line',\n",
    "    color='red',\n",
    "    align='left',\n",
    "    baseline='middle',\n",
    "    dx= 110,\n",
    "    dy=10\n",
    ").encode(\n",
    "    #alt.X(value = 1970),  # Specify the x-value directly\n",
    "    alt.YValue(0)      # Y coordinate for the text\n",
    ")\n",
    "\n",
    "text_2018 = alt.Chart(total_goal).mark_text(\n",
    "    text='2018:VAR',\n",
    "    color='red',\n",
    "    align='left',\n",
    "    baseline='middle',\n",
    "    dx=250,\n",
    "    dy=10\n",
    ").encode(\n",
    "    #alt.X(value = 1970),  # Specify the x-value directly\n",
    "    alt.YValue(0)      # Y coordinate for the text\n",
    ")\n",
    "\n"
   ]
  },
  {
   "cell_type": "code",
   "execution_count": null,
   "id": "1830125c",
   "metadata": {},
   "outputs": [],
   "source": [
    "# Combine the charts\n",
    "final_1970 = year_1970 + text_1970\n",
    "final_2012 = year_2012 + text_2012\n",
    "final_2018 = year_2018 + text_2018\n",
    "\n",
    "#total_goal = base_chart + final_1970 +"
   ]
  },
  {
   "cell_type": "code",
   "execution_count": null,
   "id": "5ab97ef8",
   "metadata": {
    "scrolled": true
   },
   "outputs": [],
   "source": [
    "alt.layer(base_totalgoal, final_1970 , final_2012 , final_2018)"
   ]
  },
  {
   "cell_type": "markdown",
   "id": "ff6f90c3",
   "metadata": {},
   "source": [
    "Difficult to see any impact of the law change on total goal scored."
   ]
  },
  {
   "cell_type": "code",
   "execution_count": null,
   "id": "422e841e",
   "metadata": {},
   "outputs": [],
   "source": [
    "# Does the same thing happen total penatly to see if we can find pattern here\n",
    "total_goal.head()"
   ]
  },
  {
   "cell_type": "code",
   "execution_count": null,
   "id": "f5b75819",
   "metadata": {},
   "outputs": [],
   "source": [
    "base_chart_penalty = alt.Chart(total_goal).mark_line(fill = None).transform_aggregate(\n",
    "    total_penatly='sum(total_penatly)',\n",
    "    groupby=['year']\n",
    ").transform_filter(\n",
    "    'datum.year > 1960'\n",
    ").encode(\n",
    "    alt.X('year:O',title = \"Year\", axis=alt.Axis(labelAngle = -45, values =[1960,1965,1970,1975,1980,1985,1990,1995,2000,2005,2010,2015,2020])),\n",
    "    alt.Y('total_penatly:Q', title = \"Total Penalty\"),\n",
    ")\n",
    "\n",
    "\n",
    "alt.layer(base_chart_penalty, final_1970 , final_2012 , final_2018)"
   ]
  },
  {
   "cell_type": "markdown",
   "id": "1650ae67",
   "metadata": {},
   "source": [
    "Volatile changesi in penatly overall so difficult to observe patterns/ impact of rules change in both total goal and total penalty in a year."
   ]
  },
  {
   "cell_type": "code",
   "execution_count": null,
   "id": "c736c3ea",
   "metadata": {},
   "outputs": [],
   "source": []
  },
  {
   "cell_type": "code",
   "execution_count": null,
   "id": "b2156bfd",
   "metadata": {},
   "outputs": [],
   "source": []
  }
 ],
 "metadata": {
  "kernelspec": {
   "display_name": "Python 3 (ipykernel)",
   "language": "python",
   "name": "python3"
  },
  "language_info": {
   "codemirror_mode": {
    "name": "ipython",
    "version": 3
   },
   "file_extension": ".py",
   "mimetype": "text/x-python",
   "name": "python",
   "nbconvert_exporter": "python",
   "pygments_lexer": "ipython3",
   "version": "3.9.12"
  }
 },
 "nbformat": 4,
 "nbformat_minor": 5
}
