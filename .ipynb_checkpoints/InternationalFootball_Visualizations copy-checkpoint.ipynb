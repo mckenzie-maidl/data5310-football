{
 "cells": [
  {
   "cell_type": "markdown",
   "id": "d5eccea9",
   "metadata": {},
   "source": [
    "**DATA 5310: Data Visualization | Seattle University | Fall 2023**\n",
    "\n",
    "Samikshya Pandey, McKenzie Maidl, and Emma Oriol\n",
    "\n",
    "This file uses the cleaned 'goals' data to create visualizations focused on three topics: general game trends, team trends, and player trends."
   ]
  },
  {
   "cell_type": "code",
   "execution_count": 1,
   "id": "33d53131",
   "metadata": {},
   "outputs": [],
   "source": [
    "# libarary imports\n",
    "import pandas as pd\n",
    "import numpy as np\n",
    "import altair as alt\n",
    "import json\n",
    "import pycountry_convert as pc\n",
    "\n",
    "# enable Altair plots for more than 5,000 data points\n",
    "alt.data_transformers.enable('json')"
   ]
  },
  {
   "cell_type": "markdown",
   "id": "37ecad59",
   "metadata": {},
   "source": [
    "### Load Data"
   ]
  },
  {
   "cell_type": "code",
   "execution_count": 2,
   "id": "08adb3d8",
   "metadata": {},
   "outputs": [
    {
     "data": {
      "text/html": [
       "<div>\n",
       "<style scoped>\n",
       "    .dataframe tbody tr th:only-of-type {\n",
       "        vertical-align: middle;\n",
       "    }\n",
       "\n",
       "    .dataframe tbody tr th {\n",
       "        vertical-align: top;\n",
       "    }\n",
       "\n",
       "    .dataframe thead th {\n",
       "        text-align: right;\n",
       "    }\n",
       "</style>\n",
       "<table border=\"1\" class=\"dataframe\">\n",
       "  <thead>\n",
       "    <tr style=\"text-align: right;\">\n",
       "      <th></th>\n",
       "      <th>date</th>\n",
       "      <th>home_team</th>\n",
       "      <th>away_team</th>\n",
       "      <th>scorer_team</th>\n",
       "      <th>scorer</th>\n",
       "      <th>minute</th>\n",
       "      <th>own_goal</th>\n",
       "      <th>penalty</th>\n",
       "      <th>point_earned</th>\n",
       "      <th>home_goals</th>\n",
       "      <th>away_goals</th>\n",
       "      <th>winner</th>\n",
       "      <th>winner_team</th>\n",
       "      <th>penalty_point</th>\n",
       "      <th>home_penalties</th>\n",
       "      <th>away_penalties</th>\n",
       "    </tr>\n",
       "  </thead>\n",
       "  <tbody>\n",
       "    <tr>\n",
       "      <th>0</th>\n",
       "      <td>1916-07-02</td>\n",
       "      <td>Chile</td>\n",
       "      <td>Uruguay</td>\n",
       "      <td>Uruguay</td>\n",
       "      <td>José Piendibene</td>\n",
       "      <td>44.0</td>\n",
       "      <td>False</td>\n",
       "      <td>False</td>\n",
       "      <td>1</td>\n",
       "      <td>0</td>\n",
       "      <td>4</td>\n",
       "      <td>Uruguay</td>\n",
       "      <td>Away</td>\n",
       "      <td>0</td>\n",
       "      <td>0</td>\n",
       "      <td>0</td>\n",
       "    </tr>\n",
       "    <tr>\n",
       "      <th>1</th>\n",
       "      <td>1916-07-02</td>\n",
       "      <td>Chile</td>\n",
       "      <td>Uruguay</td>\n",
       "      <td>Uruguay</td>\n",
       "      <td>Isabelino Gradín</td>\n",
       "      <td>55.0</td>\n",
       "      <td>False</td>\n",
       "      <td>False</td>\n",
       "      <td>1</td>\n",
       "      <td>0</td>\n",
       "      <td>4</td>\n",
       "      <td>Uruguay</td>\n",
       "      <td>Away</td>\n",
       "      <td>0</td>\n",
       "      <td>0</td>\n",
       "      <td>0</td>\n",
       "    </tr>\n",
       "    <tr>\n",
       "      <th>2</th>\n",
       "      <td>1916-07-02</td>\n",
       "      <td>Chile</td>\n",
       "      <td>Uruguay</td>\n",
       "      <td>Uruguay</td>\n",
       "      <td>Isabelino Gradín</td>\n",
       "      <td>70.0</td>\n",
       "      <td>False</td>\n",
       "      <td>False</td>\n",
       "      <td>1</td>\n",
       "      <td>0</td>\n",
       "      <td>4</td>\n",
       "      <td>Uruguay</td>\n",
       "      <td>Away</td>\n",
       "      <td>0</td>\n",
       "      <td>0</td>\n",
       "      <td>0</td>\n",
       "    </tr>\n",
       "    <tr>\n",
       "      <th>3</th>\n",
       "      <td>1916-07-02</td>\n",
       "      <td>Chile</td>\n",
       "      <td>Uruguay</td>\n",
       "      <td>Uruguay</td>\n",
       "      <td>José Piendibene</td>\n",
       "      <td>75.0</td>\n",
       "      <td>False</td>\n",
       "      <td>False</td>\n",
       "      <td>1</td>\n",
       "      <td>0</td>\n",
       "      <td>4</td>\n",
       "      <td>Uruguay</td>\n",
       "      <td>Away</td>\n",
       "      <td>0</td>\n",
       "      <td>0</td>\n",
       "      <td>0</td>\n",
       "    </tr>\n",
       "    <tr>\n",
       "      <th>4</th>\n",
       "      <td>1916-07-06</td>\n",
       "      <td>Argentina</td>\n",
       "      <td>Chile</td>\n",
       "      <td>Argentina</td>\n",
       "      <td>Alberto Ohaco</td>\n",
       "      <td>2.0</td>\n",
       "      <td>False</td>\n",
       "      <td>False</td>\n",
       "      <td>1</td>\n",
       "      <td>6</td>\n",
       "      <td>1</td>\n",
       "      <td>Argentina</td>\n",
       "      <td>Home</td>\n",
       "      <td>0</td>\n",
       "      <td>2</td>\n",
       "      <td>0</td>\n",
       "    </tr>\n",
       "  </tbody>\n",
       "</table>\n",
       "</div>"
      ],
      "text/plain": [
       "         date  home_team away_team scorer_team            scorer  minute  \\\n",
       "0  1916-07-02      Chile   Uruguay     Uruguay   José Piendibene    44.0   \n",
       "1  1916-07-02      Chile   Uruguay     Uruguay  Isabelino Gradín    55.0   \n",
       "2  1916-07-02      Chile   Uruguay     Uruguay  Isabelino Gradín    70.0   \n",
       "3  1916-07-02      Chile   Uruguay     Uruguay   José Piendibene    75.0   \n",
       "4  1916-07-06  Argentina     Chile   Argentina     Alberto Ohaco     2.0   \n",
       "\n",
       "   own_goal  penalty  point_earned  home_goals  away_goals     winner  \\\n",
       "0     False    False             1           0           4    Uruguay   \n",
       "1     False    False             1           0           4    Uruguay   \n",
       "2     False    False             1           0           4    Uruguay   \n",
       "3     False    False             1           0           4    Uruguay   \n",
       "4     False    False             1           6           1  Argentina   \n",
       "\n",
       "  winner_team  penalty_point  home_penalties  away_penalties  \n",
       "0        Away              0               0               0  \n",
       "1        Away              0               0               0  \n",
       "2        Away              0               0               0  \n",
       "3        Away              0               0               0  \n",
       "4        Home              0               2               0  "
      ]
     },
     "execution_count": 2,
     "metadata": {},
     "output_type": "execute_result"
    }
   ],
   "source": [
    "# load goals data\n",
    "goals = pd.read_csv('Data/goals.csv')\n",
    "goals.head()"
   ]
  },
  {
   "cell_type": "markdown",
   "id": "11966e5d",
   "metadata": {},
   "source": [
    "### Set Theme"
   ]
  },
  {
   "cell_type": "code",
   "execution_count": 3,
   "id": "4b7e5f16",
   "metadata": {},
   "outputs": [
    {
     "data": {
      "text/plain": [
       "ThemeRegistry.enable('custom_theme')"
      ]
     },
     "execution_count": 3,
     "metadata": {},
     "output_type": "execute_result"
    }
   ],
   "source": [
    "# set custom theme\n",
    "def custom_theme():\n",
    "    return {\n",
    "        'config': {\n",
    "            'view': {\n",
    "                'height': 400,\n",
    "                'width': 600\n",
    "            },\n",
    "            \"axis\": {\n",
    "                \"labelFontSize\": 12, \n",
    "                \"titleFontSize\": 13\n",
    "            },\n",
    "            \"title\": {\n",
    "              \"fontSize\": 14\n",
    "            },\n",
    "            \"legend\": {\n",
    "              \"labelFontSize\": 12,\n",
    "              \"titleFontSize\": 13\n",
    "            },\n",
    "            'mark': {\n",
    "                'fill': '#005391'\n",
    "            }\n",
    "        }\n",
    "    }\n",
    "\n",
    "# register the custom theme under a chosen name\n",
    "alt.themes.register('custom_theme', custom_theme)\n",
    "\n",
    "# enable the newly registered theme\n",
    "alt.themes.enable('custom_theme')"
   ]
  },
  {
   "cell_type": "markdown",
   "id": "3d365b96",
   "metadata": {},
   "source": [
    "### Team Plots"
   ]
  },
  {
   "cell_type": "markdown",
   "id": "d4673806",
   "metadata": {},
   "source": [
    "The following plots explore team-level trends."
   ]
  },
  {
   "cell_type": "markdown",
   "id": "fe3f8bad",
   "metadata": {},
   "source": [
    "##### Prepare Data for Plots\n",
    "\n",
    "All teams plots use the same data sets"
   ]
  },
  {
   "cell_type": "code",
   "execution_count": 13,
   "id": "02c29e5e",
   "metadata": {},
   "outputs": [],
   "source": [
    "# group data by game\n",
    "game_cols = ['date', 'home_team', 'away_team', 'home_goals', 'away_goals', \n",
    "        'winner', 'winner_team', 'home_penalties', 'away_penalties']\n",
    "\n",
    "games = goals[game_cols].drop_duplicates()\n",
    "\n",
    "games['year'] =  games['date'].astype('datetime64[ns]').dt.year \n",
    "\n",
    "games.reset_index(drop=True, inplace=True)"
   ]
  },
  {
   "cell_type": "code",
   "execution_count": 14,
   "id": "38c306d3",
   "metadata": {},
   "outputs": [],
   "source": [
    "# group data by team\n",
    "team_cols = ['date', 'year', 'team', 'opponent', 'goals', 'opponent_goals', \n",
    "        'penalties_awarded', 'penalties_committed', 'won', 'home']\n",
    "\n",
    "# get home team data\n",
    "home_teams = games.copy()\n",
    "home_teams = home_teams.rename(columns={'home_team': 'team',\n",
    "                                        'away_team': 'opponent',\n",
    "                                        'home_goals': 'goals',\n",
    "                                        'away_goals': 'opponent_goals',\n",
    "                                        'home_penalties': 'penalties_awarded',\n",
    "                                        'away_penalties': 'penalties_committed'\n",
    "                                       })\n",
    "home_teams['won'] = np.where(home_teams['team'] == home_teams['winner'], 1, 0)\n",
    "home_teams['home'] = 1\n",
    "home_teams = home_teams[team_cols]\n",
    "\n",
    "# get away team data\n",
    "away_teams = games.copy()\n",
    "away_teams = away_teams.rename(columns={'away_team': 'team',\n",
    "                                        'home_team': 'opponent',\n",
    "                                        'away_goals': 'goals',\n",
    "                                        'home_goals': 'opponent_goals',\n",
    "                                        'away_penalties': 'penalties_awarded',\n",
    "                                        'home_penalties': 'penalties_committed'\n",
    "                                       })\n",
    "away_teams['won'] = np.where(away_teams['team'] == away_teams['winner'], 1, 0)\n",
    "away_teams['home'] = 0\n",
    "away_teams = away_teams[team_cols]\n",
    "\n",
    "# combine home and away teams\n",
    "teams = pd.concat([home_teams, away_teams], axis=0)\n",
    "teams.reset_index(drop=True, inplace=True)\n",
    "\n",
    "# get continent from country\n",
    "def get_continent(name):\n",
    "    continents = {'SA': 'South America', 'EU': 'Europe', 'NA': 'North America', \n",
    "                  'AF': 'Africa', 'AS': 'Asia', 'OC': 'Oceania', None: None}\n",
    "    try:\n",
    "        code = pc.country_name_to_country_alpha2(name)\n",
    "        cont = pc.country_alpha2_to_continent_code(code)\n",
    "        return continents[cont]\n",
    "    except: \n",
    "        pass\n",
    "\n",
    "# fill in missing data\n",
    "teams['team_continent'] = teams['team'].apply(get_continent)\n",
    "teams['team_continent'] = np.where(teams['team'].isin(['Republic of Ireland','Northern Ireland','Wales', \n",
    "                                                     'Scotland','England', 'Kosovo']), 'Europe',\n",
    "                          np.where(teams['team'].isin(['China PR', 'Timor-Leste']), 'Asia',\n",
    "                          np.where(teams['team'].isin(['DR Congo']), 'Africa', \n",
    "                          np.where(teams['team'].isin(['Tahiti']), 'Oceania', teams['team_continent']))))"
   ]
  },
  {
   "cell_type": "code",
   "execution_count": 15,
   "id": "3feabf46",
   "metadata": {},
   "outputs": [],
   "source": [
    "# team summaries for use in world map\n",
    "teams_sum = teams.copy()\n",
    "\n",
    "# get earliest/latest year\n",
    "teams_sum['min_year'] = teams_sum.groupby(['team'])['year'].transform('min')\n",
    "teams_sum['latest_year'] = teams_sum.groupby(['team'])['year'].transform('max')\n",
    "\n",
    "def bin_years(year):\n",
    "    if year < 1940:\n",
    "        return '1916-1940'\n",
    "    elif year < 1960:\n",
    "        return '1941-1960'\n",
    "    elif year < 1980:\n",
    "        return '1961-1980'\n",
    "    elif year < 2000:\n",
    "        return '1981-2000'\n",
    "    else:\n",
    "        return '2001-2023'\n",
    "    \n",
    "teams_sum['min_year_binned'] = teams_sum['min_year'].apply(bin_years)\n",
    "\n",
    "# get count games\n",
    "teams_sum['count_games'] = teams_sum.groupby(['team'])['team'].transform('count')\n",
    "\n",
    "# add ISO 3166-1 numeric codes\n",
    "iso = pd.read_csv('Data/iso_3166.csv')\n",
    "teams_sum = pd.merge(teams_sum, iso, left_on='team', right_on='name', how='left')\n",
    "\n",
    "# get subset of columns\n",
    "teams_sum.drop(columns=['date','year', 'opponent','goals','opponent_goals','penalties_awarded',\n",
    "                        'penalties_committed','won','home','name'], axis=1, inplace=True)\n",
    "\n",
    "# drop duplicates and reset index\n",
    "teams_sum.drop_duplicates(inplace=True)\n",
    "teams_sum.reset_index(drop=True, inplace=True)"
   ]
  },
  {
   "cell_type": "code",
   "execution_count": 16,
   "id": "022d641c",
   "metadata": {},
   "outputs": [],
   "source": [
    "# world topo, edited to add Kosovo\n",
    "world_topo = alt.topo_feature('Data/world_topo.json', 'countries')"
   ]
  },
  {
   "cell_type": "markdown",
   "id": "36f86b52",
   "metadata": {},
   "source": [
    "#### Plot 1: First Appearance by Team"
   ]
  },
  {
   "cell_type": "markdown",
   "id": "cee7cec1",
   "metadata": {},
   "source": [
    "##### Create Plot"
   ]
  },
  {
   "cell_type": "code",
   "execution_count": 17,
   "id": "3b88598f",
   "metadata": {},
   "outputs": [
    {
     "data": {
      "text/html": [
       "\n",
       "<style>\n",
       "  #altair-viz-7ce5f15743d04f00b53878c213e8528a.vega-embed {\n",
       "    width: 100%;\n",
       "    display: flex;\n",
       "  }\n",
       "\n",
       "  #altair-viz-7ce5f15743d04f00b53878c213e8528a.vega-embed details,\n",
       "  #altair-viz-7ce5f15743d04f00b53878c213e8528a.vega-embed details summary {\n",
       "    position: relative;\n",
       "  }\n",
       "</style>\n",
       "<div id=\"altair-viz-7ce5f15743d04f00b53878c213e8528a\"></div>\n",
       "<script type=\"text/javascript\">\n",
       "  var VEGA_DEBUG = (typeof VEGA_DEBUG == \"undefined\") ? {} : VEGA_DEBUG;\n",
       "  (function(spec, embedOpt){\n",
       "    let outputDiv = document.currentScript.previousElementSibling;\n",
       "    if (outputDiv.id !== \"altair-viz-7ce5f15743d04f00b53878c213e8528a\") {\n",
       "      outputDiv = document.getElementById(\"altair-viz-7ce5f15743d04f00b53878c213e8528a\");\n",
       "    }\n",
       "    const paths = {\n",
       "      \"vega\": \"https://cdn.jsdelivr.net/npm/vega@5?noext\",\n",
       "      \"vega-lib\": \"https://cdn.jsdelivr.net/npm/vega-lib?noext\",\n",
       "      \"vega-lite\": \"https://cdn.jsdelivr.net/npm/vega-lite@5.16.3?noext\",\n",
       "      \"vega-embed\": \"https://cdn.jsdelivr.net/npm/vega-embed@6?noext\",\n",
       "    };\n",
       "\n",
       "    function maybeLoadScript(lib, version) {\n",
       "      var key = `${lib.replace(\"-\", \"\")}_version`;\n",
       "      return (VEGA_DEBUG[key] == version) ?\n",
       "        Promise.resolve(paths[lib]) :\n",
       "        new Promise(function(resolve, reject) {\n",
       "          var s = document.createElement('script');\n",
       "          document.getElementsByTagName(\"head\")[0].appendChild(s);\n",
       "          s.async = true;\n",
       "          s.onload = () => {\n",
       "            VEGA_DEBUG[key] = version;\n",
       "            return resolve(paths[lib]);\n",
       "          };\n",
       "          s.onerror = () => reject(`Error loading script: ${paths[lib]}`);\n",
       "          s.src = paths[lib];\n",
       "        });\n",
       "    }\n",
       "\n",
       "    function showError(err) {\n",
       "      outputDiv.innerHTML = `<div class=\"error\" style=\"color:red;\">${err}</div>`;\n",
       "      throw err;\n",
       "    }\n",
       "\n",
       "    function displayChart(vegaEmbed) {\n",
       "      vegaEmbed(outputDiv, spec, embedOpt)\n",
       "        .catch(err => showError(`Javascript Error: ${err.message}<br>This usually means there's a typo in your chart specification. See the javascript console for the full traceback.`));\n",
       "    }\n",
       "\n",
       "    if(typeof define === \"function\" && define.amd) {\n",
       "      requirejs.config({paths});\n",
       "      require([\"vega-embed\"], displayChart, err => showError(`Error loading script: ${err.message}`));\n",
       "    } else {\n",
       "      maybeLoadScript(\"vega\", \"5\")\n",
       "        .then(() => maybeLoadScript(\"vega-lite\", \"5.16.3\"))\n",
       "        .then(() => maybeLoadScript(\"vega-embed\", \"6\"))\n",
       "        .catch(showError)\n",
       "        .then(() => displayChart(vegaEmbed));\n",
       "    }\n",
       "  })({\"config\": {\"view\": {\"height\": 400, \"width\": 600}, \"axis\": {\"labelFontSize\": 12, \"titleFontSize\": 13}, \"title\": {\"fontSize\": 14}, \"legend\": {\"labelFontSize\": 12, \"titleFontSize\": 13}, \"mark\": {\"fill\": \"#005391\"}}, \"data\": {\"url\": \"Data/world_topo.json\", \"format\": {\"feature\": \"countries\", \"type\": \"topojson\"}}, \"mark\": {\"type\": \"geoshape\", \"stroke\": \"white\", \"strokeWidth\": 0.5}, \"encoding\": {\"color\": {\"condition\": {\"test\": \"datum.min_year_binned != null\", \"field\": \"min_year_binned\", \"type\": \"nominal\", \"scale\": {\"domain\": [\"1916-1940\", \"1941-1960\", \"1961-1980\", \"1981-2000\", \"2001-2023\", \"No Data\"], \"range\": [\"#005391\", \"#0074cc\", \"#1a9cff\", \"#66bdff\", \"#b3deff\", \"#E0E0E0\"]}, \"title\": \"Appearance Year\"}, \"value\": \"#E0E0E0\"}}, \"height\": 350, \"projection\": {\"type\": \"naturalEarth1\"}, \"title\": \"First Appearance in Men's International Football (1916-2023)\", \"transform\": [{\"filter\": \"datum.id!=10\"}, {\"lookup\": \"id\", \"from\": {\"data\": {\"name\": \"data-2ef0699b27a5b76d79b8f7a5e792886c\"}, \"key\": \"id\", \"fields\": [\"min_year_binned\"]}}], \"width\": 750, \"$schema\": \"https://vega.github.io/schema/vega-lite/v5.16.3.json\", \"datasets\": {\"data-2ef0699b27a5b76d79b8f7a5e792886c\": [{\"team\": \"Chile\", \"team_continent\": \"South America\", \"min_year\": 1916, \"latest_year\": 2022, \"min_year_binned\": \"1916-1940\", \"count_games\": 365, \"id\": 152}, {\"team\": \"Argentina\", \"team_continent\": \"South America\", \"min_year\": 1916, \"latest_year\": 2022, \"min_year_binned\": \"1916-1940\", \"count_games\": 419, \"id\": 32}, {\"team\": \"Brazil\", \"team_continent\": \"South America\", \"min_year\": 1916, \"latest_year\": 2022, \"min_year_binned\": \"1916-1940\", \"count_games\": 440, \"id\": 76}, {\"team\": \"Uruguay\", \"team_continent\": \"South America\", \"min_year\": 1916, \"latest_year\": 2022, \"min_year_binned\": \"1916-1940\", \"count_games\": 413, \"id\": 858}, {\"team\": \"Paraguay\", \"team_continent\": \"South America\", \"min_year\": 1921, \"latest_year\": 2022, \"min_year_binned\": \"1916-1940\", \"count_games\": 346, \"id\": 600}, {\"team\": \"Bolivia\", \"team_continent\": \"South America\", \"min_year\": 1926, \"latest_year\": 2022, \"min_year_binned\": \"1916-1940\", \"count_games\": 273, \"id\": 68}, {\"team\": \"Peru\", \"team_continent\": \"South America\", \"min_year\": 1927, \"latest_year\": 2022, \"min_year_binned\": \"1916-1940\", \"count_games\": 325, \"id\": 604}, {\"team\": \"Latvia\", \"team_continent\": \"Europe\", \"min_year\": 1928, \"latest_year\": 2023, \"min_year_binned\": \"1916-1940\", \"count_games\": 223, \"id\": 428}, {\"team\": \"Estonia\", \"team_continent\": \"Europe\", \"min_year\": 1928, \"latest_year\": 2023, \"min_year_binned\": \"1916-1940\", \"count_games\": 219, \"id\": 233}, {\"team\": \"Belgium\", \"team_continent\": \"Europe\", \"min_year\": 1930, \"latest_year\": 2023, \"min_year_binned\": \"1916-1940\", \"count_games\": 334, \"id\": 56}, {\"team\": \"France\", \"team_continent\": \"Europe\", \"min_year\": 1930, \"latest_year\": 2023, \"min_year_binned\": \"1916-1940\", \"count_games\": 350, \"id\": 250}, {\"team\": \"Lithuania\", \"team_continent\": \"Europe\", \"min_year\": 1928, \"latest_year\": 2023, \"min_year_binned\": \"1916-1940\", \"count_games\": 214, \"id\": 440}, {\"team\": \"Sweden\", \"team_continent\": \"Europe\", \"min_year\": 1933, \"latest_year\": 2023, \"min_year_binned\": \"1916-1940\", \"count_games\": 329, \"id\": 752}, {\"team\": \"Serbia\", \"team_continent\": \"Europe\", \"min_year\": 1930, \"latest_year\": 2023, \"min_year_binned\": \"1916-1940\", \"count_games\": 315, \"id\": 688}, {\"team\": \"Poland\", \"team_continent\": \"Europe\", \"min_year\": 1933, \"latest_year\": 2023, \"min_year_binned\": \"1916-1940\", \"count_games\": 286, \"id\": 616}, {\"team\": \"Switzerland\", \"team_continent\": \"Europe\", \"min_year\": 1933, \"latest_year\": 2023, \"min_year_binned\": \"1916-1940\", \"count_games\": 299, \"id\": 756}, {\"team\": \"Haiti\", \"team_continent\": \"North America\", \"min_year\": 1934, \"latest_year\": 2023, \"min_year_binned\": \"1916-1940\", \"count_games\": 94, \"id\": 332}, {\"team\": \"Republic of Ireland\", \"team_continent\": \"Europe\", \"min_year\": 1934, \"latest_year\": 2023, \"min_year_binned\": \"1916-1940\", \"count_games\": 288, \"id\": 372}, {\"team\": \"Mexico\", \"team_continent\": \"North America\", \"min_year\": 1930, \"latest_year\": 2023, \"min_year_binned\": \"1916-1940\", \"count_games\": 349, \"id\": 484}, {\"team\": \"Luxembourg\", \"team_continent\": \"Europe\", \"min_year\": 1934, \"latest_year\": 2023, \"min_year_binned\": \"1916-1940\", \"count_games\": 276, \"id\": 442}, {\"team\": \"Spain\", \"team_continent\": \"Europe\", \"min_year\": 1934, \"latest_year\": 2023, \"min_year_binned\": \"1916-1940\", \"count_games\": 376, \"id\": 724}, {\"team\": \"Egypt\", \"team_continent\": \"Africa\", \"min_year\": 1934, \"latest_year\": 2022, \"min_year_binned\": \"1916-1940\", \"count_games\": 197, \"id\": 818}, {\"team\": \"Portugal\", \"team_continent\": \"Europe\", \"min_year\": 1934, \"latest_year\": 2023, \"min_year_binned\": \"1916-1940\", \"count_games\": 342, \"id\": 620}, {\"team\": \"Bulgaria\", \"team_continent\": \"Europe\", \"min_year\": 1934, \"latest_year\": 2023, \"min_year_binned\": \"1916-1940\", \"count_games\": 295, \"id\": 100}, {\"team\": \"Italy\", \"team_continent\": \"Europe\", \"min_year\": 1934, \"latest_year\": 2023, \"min_year_binned\": \"1916-1940\", \"count_games\": 353, \"id\": 380}, {\"team\": \"Israel\", \"team_continent\": \"Asia\", \"min_year\": 1934, \"latest_year\": 2023, \"min_year_binned\": \"1916-1940\", \"count_games\": 227, \"id\": 376}, {\"team\": \"Netherlands\", \"team_continent\": \"Europe\", \"min_year\": 1934, \"latest_year\": 2023, \"min_year_binned\": \"1916-1940\", \"count_games\": 350, \"id\": 528}, {\"team\": \"Austria\", \"team_continent\": \"Europe\", \"min_year\": 1934, \"latest_year\": 2023, \"min_year_binned\": \"1916-1940\", \"count_games\": 288, \"id\": 40}, {\"team\": \"Hungary\", \"team_continent\": \"Europe\", \"min_year\": 1934, \"latest_year\": 2023, \"min_year_binned\": \"1916-1940\", \"count_games\": 312, \"id\": 348}, {\"team\": \"Romania\", \"team_continent\": \"Europe\", \"min_year\": 1930, \"latest_year\": 2023, \"min_year_binned\": \"1916-1940\", \"count_games\": 299, \"id\": 642}, {\"team\": \"Slovakia\", \"team_continent\": \"Europe\", \"min_year\": 1933, \"latest_year\": 2023, \"min_year_binned\": \"1916-1940\", \"count_games\": 319, \"id\": 703}, {\"team\": \"Germany\", \"team_continent\": \"Europe\", \"min_year\": 1934, \"latest_year\": 2022, \"min_year_binned\": \"1916-1940\", \"count_games\": 473, \"id\": 276}, {\"team\": \"Finland\", \"team_continent\": \"Europe\", \"min_year\": 1937, \"latest_year\": 2023, \"min_year_binned\": \"1916-1940\", \"count_games\": 272, \"id\": 246}, {\"team\": \"Norway\", \"team_continent\": \"Europe\", \"min_year\": 1937, \"latest_year\": 2023, \"min_year_binned\": \"1916-1940\", \"count_games\": 278, \"id\": 578}, {\"team\": \"Greece\", \"team_continent\": \"Europe\", \"min_year\": 1934, \"latest_year\": 2023, \"min_year_binned\": \"1916-1940\", \"count_games\": 286, \"id\": 300}, {\"team\": \"Cuba\", \"team_continent\": \"North America\", \"min_year\": 1934, \"latest_year\": 2023, \"min_year_binned\": \"1916-1940\", \"count_games\": 84, \"id\": 192}, {\"team\": \"Ecuador\", \"team_continent\": \"South America\", \"min_year\": 1939, \"latest_year\": 2022, \"min_year_binned\": \"1916-1940\", \"count_games\": 280, \"id\": 218}, {\"team\": \"Colombia\", \"team_continent\": \"South America\", \"min_year\": 1945, \"latest_year\": 2022, \"min_year_binned\": \"1941-1960\", \"count_games\": 299, \"id\": 170}, {\"team\": \"United States\", \"team_continent\": \"North America\", \"min_year\": 1930, \"latest_year\": 2023, \"min_year_binned\": \"1916-1940\", \"count_games\": 282, \"id\": 840}, {\"team\": \"Northern Ireland\", \"team_continent\": \"Europe\", \"min_year\": 1949, \"latest_year\": 2023, \"min_year_binned\": \"1941-1960\", \"count_games\": 269, \"id\": 826}, {\"team\": \"Wales\", \"team_continent\": \"Europe\", \"min_year\": 1949, \"latest_year\": 2023, \"min_year_binned\": \"1941-1960\", \"count_games\": 265, \"id\": 826}, {\"team\": \"Scotland\", \"team_continent\": \"Europe\", \"min_year\": 1949, \"latest_year\": 2023, \"min_year_binned\": \"1941-1960\", \"count_games\": 289, \"id\": 826}, {\"team\": \"England\", \"team_continent\": \"Europe\", \"min_year\": 1949, \"latest_year\": 2023, \"min_year_binned\": \"1941-1960\", \"count_games\": 325, \"id\": 826}, {\"team\": \"Turkey\", \"team_continent\": \"Asia\", \"min_year\": 1949, \"latest_year\": 2023, \"min_year_binned\": \"1941-1960\", \"count_games\": 293, \"id\": 792}, {\"team\": \"Japan\", \"team_continent\": \"Asia\", \"min_year\": 1954, \"latest_year\": 2022, \"min_year_binned\": \"1941-1960\", \"count_games\": 216, \"id\": 392}, {\"team\": \"South Korea\", \"team_continent\": \"Asia\", \"min_year\": 1954, \"latest_year\": 2022, \"min_year_binned\": \"1941-1960\", \"count_games\": 233, \"id\": 410}, {\"team\": \"Hong Kong\", \"team_continent\": \"Asia\", \"min_year\": 1956, \"latest_year\": 2021, \"min_year_binned\": \"1941-1960\", \"count_games\": 83, \"id\": 344}, {\"team\": \"Guatemala\", \"team_continent\": \"North America\", \"min_year\": 1957, \"latest_year\": 2023, \"min_year_binned\": \"1941-1960\", \"count_games\": 110, \"id\": 320}, {\"team\": \"Sudan\", \"team_continent\": \"Africa\", \"min_year\": 1957, \"latest_year\": 2022, \"min_year_binned\": \"1941-1960\", \"count_games\": 88, \"id\": 729}, {\"team\": \"Costa Rica\", \"team_continent\": \"North America\", \"min_year\": 1957, \"latest_year\": 2023, \"min_year_binned\": \"1941-1960\", \"count_games\": 240, \"id\": 188}, {\"team\": \"Indonesia\", \"team_continent\": \"Asia\", \"min_year\": 1938, \"latest_year\": 2021, \"min_year_binned\": \"1916-1940\", \"count_games\": 85, \"id\": 360}, {\"team\": \"Denmark\", \"team_continent\": \"Europe\", \"min_year\": 1956, \"latest_year\": 2023, \"min_year_binned\": \"1941-1960\", \"count_games\": 315, \"id\": 208}, {\"team\": \"Syria\", \"team_continent\": \"Asia\", \"min_year\": 1949, \"latest_year\": 2022, \"min_year_binned\": \"1941-1960\", \"count_games\": 111, \"id\": 760}, {\"team\": \"China PR\", \"team_continent\": \"Asia\", \"min_year\": 1957, \"latest_year\": 2022, \"min_year_binned\": \"1941-1960\", \"count_games\": 170, \"id\": 156}, {\"team\": \"Canada\", \"team_continent\": \"North America\", \"min_year\": 1957, \"latest_year\": 2023, \"min_year_binned\": \"1941-1960\", \"count_games\": 150, \"id\": 124}, {\"team\": \"Russia\", \"team_continent\": \"Europe\", \"min_year\": 1957, \"latest_year\": 2021, \"min_year_binned\": \"1941-1960\", \"count_games\": 324, \"id\": 643}, {\"team\": \"Cura\\u00e7ao\", \"team_continent\": \"North America\", \"min_year\": 1957, \"latest_year\": 2021, \"min_year_binned\": \"1941-1960\", \"count_games\": 48, \"id\": 531}, {\"team\": \"Iceland\", \"team_continent\": \"Europe\", \"min_year\": 1957, \"latest_year\": 2023, \"min_year_binned\": \"1941-1960\", \"count_games\": 243, \"id\": 352}, {\"team\": \"Ethiopia\", \"team_continent\": \"Africa\", \"min_year\": 1957, \"latest_year\": 2022, \"min_year_binned\": \"1941-1960\", \"count_games\": 74, \"id\": 231}, {\"team\": \"Ghana\", \"team_continent\": \"Africa\", \"min_year\": 1960, \"latest_year\": 2022, \"min_year_binned\": \"1961-1980\", \"count_games\": 189, \"id\": 288}, {\"team\": \"Honduras\", \"team_continent\": \"North America\", \"min_year\": 1960, \"latest_year\": 2023, \"min_year_binned\": \"1961-1980\", \"count_games\": 189, \"id\": 340}, {\"team\": \"Nigeria\", \"team_continent\": \"Africa\", \"min_year\": 1960, \"latest_year\": 2022, \"min_year_binned\": \"1961-1980\", \"count_games\": 212, \"id\": 566}, {\"team\": \"Suriname\", \"team_continent\": \"South America\", \"min_year\": 1960, \"latest_year\": 2021, \"min_year_binned\": \"1961-1980\", \"count_games\": 45, \"id\": 740}, {\"team\": \"Taiwan\", \"team_continent\": \"Asia\", \"min_year\": 1960, \"latest_year\": 2021, \"min_year_binned\": \"1961-1980\", \"count_games\": 69, \"id\": 158}, {\"team\": \"Morocco\", \"team_continent\": \"Africa\", \"min_year\": 1960, \"latest_year\": 2022, \"min_year_binned\": \"1961-1980\", \"count_games\": 180, \"id\": 504}, {\"team\": \"Cyprus\", \"team_continent\": \"Asia\", \"min_year\": 1960, \"latest_year\": 2023, \"min_year_binned\": \"1961-1980\", \"count_games\": 257, \"id\": 196}, {\"team\": \"Tunisia\", \"team_continent\": \"Africa\", \"min_year\": 1960, \"latest_year\": 2022, \"min_year_binned\": \"1961-1980\", \"count_games\": 187, \"id\": 788}, {\"team\": \"Malta\", \"team_continent\": \"Europe\", \"min_year\": 1962, \"latest_year\": 2023, \"min_year_binned\": \"1961-1980\", \"count_games\": 240, \"id\": 470}, {\"team\": \"Albania\", \"team_continent\": \"Europe\", \"min_year\": 1963, \"latest_year\": 2023, \"min_year_binned\": \"1961-1980\", \"count_games\": 222, \"id\": 8}, {\"team\": \"India\", \"team_continent\": \"Asia\", \"min_year\": 1964, \"latest_year\": 2021, \"min_year_binned\": \"1961-1980\", \"count_games\": 59, \"id\": 356}, {\"team\": \"Jamaica\", \"team_continent\": \"North America\", \"min_year\": 1965, \"latest_year\": 2023, \"min_year_binned\": \"1961-1980\", \"count_games\": 162, \"id\": 388}, {\"team\": \"Trinidad and Tobago\", \"team_continent\": \"North America\", \"min_year\": 1965, \"latest_year\": 2023, \"min_year_binned\": \"1961-1980\", \"count_games\": 137, \"id\": 780}, {\"team\": \"Venezuela\", \"team_continent\": \"South America\", \"min_year\": 1965, \"latest_year\": 2022, \"min_year_binned\": \"1961-1980\", \"count_games\": 214, \"id\": 862}, {\"team\": \"DR Congo\", \"team_continent\": \"Africa\", \"min_year\": 1965, \"latest_year\": 2022, \"min_year_binned\": \"1961-1980\", \"count_games\": 145, \"id\": 180}, {\"team\": \"C\\u00f4te d'Ivoire\", \"team_continent\": \"Africa\", \"min_year\": 1965, \"latest_year\": 2022, \"min_year_binned\": \"1961-1980\", \"count_games\": 171, \"id\": 384}, {\"team\": \"North Korea\", \"team_continent\": \"Asia\", \"min_year\": 1965, \"latest_year\": 2019, \"min_year_binned\": \"1961-1980\", \"count_games\": 97, \"id\": 408}, {\"team\": \"Australia\", \"team_continent\": \"Oceania\", \"min_year\": 1965, \"latest_year\": 2022, \"min_year_binned\": \"1961-1980\", \"count_games\": 223, \"id\": 36}, {\"team\": \"Algeria\", \"team_continent\": \"Africa\", \"min_year\": 1968, \"latest_year\": 2022, \"min_year_binned\": \"1961-1980\", \"count_games\": 164, \"id\": 12}, {\"team\": \"Congo\", \"team_continent\": \"Africa\", \"min_year\": 1968, \"latest_year\": 2021, \"min_year_binned\": \"1961-1980\", \"count_games\": 88, \"id\": 178}, {\"team\": \"Iran\", \"team_continent\": \"Asia\", \"min_year\": 1968, \"latest_year\": 2022, \"min_year_binned\": \"1961-1980\", \"count_games\": 207, \"id\": 364}, {\"team\": \"Myanmar\", \"team_continent\": \"Asia\", \"min_year\": 1968, \"latest_year\": 2021, \"min_year_binned\": \"1961-1980\", \"count_games\": 25, \"id\": 104}, {\"team\": \"Zambia\", \"team_continent\": \"Africa\", \"min_year\": 1968, \"latest_year\": 2021, \"min_year_binned\": \"1961-1980\", \"count_games\": 152, \"id\": 894}, {\"team\": \"Bermuda\", \"team_continent\": \"North America\", \"min_year\": 1968, \"latest_year\": 2021, \"min_year_binned\": \"1961-1980\", \"count_games\": 39, \"id\": 60}, {\"team\": \"El Salvador\", \"team_continent\": \"North America\", \"min_year\": 1968, \"latest_year\": 2023, \"min_year_binned\": \"1961-1980\", \"count_games\": 157, \"id\": 222}, {\"team\": \"Cameroon\", \"team_continent\": \"Africa\", \"min_year\": 1968, \"latest_year\": 2022, \"min_year_binned\": \"1961-1980\", \"count_games\": 197, \"id\": 120}, {\"team\": \"Senegal\", \"team_continent\": \"Africa\", \"min_year\": 1965, \"latest_year\": 2022, \"min_year_binned\": \"1961-1980\", \"count_games\": 132, \"id\": 686}, {\"team\": \"Libya\", \"team_continent\": \"Africa\", \"min_year\": 1969, \"latest_year\": 2021, \"min_year_binned\": \"1961-1980\", \"count_games\": 62, \"id\": 434}, {\"team\": \"Zimbabwe\", \"team_continent\": \"Africa\", \"min_year\": 1969, \"latest_year\": 2022, \"min_year_binned\": \"1961-1980\", \"count_games\": 75, \"id\": 716}, {\"team\": \"Mali\", \"team_continent\": \"Africa\", \"min_year\": 1972, \"latest_year\": 2022, \"min_year_binned\": \"1961-1980\", \"count_games\": 92, \"id\": 466}, {\"team\": \"Kenya\", \"team_continent\": \"Africa\", \"min_year\": 1972, \"latest_year\": 2021, \"min_year_binned\": \"1961-1980\", \"count_games\": 79, \"id\": 404}, {\"team\": \"Guinea\", \"team_continent\": \"Africa\", \"min_year\": 1970, \"latest_year\": 2022, \"min_year_binned\": \"1961-1980\", \"count_games\": 122, \"id\": 324}, {\"team\": \"Thailand\", \"team_continent\": \"Asia\", \"min_year\": 1972, \"latest_year\": 2021, \"min_year_binned\": \"1961-1980\", \"count_games\": 114, \"id\": 764}, {\"team\": \"Cambodia\", \"team_continent\": \"Asia\", \"min_year\": 1972, \"latest_year\": 2021, \"min_year_binned\": \"1961-1980\", \"count_games\": 41, \"id\": 116}, {\"team\": \"Benin\", \"team_continent\": \"Africa\", \"min_year\": 1972, \"latest_year\": 2021, \"min_year_binned\": \"1961-1980\", \"count_games\": 62, \"id\": 204}, {\"team\": \"Sierra Leone\", \"team_continent\": \"Africa\", \"min_year\": 1972, \"latest_year\": 2022, \"min_year_binned\": \"1961-1980\", \"count_games\": 50, \"id\": 694}, {\"team\": \"Tanzania\", \"team_continent\": \"Africa\", \"min_year\": 1972, \"latest_year\": 2021, \"min_year_binned\": \"1961-1980\", \"count_games\": 45, \"id\": 834}, {\"team\": \"Mauritius\", \"team_continent\": \"Africa\", \"min_year\": 1972, \"latest_year\": 2019, \"min_year_binned\": \"1961-1980\", \"count_games\": 22, \"id\": 480}, {\"team\": \"New Caledonia\", \"team_continent\": \"Oceania\", \"min_year\": 1973, \"latest_year\": 2022, \"min_year_binned\": \"1961-1980\", \"count_games\": 42, \"id\": 540}, {\"team\": \"New Zealand\", \"team_continent\": \"Oceania\", \"min_year\": 1969, \"latest_year\": 2022, \"min_year_binned\": \"1961-1980\", \"count_games\": 132, \"id\": 554}, {\"team\": \"Fiji\", \"team_continent\": \"Oceania\", \"min_year\": 1973, \"latest_year\": 2022, \"min_year_binned\": \"1961-1980\", \"count_games\": 60, \"id\": 242}, {\"team\": \"Vanuatu\", \"team_continent\": \"Oceania\", \"min_year\": 1973, \"latest_year\": 2016, \"min_year_binned\": \"1961-1980\", \"count_games\": 50, \"id\": 548}, {\"team\": \"Iraq\", \"team_continent\": \"Asia\", \"min_year\": 1972, \"latest_year\": 2022, \"min_year_binned\": \"1961-1980\", \"count_games\": 151, \"id\": 368}, {\"team\": \"Vietnam\", \"team_continent\": \"Asia\", \"min_year\": 1956, \"latest_year\": 2022, \"min_year_binned\": \"1941-1960\", \"count_games\": 70, \"id\": 704}, {\"team\": \"Uganda\", \"team_continent\": \"Africa\", \"min_year\": 1962, \"latest_year\": 2021, \"min_year_binned\": \"1961-1980\", \"count_games\": 66, \"id\": 800}, {\"team\": \"Burkina Faso\", \"team_continent\": \"Africa\", \"min_year\": 1976, \"latest_year\": 2022, \"min_year_binned\": \"1961-1980\", \"count_games\": 105, \"id\": 854}, {\"team\": \"Niger\", \"team_continent\": \"Africa\", \"min_year\": 1976, \"latest_year\": 2021, \"min_year_binned\": \"1961-1980\", \"count_games\": 37, \"id\": 562}, {\"team\": \"Mauritania\", \"team_continent\": \"Africa\", \"min_year\": 1976, \"latest_year\": 2022, \"min_year_binned\": \"1961-1980\", \"count_games\": 26, \"id\": 478}, {\"team\": \"Malawi\", \"team_continent\": \"Africa\", \"min_year\": 1976, \"latest_year\": 2022, \"min_year_binned\": \"1961-1980\", \"count_games\": 68, \"id\": 454}, {\"team\": \"Kuwait\", \"team_continent\": \"Asia\", \"min_year\": 1972, \"latest_year\": 2021, \"min_year_binned\": \"1961-1980\", \"count_games\": 130, \"id\": 414}, {\"team\": \"Togo\", \"team_continent\": \"Africa\", \"min_year\": 1972, \"latest_year\": 2021, \"min_year_binned\": \"1961-1980\", \"count_games\": 90, \"id\": 768}, {\"team\": \"Saudi Arabia\", \"team_continent\": \"Asia\", \"min_year\": 1976, \"latest_year\": 2022, \"min_year_binned\": \"1961-1980\", \"count_games\": 191, \"id\": 682}, {\"team\": \"Singapore\", \"team_continent\": \"Asia\", \"min_year\": 1977, \"latest_year\": 2021, \"min_year_binned\": \"1961-1980\", \"count_games\": 76, \"id\": 702}, {\"team\": \"Malaysia\", \"team_continent\": \"Asia\", \"min_year\": 1973, \"latest_year\": 2021, \"min_year_binned\": \"1961-1980\", \"count_games\": 68, \"id\": 458}, {\"team\": \"Bahrain\", \"team_continent\": \"Asia\", \"min_year\": 1977, \"latest_year\": 2021, \"min_year_binned\": \"1961-1980\", \"count_games\": 104, \"id\": 48}, {\"team\": \"Qatar\", \"team_continent\": \"Asia\", \"min_year\": 1977, \"latest_year\": 2023, \"min_year_binned\": \"1961-1980\", \"count_games\": 162, \"id\": 634}, {\"team\": \"Solomon Islands\", \"team_continent\": \"Oceania\", \"min_year\": 1980, \"latest_year\": 2022, \"min_year_binned\": \"1981-2000\", \"count_games\": 63, \"id\": 90}, {\"team\": \"Lesotho\", \"team_continent\": \"Africa\", \"min_year\": 1972, \"latest_year\": 2019, \"min_year_binned\": \"1961-1980\", \"count_games\": 21, \"id\": 426}, {\"team\": \"Mozambique\", \"team_continent\": \"Africa\", \"min_year\": 1980, \"latest_year\": 2021, \"min_year_binned\": \"1981-2000\", \"count_games\": 50, \"id\": 508}, {\"team\": \"Somalia\", \"team_continent\": \"Africa\", \"min_year\": 1980, \"latest_year\": 2019, \"min_year_binned\": \"1981-2000\", \"count_games\": 11, \"id\": 706}, {\"team\": \"Bangladesh\", \"team_continent\": \"Asia\", \"min_year\": 1980, \"latest_year\": 2021, \"min_year_binned\": \"1981-2000\", \"count_games\": 59, \"id\": 50}, {\"team\": \"United Arab Emirates\", \"team_continent\": \"Asia\", \"min_year\": 1980, \"latest_year\": 2022, \"min_year_binned\": \"1981-2000\", \"count_games\": 150, \"id\": 784}, {\"team\": \"Madagascar\", \"team_continent\": \"Africa\", \"min_year\": 1980, \"latest_year\": 2021, \"min_year_binned\": \"1981-2000\", \"count_games\": 45, \"id\": 450}, {\"team\": \"Angola\", \"team_continent\": \"Africa\", \"min_year\": 1984, \"latest_year\": 2021, \"min_year_binned\": \"1981-2000\", \"count_games\": 83, \"id\": 24}, {\"team\": \"Gambia\", \"team_continent\": \"Africa\", \"min_year\": 1980, \"latest_year\": 2022, \"min_year_binned\": \"1981-2000\", \"count_games\": 29, \"id\": 270}, {\"team\": \"Liberia\", \"team_continent\": \"Africa\", \"min_year\": 1980, \"latest_year\": 2021, \"min_year_binned\": \"1981-2000\", \"count_games\": 63, \"id\": 430}, {\"team\": \"Macau\", \"team_continent\": \"Asia\", \"min_year\": 1980, \"latest_year\": 2019, \"min_year_binned\": \"1981-2000\", \"count_games\": 36, \"id\": 446}, {\"team\": \"Brunei\", \"team_continent\": \"Asia\", \"min_year\": 1985, \"latest_year\": 2019, \"min_year_binned\": \"1981-2000\", \"count_games\": 16, \"id\": 96}, {\"team\": \"Nepal\", \"team_continent\": \"Asia\", \"min_year\": 1985, \"latest_year\": 2021, \"min_year_binned\": \"1981-2000\", \"count_games\": 36, \"id\": 524}, {\"team\": \"Jordan\", \"team_continent\": \"Asia\", \"min_year\": 1985, \"latest_year\": 2021, \"min_year_binned\": \"1981-2000\", \"count_games\": 85, \"id\": 400}, {\"team\": \"Yemen\", \"team_continent\": \"Asia\", \"min_year\": 1976, \"latest_year\": 2021, \"min_year_binned\": \"1961-1980\", \"count_games\": 61, \"id\": 887}, {\"team\": \"Oman\", \"team_continent\": \"Asia\", \"min_year\": 1989, \"latest_year\": 2022, \"min_year_binned\": \"1981-2000\", \"count_games\": 91, \"id\": 512}, {\"team\": \"Pakistan\", \"team_continent\": \"Asia\", \"min_year\": 1989, \"latest_year\": 2019, \"min_year_binned\": \"1981-2000\", \"count_games\": 29, \"id\": 586}, {\"team\": \"Gabon\", \"team_continent\": \"Africa\", \"min_year\": 1989, \"latest_year\": 2022, \"min_year_binned\": \"1981-2000\", \"count_games\": 78, \"id\": 266}, {\"team\": \"Faroe Islands\", \"team_continent\": \"Europe\", \"min_year\": 1990, \"latest_year\": 2023, \"min_year_binned\": \"1981-2000\", \"count_games\": 179, \"id\": 234}, {\"team\": \"San Marino\", \"team_continent\": \"Europe\", \"min_year\": 1990, \"latest_year\": 2023, \"min_year_binned\": \"1981-2000\", \"count_games\": 172, \"id\": 674}, {\"team\": \"Dominican Republic\", \"team_continent\": \"North America\", \"min_year\": 1992, \"latest_year\": 2021, \"min_year_binned\": \"1981-2000\", \"count_games\": 29, \"id\": 214}, {\"team\": \"Saint Lucia\", \"team_continent\": \"North America\", \"min_year\": 1992, \"latest_year\": 2015, \"min_year_binned\": \"1981-2000\", \"count_games\": 24, \"id\": 662}, {\"team\": \"Puerto Rico\", \"team_continent\": \"North America\", \"min_year\": 1992, \"latest_year\": 2021, \"min_year_binned\": \"1981-2000\", \"count_games\": 21, \"id\": 630}, {\"team\": \"Saint Vincent and the Grenadines\", \"team_continent\": \"North America\", \"min_year\": 1992, \"latest_year\": 2021, \"min_year_binned\": \"1981-2000\", \"count_games\": 62, \"id\": 670}, {\"team\": \"Barbados\", \"team_continent\": \"North America\", \"min_year\": 1992, \"latest_year\": 2021, \"min_year_binned\": \"1981-2000\", \"count_games\": 37, \"id\": 52}, {\"team\": \"Guyana\", \"team_continent\": \"South America\", \"min_year\": 1992, \"latest_year\": 2021, \"min_year_binned\": \"1981-2000\", \"count_games\": 29, \"id\": 328}, {\"team\": \"Antigua and Barbuda\", \"team_continent\": \"North America\", \"min_year\": 1992, \"latest_year\": 2021, \"min_year_binned\": \"1981-2000\", \"count_games\": 36, \"id\": 28}, {\"team\": \"Nicaragua\", \"team_continent\": \"North America\", \"min_year\": 1992, \"latest_year\": 2021, \"min_year_binned\": \"1981-2000\", \"count_games\": 34, \"id\": 558}, {\"team\": \"Panama\", \"team_continent\": \"North America\", \"min_year\": 1992, \"latest_year\": 2023, \"min_year_binned\": \"1981-2000\", \"count_games\": 140, \"id\": 591}, {\"team\": \"Tahiti\", \"team_continent\": \"Oceania\", \"min_year\": 1973, \"latest_year\": 2022, \"min_year_binned\": \"1961-1980\", \"count_games\": 65, \"id\": 258}, {\"team\": \"Burundi\", \"team_continent\": \"Africa\", \"min_year\": 1992, \"latest_year\": 2019, \"min_year_binned\": \"1981-2000\", \"count_games\": 22, \"id\": 108}, {\"team\": \"Eswatini\", \"team_continent\": \"Africa\", \"min_year\": 1992, \"latest_year\": 2019, \"min_year_binned\": \"1981-2000\", \"count_games\": 17, \"id\": 748}, {\"team\": \"Namibia\", \"team_continent\": \"Africa\", \"min_year\": 1992, \"latest_year\": 2021, \"min_year_binned\": \"1981-2000\", \"count_games\": 57, \"id\": 516}, {\"team\": \"South Africa\", \"team_continent\": \"Africa\", \"min_year\": 1992, \"latest_year\": 2021, \"min_year_binned\": \"1981-2000\", \"count_games\": 111, \"id\": 710}, {\"team\": \"Botswana\", \"team_continent\": \"Africa\", \"min_year\": 1992, \"latest_year\": 2019, \"min_year_binned\": \"1981-2000\", \"count_games\": 34, \"id\": 72}, {\"team\": \"Sri Lanka\", \"team_continent\": \"Asia\", \"min_year\": 1993, \"latest_year\": 2021, \"min_year_binned\": \"1981-2000\", \"count_games\": 38, \"id\": 144}, {\"team\": \"Czech Republic\", \"team_continent\": \"Europe\", \"min_year\": 1993, \"latest_year\": 2023, \"min_year_binned\": \"1981-2000\", \"count_games\": 194, \"id\": 203}, {\"team\": \"Lebanon\", \"team_continent\": \"Asia\", \"min_year\": 1993, \"latest_year\": 2022, \"min_year_binned\": \"1981-2000\", \"count_games\": 72, \"id\": 422}, {\"team\": \"Georgia\", \"team_continent\": \"Asia\", \"min_year\": 1994, \"latest_year\": 2023, \"min_year_binned\": \"1981-2000\", \"count_games\": 149, \"id\": 268}, {\"team\": \"Liechtenstein\", \"team_continent\": \"Europe\", \"min_year\": 1994, \"latest_year\": 2023, \"min_year_binned\": \"1981-2000\", \"count_games\": 157, \"id\": 438}, {\"team\": \"North Macedonia\", \"team_continent\": \"Europe\", \"min_year\": 1994, \"latest_year\": 2023, \"min_year_binned\": \"1981-2000\", \"count_games\": 163, \"id\": 807}, {\"team\": \"Slovenia\", \"team_continent\": \"Europe\", \"min_year\": 1994, \"latest_year\": 2023, \"min_year_binned\": \"1981-2000\", \"count_games\": 173, \"id\": 705}, {\"team\": \"Ukraine\", \"team_continent\": \"Europe\", \"min_year\": 1994, \"latest_year\": 2023, \"min_year_binned\": \"1981-2000\", \"count_games\": 162, \"id\": 804}, {\"team\": \"Croatia\", \"team_continent\": \"Europe\", \"min_year\": 1994, \"latest_year\": 2023, \"min_year_binned\": \"1981-2000\", \"count_games\": 199, \"id\": 191}, {\"team\": \"Belarus\", \"team_continent\": \"Europe\", \"min_year\": 1994, \"latest_year\": 2023, \"min_year_binned\": \"1981-2000\", \"count_games\": 144, \"id\": 112}, {\"team\": \"Moldova\", \"team_continent\": \"Europe\", \"min_year\": 1994, \"latest_year\": 2023, \"min_year_binned\": \"1981-2000\", \"count_games\": 152, \"id\": 498}, {\"team\": \"Azerbaijan\", \"team_continent\": \"Asia\", \"min_year\": 1994, \"latest_year\": 2023, \"min_year_binned\": \"1981-2000\", \"count_games\": 146, \"id\": 31}, {\"team\": \"Armenia\", \"team_continent\": \"Asia\", \"min_year\": 1994, \"latest_year\": 2023, \"min_year_binned\": \"1981-2000\", \"count_games\": 153, \"id\": 51}, {\"team\": \"Dominica\", \"team_continent\": \"North America\", \"min_year\": 1996, \"latest_year\": 2021, \"min_year_binned\": \"1981-2000\", \"count_games\": 23, \"id\": 212}, {\"team\": \"Aruba\", \"team_continent\": \"North America\", \"min_year\": 1996, \"latest_year\": 2021, \"min_year_binned\": \"1981-2000\", \"count_games\": 19, \"id\": 533}, {\"team\": \"Grenada\", \"team_continent\": \"North America\", \"min_year\": 1996, \"latest_year\": 2021, \"min_year_binned\": \"1981-2000\", \"count_games\": 36, \"id\": 308}, {\"team\": \"Saint Kitts and Nevis\", \"team_continent\": \"North America\", \"min_year\": 1996, \"latest_year\": 2023, \"min_year_binned\": \"1981-2000\", \"count_games\": 36, \"id\": 659}, {\"team\": \"Cayman Islands\", \"team_continent\": \"North America\", \"min_year\": 1996, \"latest_year\": 2021, \"min_year_binned\": \"1981-2000\", \"count_games\": 18, \"id\": 136}, {\"team\": \"Guinea-Bissau\", \"team_continent\": \"Africa\", \"min_year\": 1996, \"latest_year\": 2022, \"min_year_binned\": \"1981-2000\", \"count_games\": 23, \"id\": 624}, {\"team\": \"Belize\", \"team_continent\": \"North America\", \"min_year\": 1996, \"latest_year\": 2021, \"min_year_binned\": \"1981-2000\", \"count_games\": 30, \"id\": 84}, {\"team\": \"Rwanda\", \"team_continent\": \"Africa\", \"min_year\": 1996, \"latest_year\": 2021, \"min_year_binned\": \"1981-2000\", \"count_games\": 46, \"id\": 646}, {\"team\": \"Papua New Guinea\", \"team_continent\": \"Oceania\", \"min_year\": 1980, \"latest_year\": 2022, \"min_year_binned\": \"1981-2000\", \"count_games\": 30, \"id\": 598}, {\"team\": \"Philippines\", \"team_continent\": \"Asia\", \"min_year\": 1996, \"latest_year\": 2021, \"min_year_binned\": \"1981-2000\", \"count_games\": 30, \"id\": 608}, {\"team\": \"Bosnia and Herzegovina\", \"team_continent\": \"Europe\", \"min_year\": 1996, \"latest_year\": 2023, \"min_year_binned\": \"1981-2000\", \"count_games\": 152, \"id\": 70}, {\"team\": \"Tonga\", \"team_continent\": \"Oceania\", \"min_year\": 1996, \"latest_year\": 2015, \"min_year_binned\": \"1981-2000\", \"count_games\": 18, \"id\": 776}, {\"team\": \"Samoa\", \"team_continent\": \"Oceania\", \"min_year\": 1996, \"latest_year\": 2016, \"min_year_binned\": \"1981-2000\", \"count_games\": 22, \"id\": 882}, {\"team\": \"Uzbekistan\", \"team_continent\": \"Asia\", \"min_year\": 1996, \"latest_year\": 2021, \"min_year_binned\": \"1981-2000\", \"count_games\": 125, \"id\": 860}, {\"team\": \"Tajikistan\", \"team_continent\": \"Asia\", \"min_year\": 1997, \"latest_year\": 2021, \"min_year_binned\": \"1981-2000\", \"count_games\": 40, \"id\": 762}, {\"team\": \"Turkmenistan\", \"team_continent\": \"Asia\", \"min_year\": 1997, \"latest_year\": 2021, \"min_year_binned\": \"1981-2000\", \"count_games\": 51, \"id\": 795}, {\"team\": \"Kazakhstan\", \"team_continent\": \"Asia\", \"min_year\": 1997, \"latest_year\": 2023, \"min_year_binned\": \"1981-2000\", \"count_games\": 134, \"id\": 398}, {\"team\": \"Maldives\", \"team_continent\": \"Asia\", \"min_year\": 1997, \"latest_year\": 2021, \"min_year_binned\": \"1981-2000\", \"count_games\": 39, \"id\": 462}, {\"team\": \"Kyrgyzstan\", \"team_continent\": \"Asia\", \"min_year\": 1997, \"latest_year\": 2021, \"min_year_binned\": \"1981-2000\", \"count_games\": 42, \"id\": 417}, {\"team\": \"Andorra\", \"team_continent\": \"Europe\", \"min_year\": 1998, \"latest_year\": 2023, \"min_year_binned\": \"1981-2000\", \"count_games\": 141, \"id\": 20}, {\"team\": \"Anguilla\", \"team_continent\": \"North America\", \"min_year\": 2000, \"latest_year\": 2021, \"min_year_binned\": \"2001-2023\", \"count_games\": 13, \"id\": 660}, {\"team\": \"British Virgin Islands\", \"team_continent\": \"North America\", \"min_year\": 2000, \"latest_year\": 2021, \"min_year_binned\": \"2001-2023\", \"count_games\": 13, \"id\": 92}, {\"team\": \"Bahamas\", \"team_continent\": \"North America\", \"min_year\": 2000, \"latest_year\": 2021, \"min_year_binned\": \"2001-2023\", \"count_games\": 17, \"id\": 44}, {\"team\": \"Montserrat\", \"team_continent\": \"North America\", \"min_year\": 2000, \"latest_year\": 2021, \"min_year_binned\": \"2001-2023\", \"count_games\": 13, \"id\": 500}, {\"team\": \"United States Virgin Islands\", \"team_continent\": \"North America\", \"min_year\": 2000, \"latest_year\": 2021, \"min_year_binned\": \"2001-2023\", \"count_games\": 19, \"id\": 850}, {\"team\": \"Djibouti\", \"team_continent\": \"Africa\", \"min_year\": 2000, \"latest_year\": 2021, \"min_year_binned\": \"2001-2023\", \"count_games\": 20, \"id\": 262}, {\"team\": \"Central African Republic\", \"team_continent\": \"Africa\", \"min_year\": 2000, \"latest_year\": 2021, \"min_year_binned\": \"2001-2023\", \"count_games\": 16, \"id\": 140}, {\"team\": \"Seychelles\", \"team_continent\": \"Africa\", \"min_year\": 2000, \"latest_year\": 2019, \"min_year_binned\": \"2001-2023\", \"count_games\": 16, \"id\": 690}, {\"team\": \"S\\u00e3o Tom\\u00e9 and Pr\\u00edncipe\", \"team_continent\": \"Africa\", \"min_year\": 2000, \"latest_year\": 2019, \"min_year_binned\": \"2001-2023\", \"count_games\": 10, \"id\": 678}, {\"team\": \"Chad\", \"team_continent\": \"Africa\", \"min_year\": 2000, \"latest_year\": 2019, \"min_year_binned\": \"2001-2023\", \"count_games\": 16, \"id\": 148}, {\"team\": \"Equatorial Guinea\", \"team_continent\": \"Africa\", \"min_year\": 2000, \"latest_year\": 2022, \"min_year_binned\": \"2001-2023\", \"count_games\": 38, \"id\": 226}, {\"team\": \"Mongolia\", \"team_continent\": \"Asia\", \"min_year\": 2001, \"latest_year\": 2021, \"min_year_binned\": \"2001-2023\", \"count_games\": 22, \"id\": 496}, {\"team\": \"Palestine\", \"team_continent\": \"Asia\", \"min_year\": 2001, \"latest_year\": 2021, \"min_year_binned\": \"2001-2023\", \"count_games\": 33, \"id\": 275}, {\"team\": \"American Samoa\", \"team_continent\": \"Oceania\", \"min_year\": 2001, \"latest_year\": 2015, \"min_year_binned\": \"2001-2023\", \"count_games\": 14, \"id\": 16}, {\"team\": \"Laos\", \"team_continent\": \"Asia\", \"min_year\": 2001, \"latest_year\": 2019, \"min_year_binned\": \"2001-2023\", \"count_games\": 25, \"id\": 418}, {\"team\": \"Cook Islands\", \"team_continent\": \"Oceania\", \"min_year\": 1996, \"latest_year\": 2022, \"min_year_binned\": \"1981-2000\", \"count_games\": 21, \"id\": 184}, {\"team\": \"Martinique\", \"team_continent\": \"North America\", \"min_year\": 1993, \"latest_year\": 2023, \"min_year_binned\": \"1981-2000\", \"count_games\": 23, \"id\": 474}, {\"team\": \"Cabo Verde\", \"team_continent\": \"Africa\", \"min_year\": 2000, \"latest_year\": 2022, \"min_year_binned\": \"2001-2023\", \"count_games\": 44, \"id\": 132}, {\"team\": \"Afghanistan\", \"team_continent\": \"Asia\", \"min_year\": 2003, \"latest_year\": 2021, \"min_year_binned\": \"2001-2023\", \"count_games\": 22, \"id\": 4}, {\"team\": \"Turks and Caicos Islands\", \"team_continent\": \"North America\", \"min_year\": 2000, \"latest_year\": 2021, \"min_year_binned\": \"2001-2023\", \"count_games\": 13, \"id\": 796}, {\"team\": \"Guadeloupe\", \"team_continent\": \"North America\", \"min_year\": 2007, \"latest_year\": 2023, \"min_year_binned\": \"2001-2023\", \"count_games\": 18, \"id\": 312}, {\"team\": \"Timor-Leste\", \"team_continent\": \"Asia\", \"min_year\": 2007, \"latest_year\": 2019, \"min_year_binned\": \"2001-2023\", \"count_games\": 10, \"id\": 626}, {\"team\": \"Comoros\", \"team_continent\": \"Africa\", \"min_year\": 2007, \"latest_year\": 2022, \"min_year_binned\": \"2001-2023\", \"count_games\": 12, \"id\": 174}, {\"team\": \"Montenegro\", \"team_continent\": \"Europe\", \"min_year\": 2008, \"latest_year\": 2023, \"min_year_binned\": \"2001-2023\", \"count_games\": 83, \"id\": 499}, {\"team\": \"Eritrea\", \"team_continent\": \"Africa\", \"min_year\": 2000, \"latest_year\": 2019, \"min_year_binned\": \"2001-2023\", \"count_games\": 8, \"id\": 232}, {\"team\": \"Gibraltar\", \"team_continent\": \"Europe\", \"min_year\": 2014, \"latest_year\": 2023, \"min_year_binned\": \"2001-2023\", \"count_games\": 61, \"id\": 292}, {\"team\": \"Bhutan\", \"team_continent\": \"Asia\", \"min_year\": 2015, \"latest_year\": 2019, \"min_year_binned\": \"2001-2023\", \"count_games\": 12, \"id\": 64}, {\"team\": \"Guam\", \"team_continent\": \"Oceania\", \"min_year\": 2000, \"latest_year\": 2021, \"min_year_binned\": \"2001-2023\", \"count_games\": 19, \"id\": 316}, {\"team\": \"South Sudan\", \"team_continent\": \"Africa\", \"min_year\": 2015, \"latest_year\": 2019, \"min_year_binned\": \"2001-2023\", \"count_games\": 4, \"id\": 728}, {\"team\": \"Kosovo\", \"team_continent\": \"Europe\", \"min_year\": 2016, \"latest_year\": 2023, \"min_year_binned\": \"2001-2023\", \"count_games\": 52, \"id\": 999}, {\"team\": \"French Guiana\", \"team_continent\": \"South America\", \"min_year\": 2017, \"latest_year\": 2017, \"min_year_binned\": \"2001-2023\", \"count_games\": 2, \"id\": 254}]}}, {\"mode\": \"vega-lite\"});\n",
       "</script>"
      ],
      "text/plain": [
       "alt.Chart(...)"
      ]
     },
     "execution_count": 17,
     "metadata": {},
     "output_type": "execute_result"
    }
   ],
   "source": [
    "# plot 1\n",
    "domain = ['1916-1940', '1941-1960', '1961-1980', '1981-2000', '2001-2023', 'No Data']\n",
    "colors = ['#005391', '#0074cc', '#1a9cff', '#66bdff', '#b3deff', '#E0E0E0']\n",
    "\n",
    "# world countries\n",
    "teams1 = alt.Chart(world_topo).mark_geoshape(\n",
    "        stroke='white', strokeWidth=0.5\n",
    "    ).transform_filter(\n",
    "        # remove Antarctica\n",
    "        'datum.id!=10'\n",
    "    ).project(\n",
    "        type='naturalEarth1'\n",
    "    ).transform_lookup(\n",
    "        lookup='id', from_=alt.LookupData(data=teams_sum, key='id', fields=['min_year_binned'])\n",
    "    ).encode(\n",
    "        color = alt.condition('datum.min_year_binned != null', 'min_year_binned:N', alt.value('#E0E0E0'), \n",
    "                              scale=alt.Scale(domain=domain, range=colors),\n",
    "                              title='Appearance Year')\n",
    "    ).properties(\n",
    "        height=350,\n",
    "        width=750,\n",
    "        title = \"First Appearance in Men's International Football (1916-2023)\"\n",
    "    )\n",
    "\n",
    "teams1"
   ]
  },
  {
   "cell_type": "markdown",
   "id": "264d9697",
   "metadata": {},
   "source": [
    "#### Plot 2: Teams with Highest Percent of Wins by Year"
   ]
  },
  {
   "cell_type": "markdown",
   "id": "8efb852c",
   "metadata": {},
   "source": [
    "##### Create Plot"
   ]
  },
  {
   "cell_type": "code",
   "execution_count": 18,
   "id": "69d71c4c",
   "metadata": {},
   "outputs": [
    {
     "ename": "MaxRowsError",
     "evalue": "The number of rows in your dataset is greater than the maximum allowed (5000).\n\nTry enabling the VegaFusion data transformer which raises this limit by pre-evaluating data\ntransformations in Python.\n    >> import altair as alt\n    >> alt.data_transformers.enable(\"vegafusion\")\n\nOr, see https://altair-viz.github.io/user_guide/large_datasets.html for additional information\non how to plot large datasets.",
     "output_type": "error",
     "traceback": [
      "\u001b[0;31m---------------------------------------------------------------------------\u001b[0m",
      "\u001b[0;31mMaxRowsError\u001b[0m                              Traceback (most recent call last)",
      "File \u001b[0;32m~/opt/anaconda3/lib/python3.9/site-packages/altair/vegalite/v5/api.py:950\u001b[0m, in \u001b[0;36mTopLevelMixin.to_dict\u001b[0;34m(self, validate, format, ignore, context)\u001b[0m\n\u001b[1;32m    948\u001b[0m copy \u001b[38;5;241m=\u001b[39m \u001b[38;5;28mself\u001b[39m\u001b[38;5;241m.\u001b[39mcopy(deep\u001b[38;5;241m=\u001b[39m\u001b[38;5;28;01mFalse\u001b[39;00m)  \u001b[38;5;66;03m# type: ignore[attr-defined]\u001b[39;00m\n\u001b[1;32m    949\u001b[0m original_data \u001b[38;5;241m=\u001b[39m \u001b[38;5;28mgetattr\u001b[39m(copy, \u001b[38;5;124m\"\u001b[39m\u001b[38;5;124mdata\u001b[39m\u001b[38;5;124m\"\u001b[39m, Undefined)\n\u001b[0;32m--> 950\u001b[0m copy\u001b[38;5;241m.\u001b[39mdata \u001b[38;5;241m=\u001b[39m \u001b[43m_prepare_data\u001b[49m\u001b[43m(\u001b[49m\u001b[43moriginal_data\u001b[49m\u001b[43m,\u001b[49m\u001b[43m \u001b[49m\u001b[43mcontext\u001b[49m\u001b[43m)\u001b[49m\n\u001b[1;32m    952\u001b[0m \u001b[38;5;28;01mif\u001b[39;00m original_data \u001b[38;5;129;01mis\u001b[39;00m \u001b[38;5;129;01mnot\u001b[39;00m Undefined:\n\u001b[1;32m    953\u001b[0m     context[\u001b[38;5;124m\"\u001b[39m\u001b[38;5;124mdata\u001b[39m\u001b[38;5;124m\"\u001b[39m] \u001b[38;5;241m=\u001b[39m original_data\n",
      "File \u001b[0;32m~/opt/anaconda3/lib/python3.9/site-packages/altair/vegalite/v5/api.py:111\u001b[0m, in \u001b[0;36m_prepare_data\u001b[0;34m(data, context)\u001b[0m\n\u001b[1;32m    109\u001b[0m \u001b[38;5;66;03m# convert dataframes  or objects with __geo_interface__ to dict\u001b[39;00m\n\u001b[1;32m    110\u001b[0m \u001b[38;5;28;01melif\u001b[39;00m \u001b[38;5;28misinstance\u001b[39m(data, pd\u001b[38;5;241m.\u001b[39mDataFrame) \u001b[38;5;129;01mor\u001b[39;00m \u001b[38;5;28mhasattr\u001b[39m(data, \u001b[38;5;124m\"\u001b[39m\u001b[38;5;124m__geo_interface__\u001b[39m\u001b[38;5;124m\"\u001b[39m):\n\u001b[0;32m--> 111\u001b[0m     data \u001b[38;5;241m=\u001b[39m \u001b[43m_pipe\u001b[49m\u001b[43m(\u001b[49m\u001b[43mdata\u001b[49m\u001b[43m,\u001b[49m\u001b[43m \u001b[49m\u001b[43mdata_transformers\u001b[49m\u001b[38;5;241;43m.\u001b[39;49m\u001b[43mget\u001b[49m\u001b[43m(\u001b[49m\u001b[43m)\u001b[49m\u001b[43m)\u001b[49m\n\u001b[1;32m    113\u001b[0m \u001b[38;5;66;03m# convert string input to a URLData\u001b[39;00m\n\u001b[1;32m    114\u001b[0m \u001b[38;5;28;01melif\u001b[39;00m \u001b[38;5;28misinstance\u001b[39m(data, \u001b[38;5;28mstr\u001b[39m):\n",
      "File \u001b[0;32m~/opt/anaconda3/lib/python3.9/site-packages/toolz/functoolz.py:630\u001b[0m, in \u001b[0;36mpipe\u001b[0;34m(data, *funcs)\u001b[0m\n\u001b[1;32m    610\u001b[0m \u001b[38;5;124;03m\"\"\" Pipe a value through a sequence of functions\u001b[39;00m\n\u001b[1;32m    611\u001b[0m \n\u001b[1;32m    612\u001b[0m \u001b[38;5;124;03mI.e. ``pipe(data, f, g, h)`` is equivalent to ``h(g(f(data)))``\u001b[39;00m\n\u001b[0;32m   (...)\u001b[0m\n\u001b[1;32m    627\u001b[0m \u001b[38;5;124;03m    thread_last\u001b[39;00m\n\u001b[1;32m    628\u001b[0m \u001b[38;5;124;03m\"\"\"\u001b[39;00m\n\u001b[1;32m    629\u001b[0m \u001b[38;5;28;01mfor\u001b[39;00m func \u001b[38;5;129;01min\u001b[39;00m funcs:\n\u001b[0;32m--> 630\u001b[0m     data \u001b[38;5;241m=\u001b[39m \u001b[43mfunc\u001b[49m\u001b[43m(\u001b[49m\u001b[43mdata\u001b[49m\u001b[43m)\u001b[49m\n\u001b[1;32m    631\u001b[0m \u001b[38;5;28;01mreturn\u001b[39;00m data\n",
      "File \u001b[0;32m~/opt/anaconda3/lib/python3.9/site-packages/toolz/functoolz.py:306\u001b[0m, in \u001b[0;36mcurry.__call__\u001b[0;34m(self, *args, **kwargs)\u001b[0m\n\u001b[1;32m    304\u001b[0m \u001b[38;5;28;01mdef\u001b[39;00m \u001b[38;5;21m__call__\u001b[39m(\u001b[38;5;28mself\u001b[39m, \u001b[38;5;241m*\u001b[39margs, \u001b[38;5;241m*\u001b[39m\u001b[38;5;241m*\u001b[39mkwargs):\n\u001b[1;32m    305\u001b[0m     \u001b[38;5;28;01mtry\u001b[39;00m:\n\u001b[0;32m--> 306\u001b[0m         \u001b[38;5;28;01mreturn\u001b[39;00m \u001b[38;5;28;43mself\u001b[39;49m\u001b[38;5;241;43m.\u001b[39;49m\u001b[43m_partial\u001b[49m\u001b[43m(\u001b[49m\u001b[38;5;241;43m*\u001b[39;49m\u001b[43margs\u001b[49m\u001b[43m,\u001b[49m\u001b[43m \u001b[49m\u001b[38;5;241;43m*\u001b[39;49m\u001b[38;5;241;43m*\u001b[39;49m\u001b[43mkwargs\u001b[49m\u001b[43m)\u001b[49m\n\u001b[1;32m    307\u001b[0m     \u001b[38;5;28;01mexcept\u001b[39;00m \u001b[38;5;167;01mTypeError\u001b[39;00m \u001b[38;5;28;01mas\u001b[39;00m exc:\n\u001b[1;32m    308\u001b[0m         \u001b[38;5;28;01mif\u001b[39;00m \u001b[38;5;28mself\u001b[39m\u001b[38;5;241m.\u001b[39m_should_curry(args, kwargs, exc):\n",
      "File \u001b[0;32m~/opt/anaconda3/lib/python3.9/site-packages/altair/vegalite/data.py:23\u001b[0m, in \u001b[0;36mdefault_data_transformer\u001b[0;34m(data, max_rows)\u001b[0m\n\u001b[1;32m     19\u001b[0m \u001b[38;5;129m@curried\u001b[39m\u001b[38;5;241m.\u001b[39mcurry\n\u001b[1;32m     20\u001b[0m \u001b[38;5;28;01mdef\u001b[39;00m \u001b[38;5;21mdefault_data_transformer\u001b[39m(\n\u001b[1;32m     21\u001b[0m     data: DataType, max_rows: \u001b[38;5;28mint\u001b[39m \u001b[38;5;241m=\u001b[39m \u001b[38;5;241m5000\u001b[39m\n\u001b[1;32m     22\u001b[0m ) \u001b[38;5;241m-\u001b[39m\u001b[38;5;241m>\u001b[39m ToValuesReturnType:\n\u001b[0;32m---> 23\u001b[0m     \u001b[38;5;28;01mreturn\u001b[39;00m \u001b[43mcurried\u001b[49m\u001b[38;5;241;43m.\u001b[39;49m\u001b[43mpipe\u001b[49m\u001b[43m(\u001b[49m\u001b[43mdata\u001b[49m\u001b[43m,\u001b[49m\u001b[43m \u001b[49m\u001b[43mlimit_rows\u001b[49m\u001b[43m(\u001b[49m\u001b[43mmax_rows\u001b[49m\u001b[38;5;241;43m=\u001b[39;49m\u001b[43mmax_rows\u001b[49m\u001b[43m)\u001b[49m\u001b[43m,\u001b[49m\u001b[43m \u001b[49m\u001b[43mto_values\u001b[49m\u001b[43m)\u001b[49m\n",
      "File \u001b[0;32m~/opt/anaconda3/lib/python3.9/site-packages/toolz/functoolz.py:630\u001b[0m, in \u001b[0;36mpipe\u001b[0;34m(data, *funcs)\u001b[0m\n\u001b[1;32m    610\u001b[0m \u001b[38;5;124;03m\"\"\" Pipe a value through a sequence of functions\u001b[39;00m\n\u001b[1;32m    611\u001b[0m \n\u001b[1;32m    612\u001b[0m \u001b[38;5;124;03mI.e. ``pipe(data, f, g, h)`` is equivalent to ``h(g(f(data)))``\u001b[39;00m\n\u001b[0;32m   (...)\u001b[0m\n\u001b[1;32m    627\u001b[0m \u001b[38;5;124;03m    thread_last\u001b[39;00m\n\u001b[1;32m    628\u001b[0m \u001b[38;5;124;03m\"\"\"\u001b[39;00m\n\u001b[1;32m    629\u001b[0m \u001b[38;5;28;01mfor\u001b[39;00m func \u001b[38;5;129;01min\u001b[39;00m funcs:\n\u001b[0;32m--> 630\u001b[0m     data \u001b[38;5;241m=\u001b[39m \u001b[43mfunc\u001b[49m\u001b[43m(\u001b[49m\u001b[43mdata\u001b[49m\u001b[43m)\u001b[49m\n\u001b[1;32m    631\u001b[0m \u001b[38;5;28;01mreturn\u001b[39;00m data\n",
      "File \u001b[0;32m~/opt/anaconda3/lib/python3.9/site-packages/toolz/functoolz.py:306\u001b[0m, in \u001b[0;36mcurry.__call__\u001b[0;34m(self, *args, **kwargs)\u001b[0m\n\u001b[1;32m    304\u001b[0m \u001b[38;5;28;01mdef\u001b[39;00m \u001b[38;5;21m__call__\u001b[39m(\u001b[38;5;28mself\u001b[39m, \u001b[38;5;241m*\u001b[39margs, \u001b[38;5;241m*\u001b[39m\u001b[38;5;241m*\u001b[39mkwargs):\n\u001b[1;32m    305\u001b[0m     \u001b[38;5;28;01mtry\u001b[39;00m:\n\u001b[0;32m--> 306\u001b[0m         \u001b[38;5;28;01mreturn\u001b[39;00m \u001b[38;5;28;43mself\u001b[39;49m\u001b[38;5;241;43m.\u001b[39;49m\u001b[43m_partial\u001b[49m\u001b[43m(\u001b[49m\u001b[38;5;241;43m*\u001b[39;49m\u001b[43margs\u001b[49m\u001b[43m,\u001b[49m\u001b[43m \u001b[49m\u001b[38;5;241;43m*\u001b[39;49m\u001b[38;5;241;43m*\u001b[39;49m\u001b[43mkwargs\u001b[49m\u001b[43m)\u001b[49m\n\u001b[1;32m    307\u001b[0m     \u001b[38;5;28;01mexcept\u001b[39;00m \u001b[38;5;167;01mTypeError\u001b[39;00m \u001b[38;5;28;01mas\u001b[39;00m exc:\n\u001b[1;32m    308\u001b[0m         \u001b[38;5;28;01mif\u001b[39;00m \u001b[38;5;28mself\u001b[39m\u001b[38;5;241m.\u001b[39m_should_curry(args, kwargs, exc):\n",
      "File \u001b[0;32m~/opt/anaconda3/lib/python3.9/site-packages/altair/utils/data.py:118\u001b[0m, in \u001b[0;36mlimit_rows\u001b[0;34m(data, max_rows)\u001b[0m\n\u001b[1;32m    115\u001b[0m     \u001b[38;5;28;01mreturn\u001b[39;00m pa_table\n\u001b[1;32m    117\u001b[0m \u001b[38;5;28;01mif\u001b[39;00m max_rows \u001b[38;5;129;01mis\u001b[39;00m \u001b[38;5;129;01mnot\u001b[39;00m \u001b[38;5;28;01mNone\u001b[39;00m \u001b[38;5;129;01mand\u001b[39;00m \u001b[38;5;28mlen\u001b[39m(values) \u001b[38;5;241m>\u001b[39m max_rows:\n\u001b[0;32m--> 118\u001b[0m     \u001b[43mraise_max_rows_error\u001b[49m\u001b[43m(\u001b[49m\u001b[43m)\u001b[49m\n\u001b[1;32m    120\u001b[0m \u001b[38;5;28;01mreturn\u001b[39;00m data\n",
      "File \u001b[0;32m~/opt/anaconda3/lib/python3.9/site-packages/altair/utils/data.py:81\u001b[0m, in \u001b[0;36mlimit_rows.<locals>.raise_max_rows_error\u001b[0;34m()\u001b[0m\n\u001b[1;32m     80\u001b[0m \u001b[38;5;28;01mdef\u001b[39;00m \u001b[38;5;21mraise_max_rows_error\u001b[39m():\n\u001b[0;32m---> 81\u001b[0m     \u001b[38;5;28;01mraise\u001b[39;00m MaxRowsError(\n\u001b[1;32m     82\u001b[0m         \u001b[38;5;124m\"\u001b[39m\u001b[38;5;124mThe number of rows in your dataset is greater \u001b[39m\u001b[38;5;124m\"\u001b[39m\n\u001b[1;32m     83\u001b[0m         \u001b[38;5;124mf\u001b[39m\u001b[38;5;124m\"\u001b[39m\u001b[38;5;124mthan the maximum allowed (\u001b[39m\u001b[38;5;132;01m{\u001b[39;00mmax_rows\u001b[38;5;132;01m}\u001b[39;00m\u001b[38;5;124m).\u001b[39m\u001b[38;5;130;01m\\n\u001b[39;00m\u001b[38;5;130;01m\\n\u001b[39;00m\u001b[38;5;124m\"\u001b[39m\n\u001b[1;32m     84\u001b[0m         \u001b[38;5;124m\"\u001b[39m\u001b[38;5;124mTry enabling the VegaFusion data transformer which \u001b[39m\u001b[38;5;124m\"\u001b[39m\n\u001b[1;32m     85\u001b[0m         \u001b[38;5;124m\"\u001b[39m\u001b[38;5;124mraises this limit by pre-evaluating data\u001b[39m\u001b[38;5;130;01m\\n\u001b[39;00m\u001b[38;5;124m\"\u001b[39m\n\u001b[1;32m     86\u001b[0m         \u001b[38;5;124m\"\u001b[39m\u001b[38;5;124mtransformations in Python.\u001b[39m\u001b[38;5;130;01m\\n\u001b[39;00m\u001b[38;5;124m\"\u001b[39m\n\u001b[1;32m     87\u001b[0m         \u001b[38;5;124m\"\u001b[39m\u001b[38;5;124m    >> import altair as alt\u001b[39m\u001b[38;5;130;01m\\n\u001b[39;00m\u001b[38;5;124m\"\u001b[39m\n\u001b[1;32m     88\u001b[0m         \u001b[38;5;124m'\u001b[39m\u001b[38;5;124m    >> alt.data_transformers.enable(\u001b[39m\u001b[38;5;124m\"\u001b[39m\u001b[38;5;124mvegafusion\u001b[39m\u001b[38;5;124m\"\u001b[39m\u001b[38;5;124m)\u001b[39m\u001b[38;5;130;01m\\n\u001b[39;00m\u001b[38;5;130;01m\\n\u001b[39;00m\u001b[38;5;124m'\u001b[39m\n\u001b[1;32m     89\u001b[0m         \u001b[38;5;124m\"\u001b[39m\u001b[38;5;124mOr, see https://altair-viz.github.io/user_guide/large_datasets.html \u001b[39m\u001b[38;5;124m\"\u001b[39m\n\u001b[1;32m     90\u001b[0m         \u001b[38;5;124m\"\u001b[39m\u001b[38;5;124mfor additional information\u001b[39m\u001b[38;5;130;01m\\n\u001b[39;00m\u001b[38;5;124m\"\u001b[39m\n\u001b[1;32m     91\u001b[0m         \u001b[38;5;124m\"\u001b[39m\u001b[38;5;124mon how to plot large datasets.\u001b[39m\u001b[38;5;124m\"\u001b[39m\n\u001b[1;32m     92\u001b[0m     )\n",
      "\u001b[0;31mMaxRowsError\u001b[0m: The number of rows in your dataset is greater than the maximum allowed (5000).\n\nTry enabling the VegaFusion data transformer which raises this limit by pre-evaluating data\ntransformations in Python.\n    >> import altair as alt\n    >> alt.data_transformers.enable(\"vegafusion\")\n\nOr, see https://altair-viz.github.io/user_guide/large_datasets.html for additional information\non how to plot large datasets."
     ]
    },
    {
     "data": {
      "text/plain": [
       "alt.HConcatChart(...)"
      ]
     },
     "execution_count": 18,
     "metadata": {},
     "output_type": "execute_result"
    }
   ],
   "source": [
    "domain = ['Africa', 'Asia', 'Europe', 'North America', 'South America', 'Multiple']\n",
    "colors = ['#4c78a8', '#f58518', '#e45756', '#72b7b2', '#54a24b', '#b279a2']\n",
    "\n",
    "base = alt.Chart(teams).mark_bar(\n",
    "    ).transform_aggregate(\n",
    "        # count of games and wins by team/year\n",
    "        count_games='count(won)',\n",
    "        count_wins='sum(won)',\n",
    "        groupby=['team', 'year', 'team_continent']\n",
    "    ).transform_window(\n",
    "        # max game count by year\n",
    "        max_games='max(count_games)',\n",
    "        frame=[None, None],\n",
    "        groupby=['year']\n",
    "    ).transform_calculate(\n",
    "        # mid-point for max games\n",
    "        mid='datum.max_games/2',\n",
    "        # win-rate\n",
    "        prop_win='datum.count_wins/datum.count_games'\n",
    "    ).transform_filter(\n",
    "        # teams that played most games per year\n",
    "        'datum.count_games >= datum.mid'\n",
    "    ).transform_window(\n",
    "        # team(s) with highest win-rate\n",
    "        max_prop='max(prop_win)',\n",
    "        frame=[None, None],\n",
    "        groupby=['year']\n",
    "    ).transform_filter(\n",
    "        # filter out teams without highest win-rate\n",
    "        'datum.prop_win == datum.max_prop'\n",
    "    ).transform_joinaggregate(\n",
    "        # max games for teams with highest win-rates\n",
    "        count_games_max='max(count_games)',\n",
    "        groupby=['year']\n",
    "    ).transform_filter(\n",
    "        # when there is a tie, take the team who played the most games\n",
    "        'datum.count_games == datum.count_games_max'\n",
    "    ).transform_calculate(\n",
    "        # 1996 and 2018 still have a tie\n",
    "        team_continent_calc='(datum.year != 1996 & datum.year != 2018) ? datum.team_continent : \"Multiple\"',\n",
    "    ).encode(\n",
    "        alt.Y('year:O', title='Year', \n",
    "              axis=alt.Axis(values=[1920, 1925, 1930, 1935, 1939, 1945, 1950, 1955, 1960, 1965,\n",
    "                                    1970, 1975, 1980, 1985, 1990, 1995, 2000, 2005, 2010, 2015, 2020])),\n",
    "        alt.X('mean(max_prop):Q', title='Percent Games Won',\n",
    "              axis=alt.Axis(format='%')),\n",
    "        alt.Color('team_continent_calc:N', title='Team Continent', \n",
    "                  scale=alt.Scale(domain=domain, range=colors),\n",
    "                  legend=alt.Legend(orient='right'))\n",
    "    ).properties(\n",
    "        height=500,\n",
    "        width=200\n",
    "    )\n",
    "\n",
    "# split into two columns for better sizing\n",
    "bars1 = base.transform_filter('datum.year <= 1974')\n",
    "bars2 = base.transform_filter('datum.year > 1974').encode(alt.Y('year:O', title=None))\n",
    "\n",
    "# add team names to chart\n",
    "countries = base.mark_text(align='left', fontSize=11).transform_window(\n",
    "        t = 'min(team)',\n",
    "        t2 = 'max(team)',\n",
    "        frame=[None, None],\n",
    "        groupby=['year']\n",
    "    ).transform_calculate(\n",
    "        text = 'datum.t == datum.t2 ? datum.t : datum.t + \"/\" + datum.t2'\n",
    "    ).encode(x=alt.value(202), text=alt.Text('text:N'))\n",
    "\n",
    "countries1 = countries.transform_filter('datum.year <= 1974')\n",
    "countries2 = countries.transform_filter('datum.year > 1974')\n",
    "\n",
    "teams2 = alt.hconcat(bars1 + countries1, \n",
    "                     bars2 + countries2,  \n",
    "                     title=alt.Title(\n",
    "                           text='Teams with Highest Percent of Wins by Year',\n",
    "                           subtitle='Including Only Teams that Played at Least Median Count Games by Year',\n",
    "                           anchor='middle')\n",
    "                    )\n",
    "teams2"
   ]
  },
  {
   "cell_type": "markdown",
   "id": "f5a1dd31",
   "metadata": {},
   "source": [
    "#### Plot 3: Penalties by Team"
   ]
  },
  {
   "cell_type": "markdown",
   "id": "8415a35c",
   "metadata": {},
   "source": [
    "##### Create Plot"
   ]
  },
  {
   "cell_type": "code",
   "execution_count": 19,
   "id": "202f0eb3",
   "metadata": {},
   "outputs": [
    {
     "ename": "MaxRowsError",
     "evalue": "The number of rows in your dataset is greater than the maximum allowed (5000).\n\nTry enabling the VegaFusion data transformer which raises this limit by pre-evaluating data\ntransformations in Python.\n    >> import altair as alt\n    >> alt.data_transformers.enable(\"vegafusion\")\n\nOr, see https://altair-viz.github.io/user_guide/large_datasets.html for additional information\non how to plot large datasets.",
     "output_type": "error",
     "traceback": [
      "\u001b[0;31m---------------------------------------------------------------------------\u001b[0m",
      "\u001b[0;31mMaxRowsError\u001b[0m                              Traceback (most recent call last)",
      "File \u001b[0;32m~/opt/anaconda3/lib/python3.9/site-packages/altair/vegalite/v5/api.py:950\u001b[0m, in \u001b[0;36mTopLevelMixin.to_dict\u001b[0;34m(self, validate, format, ignore, context)\u001b[0m\n\u001b[1;32m    948\u001b[0m copy \u001b[38;5;241m=\u001b[39m \u001b[38;5;28mself\u001b[39m\u001b[38;5;241m.\u001b[39mcopy(deep\u001b[38;5;241m=\u001b[39m\u001b[38;5;28;01mFalse\u001b[39;00m)  \u001b[38;5;66;03m# type: ignore[attr-defined]\u001b[39;00m\n\u001b[1;32m    949\u001b[0m original_data \u001b[38;5;241m=\u001b[39m \u001b[38;5;28mgetattr\u001b[39m(copy, \u001b[38;5;124m\"\u001b[39m\u001b[38;5;124mdata\u001b[39m\u001b[38;5;124m\"\u001b[39m, Undefined)\n\u001b[0;32m--> 950\u001b[0m copy\u001b[38;5;241m.\u001b[39mdata \u001b[38;5;241m=\u001b[39m \u001b[43m_prepare_data\u001b[49m\u001b[43m(\u001b[49m\u001b[43moriginal_data\u001b[49m\u001b[43m,\u001b[49m\u001b[43m \u001b[49m\u001b[43mcontext\u001b[49m\u001b[43m)\u001b[49m\n\u001b[1;32m    952\u001b[0m \u001b[38;5;28;01mif\u001b[39;00m original_data \u001b[38;5;129;01mis\u001b[39;00m \u001b[38;5;129;01mnot\u001b[39;00m Undefined:\n\u001b[1;32m    953\u001b[0m     context[\u001b[38;5;124m\"\u001b[39m\u001b[38;5;124mdata\u001b[39m\u001b[38;5;124m\"\u001b[39m] \u001b[38;5;241m=\u001b[39m original_data\n",
      "File \u001b[0;32m~/opt/anaconda3/lib/python3.9/site-packages/altair/vegalite/v5/api.py:111\u001b[0m, in \u001b[0;36m_prepare_data\u001b[0;34m(data, context)\u001b[0m\n\u001b[1;32m    109\u001b[0m \u001b[38;5;66;03m# convert dataframes  or objects with __geo_interface__ to dict\u001b[39;00m\n\u001b[1;32m    110\u001b[0m \u001b[38;5;28;01melif\u001b[39;00m \u001b[38;5;28misinstance\u001b[39m(data, pd\u001b[38;5;241m.\u001b[39mDataFrame) \u001b[38;5;129;01mor\u001b[39;00m \u001b[38;5;28mhasattr\u001b[39m(data, \u001b[38;5;124m\"\u001b[39m\u001b[38;5;124m__geo_interface__\u001b[39m\u001b[38;5;124m\"\u001b[39m):\n\u001b[0;32m--> 111\u001b[0m     data \u001b[38;5;241m=\u001b[39m \u001b[43m_pipe\u001b[49m\u001b[43m(\u001b[49m\u001b[43mdata\u001b[49m\u001b[43m,\u001b[49m\u001b[43m \u001b[49m\u001b[43mdata_transformers\u001b[49m\u001b[38;5;241;43m.\u001b[39;49m\u001b[43mget\u001b[49m\u001b[43m(\u001b[49m\u001b[43m)\u001b[49m\u001b[43m)\u001b[49m\n\u001b[1;32m    113\u001b[0m \u001b[38;5;66;03m# convert string input to a URLData\u001b[39;00m\n\u001b[1;32m    114\u001b[0m \u001b[38;5;28;01melif\u001b[39;00m \u001b[38;5;28misinstance\u001b[39m(data, \u001b[38;5;28mstr\u001b[39m):\n",
      "File \u001b[0;32m~/opt/anaconda3/lib/python3.9/site-packages/toolz/functoolz.py:630\u001b[0m, in \u001b[0;36mpipe\u001b[0;34m(data, *funcs)\u001b[0m\n\u001b[1;32m    610\u001b[0m \u001b[38;5;124;03m\"\"\" Pipe a value through a sequence of functions\u001b[39;00m\n\u001b[1;32m    611\u001b[0m \n\u001b[1;32m    612\u001b[0m \u001b[38;5;124;03mI.e. ``pipe(data, f, g, h)`` is equivalent to ``h(g(f(data)))``\u001b[39;00m\n\u001b[0;32m   (...)\u001b[0m\n\u001b[1;32m    627\u001b[0m \u001b[38;5;124;03m    thread_last\u001b[39;00m\n\u001b[1;32m    628\u001b[0m \u001b[38;5;124;03m\"\"\"\u001b[39;00m\n\u001b[1;32m    629\u001b[0m \u001b[38;5;28;01mfor\u001b[39;00m func \u001b[38;5;129;01min\u001b[39;00m funcs:\n\u001b[0;32m--> 630\u001b[0m     data \u001b[38;5;241m=\u001b[39m \u001b[43mfunc\u001b[49m\u001b[43m(\u001b[49m\u001b[43mdata\u001b[49m\u001b[43m)\u001b[49m\n\u001b[1;32m    631\u001b[0m \u001b[38;5;28;01mreturn\u001b[39;00m data\n",
      "File \u001b[0;32m~/opt/anaconda3/lib/python3.9/site-packages/toolz/functoolz.py:306\u001b[0m, in \u001b[0;36mcurry.__call__\u001b[0;34m(self, *args, **kwargs)\u001b[0m\n\u001b[1;32m    304\u001b[0m \u001b[38;5;28;01mdef\u001b[39;00m \u001b[38;5;21m__call__\u001b[39m(\u001b[38;5;28mself\u001b[39m, \u001b[38;5;241m*\u001b[39margs, \u001b[38;5;241m*\u001b[39m\u001b[38;5;241m*\u001b[39mkwargs):\n\u001b[1;32m    305\u001b[0m     \u001b[38;5;28;01mtry\u001b[39;00m:\n\u001b[0;32m--> 306\u001b[0m         \u001b[38;5;28;01mreturn\u001b[39;00m \u001b[38;5;28;43mself\u001b[39;49m\u001b[38;5;241;43m.\u001b[39;49m\u001b[43m_partial\u001b[49m\u001b[43m(\u001b[49m\u001b[38;5;241;43m*\u001b[39;49m\u001b[43margs\u001b[49m\u001b[43m,\u001b[49m\u001b[43m \u001b[49m\u001b[38;5;241;43m*\u001b[39;49m\u001b[38;5;241;43m*\u001b[39;49m\u001b[43mkwargs\u001b[49m\u001b[43m)\u001b[49m\n\u001b[1;32m    307\u001b[0m     \u001b[38;5;28;01mexcept\u001b[39;00m \u001b[38;5;167;01mTypeError\u001b[39;00m \u001b[38;5;28;01mas\u001b[39;00m exc:\n\u001b[1;32m    308\u001b[0m         \u001b[38;5;28;01mif\u001b[39;00m \u001b[38;5;28mself\u001b[39m\u001b[38;5;241m.\u001b[39m_should_curry(args, kwargs, exc):\n",
      "File \u001b[0;32m~/opt/anaconda3/lib/python3.9/site-packages/altair/vegalite/data.py:23\u001b[0m, in \u001b[0;36mdefault_data_transformer\u001b[0;34m(data, max_rows)\u001b[0m\n\u001b[1;32m     19\u001b[0m \u001b[38;5;129m@curried\u001b[39m\u001b[38;5;241m.\u001b[39mcurry\n\u001b[1;32m     20\u001b[0m \u001b[38;5;28;01mdef\u001b[39;00m \u001b[38;5;21mdefault_data_transformer\u001b[39m(\n\u001b[1;32m     21\u001b[0m     data: DataType, max_rows: \u001b[38;5;28mint\u001b[39m \u001b[38;5;241m=\u001b[39m \u001b[38;5;241m5000\u001b[39m\n\u001b[1;32m     22\u001b[0m ) \u001b[38;5;241m-\u001b[39m\u001b[38;5;241m>\u001b[39m ToValuesReturnType:\n\u001b[0;32m---> 23\u001b[0m     \u001b[38;5;28;01mreturn\u001b[39;00m \u001b[43mcurried\u001b[49m\u001b[38;5;241;43m.\u001b[39;49m\u001b[43mpipe\u001b[49m\u001b[43m(\u001b[49m\u001b[43mdata\u001b[49m\u001b[43m,\u001b[49m\u001b[43m \u001b[49m\u001b[43mlimit_rows\u001b[49m\u001b[43m(\u001b[49m\u001b[43mmax_rows\u001b[49m\u001b[38;5;241;43m=\u001b[39;49m\u001b[43mmax_rows\u001b[49m\u001b[43m)\u001b[49m\u001b[43m,\u001b[49m\u001b[43m \u001b[49m\u001b[43mto_values\u001b[49m\u001b[43m)\u001b[49m\n",
      "File \u001b[0;32m~/opt/anaconda3/lib/python3.9/site-packages/toolz/functoolz.py:630\u001b[0m, in \u001b[0;36mpipe\u001b[0;34m(data, *funcs)\u001b[0m\n\u001b[1;32m    610\u001b[0m \u001b[38;5;124;03m\"\"\" Pipe a value through a sequence of functions\u001b[39;00m\n\u001b[1;32m    611\u001b[0m \n\u001b[1;32m    612\u001b[0m \u001b[38;5;124;03mI.e. ``pipe(data, f, g, h)`` is equivalent to ``h(g(f(data)))``\u001b[39;00m\n\u001b[0;32m   (...)\u001b[0m\n\u001b[1;32m    627\u001b[0m \u001b[38;5;124;03m    thread_last\u001b[39;00m\n\u001b[1;32m    628\u001b[0m \u001b[38;5;124;03m\"\"\"\u001b[39;00m\n\u001b[1;32m    629\u001b[0m \u001b[38;5;28;01mfor\u001b[39;00m func \u001b[38;5;129;01min\u001b[39;00m funcs:\n\u001b[0;32m--> 630\u001b[0m     data \u001b[38;5;241m=\u001b[39m \u001b[43mfunc\u001b[49m\u001b[43m(\u001b[49m\u001b[43mdata\u001b[49m\u001b[43m)\u001b[49m\n\u001b[1;32m    631\u001b[0m \u001b[38;5;28;01mreturn\u001b[39;00m data\n",
      "File \u001b[0;32m~/opt/anaconda3/lib/python3.9/site-packages/toolz/functoolz.py:306\u001b[0m, in \u001b[0;36mcurry.__call__\u001b[0;34m(self, *args, **kwargs)\u001b[0m\n\u001b[1;32m    304\u001b[0m \u001b[38;5;28;01mdef\u001b[39;00m \u001b[38;5;21m__call__\u001b[39m(\u001b[38;5;28mself\u001b[39m, \u001b[38;5;241m*\u001b[39margs, \u001b[38;5;241m*\u001b[39m\u001b[38;5;241m*\u001b[39mkwargs):\n\u001b[1;32m    305\u001b[0m     \u001b[38;5;28;01mtry\u001b[39;00m:\n\u001b[0;32m--> 306\u001b[0m         \u001b[38;5;28;01mreturn\u001b[39;00m \u001b[38;5;28;43mself\u001b[39;49m\u001b[38;5;241;43m.\u001b[39;49m\u001b[43m_partial\u001b[49m\u001b[43m(\u001b[49m\u001b[38;5;241;43m*\u001b[39;49m\u001b[43margs\u001b[49m\u001b[43m,\u001b[49m\u001b[43m \u001b[49m\u001b[38;5;241;43m*\u001b[39;49m\u001b[38;5;241;43m*\u001b[39;49m\u001b[43mkwargs\u001b[49m\u001b[43m)\u001b[49m\n\u001b[1;32m    307\u001b[0m     \u001b[38;5;28;01mexcept\u001b[39;00m \u001b[38;5;167;01mTypeError\u001b[39;00m \u001b[38;5;28;01mas\u001b[39;00m exc:\n\u001b[1;32m    308\u001b[0m         \u001b[38;5;28;01mif\u001b[39;00m \u001b[38;5;28mself\u001b[39m\u001b[38;5;241m.\u001b[39m_should_curry(args, kwargs, exc):\n",
      "File \u001b[0;32m~/opt/anaconda3/lib/python3.9/site-packages/altair/utils/data.py:118\u001b[0m, in \u001b[0;36mlimit_rows\u001b[0;34m(data, max_rows)\u001b[0m\n\u001b[1;32m    115\u001b[0m     \u001b[38;5;28;01mreturn\u001b[39;00m pa_table\n\u001b[1;32m    117\u001b[0m \u001b[38;5;28;01mif\u001b[39;00m max_rows \u001b[38;5;129;01mis\u001b[39;00m \u001b[38;5;129;01mnot\u001b[39;00m \u001b[38;5;28;01mNone\u001b[39;00m \u001b[38;5;129;01mand\u001b[39;00m \u001b[38;5;28mlen\u001b[39m(values) \u001b[38;5;241m>\u001b[39m max_rows:\n\u001b[0;32m--> 118\u001b[0m     \u001b[43mraise_max_rows_error\u001b[49m\u001b[43m(\u001b[49m\u001b[43m)\u001b[49m\n\u001b[1;32m    120\u001b[0m \u001b[38;5;28;01mreturn\u001b[39;00m data\n",
      "File \u001b[0;32m~/opt/anaconda3/lib/python3.9/site-packages/altair/utils/data.py:81\u001b[0m, in \u001b[0;36mlimit_rows.<locals>.raise_max_rows_error\u001b[0;34m()\u001b[0m\n\u001b[1;32m     80\u001b[0m \u001b[38;5;28;01mdef\u001b[39;00m \u001b[38;5;21mraise_max_rows_error\u001b[39m():\n\u001b[0;32m---> 81\u001b[0m     \u001b[38;5;28;01mraise\u001b[39;00m MaxRowsError(\n\u001b[1;32m     82\u001b[0m         \u001b[38;5;124m\"\u001b[39m\u001b[38;5;124mThe number of rows in your dataset is greater \u001b[39m\u001b[38;5;124m\"\u001b[39m\n\u001b[1;32m     83\u001b[0m         \u001b[38;5;124mf\u001b[39m\u001b[38;5;124m\"\u001b[39m\u001b[38;5;124mthan the maximum allowed (\u001b[39m\u001b[38;5;132;01m{\u001b[39;00mmax_rows\u001b[38;5;132;01m}\u001b[39;00m\u001b[38;5;124m).\u001b[39m\u001b[38;5;130;01m\\n\u001b[39;00m\u001b[38;5;130;01m\\n\u001b[39;00m\u001b[38;5;124m\"\u001b[39m\n\u001b[1;32m     84\u001b[0m         \u001b[38;5;124m\"\u001b[39m\u001b[38;5;124mTry enabling the VegaFusion data transformer which \u001b[39m\u001b[38;5;124m\"\u001b[39m\n\u001b[1;32m     85\u001b[0m         \u001b[38;5;124m\"\u001b[39m\u001b[38;5;124mraises this limit by pre-evaluating data\u001b[39m\u001b[38;5;130;01m\\n\u001b[39;00m\u001b[38;5;124m\"\u001b[39m\n\u001b[1;32m     86\u001b[0m         \u001b[38;5;124m\"\u001b[39m\u001b[38;5;124mtransformations in Python.\u001b[39m\u001b[38;5;130;01m\\n\u001b[39;00m\u001b[38;5;124m\"\u001b[39m\n\u001b[1;32m     87\u001b[0m         \u001b[38;5;124m\"\u001b[39m\u001b[38;5;124m    >> import altair as alt\u001b[39m\u001b[38;5;130;01m\\n\u001b[39;00m\u001b[38;5;124m\"\u001b[39m\n\u001b[1;32m     88\u001b[0m         \u001b[38;5;124m'\u001b[39m\u001b[38;5;124m    >> alt.data_transformers.enable(\u001b[39m\u001b[38;5;124m\"\u001b[39m\u001b[38;5;124mvegafusion\u001b[39m\u001b[38;5;124m\"\u001b[39m\u001b[38;5;124m)\u001b[39m\u001b[38;5;130;01m\\n\u001b[39;00m\u001b[38;5;130;01m\\n\u001b[39;00m\u001b[38;5;124m'\u001b[39m\n\u001b[1;32m     89\u001b[0m         \u001b[38;5;124m\"\u001b[39m\u001b[38;5;124mOr, see https://altair-viz.github.io/user_guide/large_datasets.html \u001b[39m\u001b[38;5;124m\"\u001b[39m\n\u001b[1;32m     90\u001b[0m         \u001b[38;5;124m\"\u001b[39m\u001b[38;5;124mfor additional information\u001b[39m\u001b[38;5;130;01m\\n\u001b[39;00m\u001b[38;5;124m\"\u001b[39m\n\u001b[1;32m     91\u001b[0m         \u001b[38;5;124m\"\u001b[39m\u001b[38;5;124mon how to plot large datasets.\u001b[39m\u001b[38;5;124m\"\u001b[39m\n\u001b[1;32m     92\u001b[0m     )\n",
      "\u001b[0;31mMaxRowsError\u001b[0m: The number of rows in your dataset is greater than the maximum allowed (5000).\n\nTry enabling the VegaFusion data transformer which raises this limit by pre-evaluating data\ntransformations in Python.\n    >> import altair as alt\n    >> alt.data_transformers.enable(\"vegafusion\")\n\nOr, see https://altair-viz.github.io/user_guide/large_datasets.html for additional information\non how to plot large datasets."
     ]
    },
    {
     "data": {
      "text/plain": [
       "alt.HConcatChart(...)"
      ]
     },
     "execution_count": 19,
     "metadata": {},
     "output_type": "execute_result"
    }
   ],
   "source": [
    "base = alt.Chart(teams).mark_bar().transform_aggregate(\n",
    "        mean_penalties_committed = 'mean(penalties_committed)',\n",
    "        mean_penalties_awarded = 'mean(penalties_awarded)',\n",
    "        tot_games = 'count(won)',\n",
    "        tot_wins = 'sum(won)',\n",
    "        groupby=['team']\n",
    "    ).transform_calculate(\n",
    "        win_percentage = 'datum.tot_wins / datum.tot_games'\n",
    "    ).properties(width=200)\n",
    "\n",
    "c1 = base.transform_window(\n",
    "        rank='rank(mean_penalties_committed)',\n",
    "        sort=[alt.SortField('mean_penalties_committed', order='descending')],\n",
    "        frame = [None, None]\n",
    "    ).transform_filter(\n",
    "        'datum.rank <= 20'\n",
    "    ).encode(\n",
    "        alt.Y('team:N', title='Team',\n",
    "              sort=alt.EncodingSortField(field='mean_penalties_committed', order='descending')),\n",
    "        alt.X('mean_penalties_committed:Q', title='Mean Penalties Committed per Game', \n",
    "              scale=alt.Scale(domain=[0, 0.6]))\n",
    "    )\n",
    "\n",
    "\n",
    "c2 = base.transform_window(\n",
    "        rank='rank(mean_penalties_awarded)',\n",
    "        sort=[alt.SortField('mean_penalties_awarded', order='descending')],\n",
    "        frame = [None, None]\n",
    "    ).transform_filter(\n",
    "        'datum.rank <= 20'\n",
    "    ).encode(\n",
    "        alt.Y('team:N', title=None,\n",
    "              sort=alt.EncodingSortField(field='mean_penalties_awarded', order='descending')),\n",
    "        alt.X('mean_penalties_awarded:Q', title='Mean Penalties Awarded per Game', \n",
    "              scale=alt.Scale(domain=[0, 0.6]))\n",
    "    )\n",
    "\n",
    "teams3 = alt.hconcat(c1,c2, \n",
    "                     title=alt.Title(\n",
    "                           text='Top 20 Teams for Most Penalties Committed and Awarded',\n",
    "                           subtitle='Normal Time Minutes Only',\n",
    "                           anchor='middle')\n",
    "                    )\n",
    "\n",
    "teams3"
   ]
  },
  {
   "cell_type": "markdown",
   "id": "abf2dcc8",
   "metadata": {},
   "source": [
    "#### Plot 4: Goals and Opponent Goals by Team"
   ]
  },
  {
   "cell_type": "markdown",
   "id": "78c8bf65",
   "metadata": {},
   "source": [
    "##### Create Plot"
   ]
  },
  {
   "cell_type": "code",
   "execution_count": 20,
   "id": "42b32064",
   "metadata": {},
   "outputs": [
    {
     "ename": "MaxRowsError",
     "evalue": "The number of rows in your dataset is greater than the maximum allowed (5000).\n\nTry enabling the VegaFusion data transformer which raises this limit by pre-evaluating data\ntransformations in Python.\n    >> import altair as alt\n    >> alt.data_transformers.enable(\"vegafusion\")\n\nOr, see https://altair-viz.github.io/user_guide/large_datasets.html for additional information\non how to plot large datasets.",
     "output_type": "error",
     "traceback": [
      "\u001b[0;31m---------------------------------------------------------------------------\u001b[0m",
      "\u001b[0;31mMaxRowsError\u001b[0m                              Traceback (most recent call last)",
      "File \u001b[0;32m~/opt/anaconda3/lib/python3.9/site-packages/altair/vegalite/v5/api.py:950\u001b[0m, in \u001b[0;36mTopLevelMixin.to_dict\u001b[0;34m(self, validate, format, ignore, context)\u001b[0m\n\u001b[1;32m    948\u001b[0m copy \u001b[38;5;241m=\u001b[39m \u001b[38;5;28mself\u001b[39m\u001b[38;5;241m.\u001b[39mcopy(deep\u001b[38;5;241m=\u001b[39m\u001b[38;5;28;01mFalse\u001b[39;00m)  \u001b[38;5;66;03m# type: ignore[attr-defined]\u001b[39;00m\n\u001b[1;32m    949\u001b[0m original_data \u001b[38;5;241m=\u001b[39m \u001b[38;5;28mgetattr\u001b[39m(copy, \u001b[38;5;124m\"\u001b[39m\u001b[38;5;124mdata\u001b[39m\u001b[38;5;124m\"\u001b[39m, Undefined)\n\u001b[0;32m--> 950\u001b[0m copy\u001b[38;5;241m.\u001b[39mdata \u001b[38;5;241m=\u001b[39m \u001b[43m_prepare_data\u001b[49m\u001b[43m(\u001b[49m\u001b[43moriginal_data\u001b[49m\u001b[43m,\u001b[49m\u001b[43m \u001b[49m\u001b[43mcontext\u001b[49m\u001b[43m)\u001b[49m\n\u001b[1;32m    952\u001b[0m \u001b[38;5;28;01mif\u001b[39;00m original_data \u001b[38;5;129;01mis\u001b[39;00m \u001b[38;5;129;01mnot\u001b[39;00m Undefined:\n\u001b[1;32m    953\u001b[0m     context[\u001b[38;5;124m\"\u001b[39m\u001b[38;5;124mdata\u001b[39m\u001b[38;5;124m\"\u001b[39m] \u001b[38;5;241m=\u001b[39m original_data\n",
      "File \u001b[0;32m~/opt/anaconda3/lib/python3.9/site-packages/altair/vegalite/v5/api.py:111\u001b[0m, in \u001b[0;36m_prepare_data\u001b[0;34m(data, context)\u001b[0m\n\u001b[1;32m    109\u001b[0m \u001b[38;5;66;03m# convert dataframes  or objects with __geo_interface__ to dict\u001b[39;00m\n\u001b[1;32m    110\u001b[0m \u001b[38;5;28;01melif\u001b[39;00m \u001b[38;5;28misinstance\u001b[39m(data, pd\u001b[38;5;241m.\u001b[39mDataFrame) \u001b[38;5;129;01mor\u001b[39;00m \u001b[38;5;28mhasattr\u001b[39m(data, \u001b[38;5;124m\"\u001b[39m\u001b[38;5;124m__geo_interface__\u001b[39m\u001b[38;5;124m\"\u001b[39m):\n\u001b[0;32m--> 111\u001b[0m     data \u001b[38;5;241m=\u001b[39m \u001b[43m_pipe\u001b[49m\u001b[43m(\u001b[49m\u001b[43mdata\u001b[49m\u001b[43m,\u001b[49m\u001b[43m \u001b[49m\u001b[43mdata_transformers\u001b[49m\u001b[38;5;241;43m.\u001b[39;49m\u001b[43mget\u001b[49m\u001b[43m(\u001b[49m\u001b[43m)\u001b[49m\u001b[43m)\u001b[49m\n\u001b[1;32m    113\u001b[0m \u001b[38;5;66;03m# convert string input to a URLData\u001b[39;00m\n\u001b[1;32m    114\u001b[0m \u001b[38;5;28;01melif\u001b[39;00m \u001b[38;5;28misinstance\u001b[39m(data, \u001b[38;5;28mstr\u001b[39m):\n",
      "File \u001b[0;32m~/opt/anaconda3/lib/python3.9/site-packages/toolz/functoolz.py:630\u001b[0m, in \u001b[0;36mpipe\u001b[0;34m(data, *funcs)\u001b[0m\n\u001b[1;32m    610\u001b[0m \u001b[38;5;124;03m\"\"\" Pipe a value through a sequence of functions\u001b[39;00m\n\u001b[1;32m    611\u001b[0m \n\u001b[1;32m    612\u001b[0m \u001b[38;5;124;03mI.e. ``pipe(data, f, g, h)`` is equivalent to ``h(g(f(data)))``\u001b[39;00m\n\u001b[0;32m   (...)\u001b[0m\n\u001b[1;32m    627\u001b[0m \u001b[38;5;124;03m    thread_last\u001b[39;00m\n\u001b[1;32m    628\u001b[0m \u001b[38;5;124;03m\"\"\"\u001b[39;00m\n\u001b[1;32m    629\u001b[0m \u001b[38;5;28;01mfor\u001b[39;00m func \u001b[38;5;129;01min\u001b[39;00m funcs:\n\u001b[0;32m--> 630\u001b[0m     data \u001b[38;5;241m=\u001b[39m \u001b[43mfunc\u001b[49m\u001b[43m(\u001b[49m\u001b[43mdata\u001b[49m\u001b[43m)\u001b[49m\n\u001b[1;32m    631\u001b[0m \u001b[38;5;28;01mreturn\u001b[39;00m data\n",
      "File \u001b[0;32m~/opt/anaconda3/lib/python3.9/site-packages/toolz/functoolz.py:306\u001b[0m, in \u001b[0;36mcurry.__call__\u001b[0;34m(self, *args, **kwargs)\u001b[0m\n\u001b[1;32m    304\u001b[0m \u001b[38;5;28;01mdef\u001b[39;00m \u001b[38;5;21m__call__\u001b[39m(\u001b[38;5;28mself\u001b[39m, \u001b[38;5;241m*\u001b[39margs, \u001b[38;5;241m*\u001b[39m\u001b[38;5;241m*\u001b[39mkwargs):\n\u001b[1;32m    305\u001b[0m     \u001b[38;5;28;01mtry\u001b[39;00m:\n\u001b[0;32m--> 306\u001b[0m         \u001b[38;5;28;01mreturn\u001b[39;00m \u001b[38;5;28;43mself\u001b[39;49m\u001b[38;5;241;43m.\u001b[39;49m\u001b[43m_partial\u001b[49m\u001b[43m(\u001b[49m\u001b[38;5;241;43m*\u001b[39;49m\u001b[43margs\u001b[49m\u001b[43m,\u001b[49m\u001b[43m \u001b[49m\u001b[38;5;241;43m*\u001b[39;49m\u001b[38;5;241;43m*\u001b[39;49m\u001b[43mkwargs\u001b[49m\u001b[43m)\u001b[49m\n\u001b[1;32m    307\u001b[0m     \u001b[38;5;28;01mexcept\u001b[39;00m \u001b[38;5;167;01mTypeError\u001b[39;00m \u001b[38;5;28;01mas\u001b[39;00m exc:\n\u001b[1;32m    308\u001b[0m         \u001b[38;5;28;01mif\u001b[39;00m \u001b[38;5;28mself\u001b[39m\u001b[38;5;241m.\u001b[39m_should_curry(args, kwargs, exc):\n",
      "File \u001b[0;32m~/opt/anaconda3/lib/python3.9/site-packages/altair/vegalite/data.py:23\u001b[0m, in \u001b[0;36mdefault_data_transformer\u001b[0;34m(data, max_rows)\u001b[0m\n\u001b[1;32m     19\u001b[0m \u001b[38;5;129m@curried\u001b[39m\u001b[38;5;241m.\u001b[39mcurry\n\u001b[1;32m     20\u001b[0m \u001b[38;5;28;01mdef\u001b[39;00m \u001b[38;5;21mdefault_data_transformer\u001b[39m(\n\u001b[1;32m     21\u001b[0m     data: DataType, max_rows: \u001b[38;5;28mint\u001b[39m \u001b[38;5;241m=\u001b[39m \u001b[38;5;241m5000\u001b[39m\n\u001b[1;32m     22\u001b[0m ) \u001b[38;5;241m-\u001b[39m\u001b[38;5;241m>\u001b[39m ToValuesReturnType:\n\u001b[0;32m---> 23\u001b[0m     \u001b[38;5;28;01mreturn\u001b[39;00m \u001b[43mcurried\u001b[49m\u001b[38;5;241;43m.\u001b[39;49m\u001b[43mpipe\u001b[49m\u001b[43m(\u001b[49m\u001b[43mdata\u001b[49m\u001b[43m,\u001b[49m\u001b[43m \u001b[49m\u001b[43mlimit_rows\u001b[49m\u001b[43m(\u001b[49m\u001b[43mmax_rows\u001b[49m\u001b[38;5;241;43m=\u001b[39;49m\u001b[43mmax_rows\u001b[49m\u001b[43m)\u001b[49m\u001b[43m,\u001b[49m\u001b[43m \u001b[49m\u001b[43mto_values\u001b[49m\u001b[43m)\u001b[49m\n",
      "File \u001b[0;32m~/opt/anaconda3/lib/python3.9/site-packages/toolz/functoolz.py:630\u001b[0m, in \u001b[0;36mpipe\u001b[0;34m(data, *funcs)\u001b[0m\n\u001b[1;32m    610\u001b[0m \u001b[38;5;124;03m\"\"\" Pipe a value through a sequence of functions\u001b[39;00m\n\u001b[1;32m    611\u001b[0m \n\u001b[1;32m    612\u001b[0m \u001b[38;5;124;03mI.e. ``pipe(data, f, g, h)`` is equivalent to ``h(g(f(data)))``\u001b[39;00m\n\u001b[0;32m   (...)\u001b[0m\n\u001b[1;32m    627\u001b[0m \u001b[38;5;124;03m    thread_last\u001b[39;00m\n\u001b[1;32m    628\u001b[0m \u001b[38;5;124;03m\"\"\"\u001b[39;00m\n\u001b[1;32m    629\u001b[0m \u001b[38;5;28;01mfor\u001b[39;00m func \u001b[38;5;129;01min\u001b[39;00m funcs:\n\u001b[0;32m--> 630\u001b[0m     data \u001b[38;5;241m=\u001b[39m \u001b[43mfunc\u001b[49m\u001b[43m(\u001b[49m\u001b[43mdata\u001b[49m\u001b[43m)\u001b[49m\n\u001b[1;32m    631\u001b[0m \u001b[38;5;28;01mreturn\u001b[39;00m data\n",
      "File \u001b[0;32m~/opt/anaconda3/lib/python3.9/site-packages/toolz/functoolz.py:306\u001b[0m, in \u001b[0;36mcurry.__call__\u001b[0;34m(self, *args, **kwargs)\u001b[0m\n\u001b[1;32m    304\u001b[0m \u001b[38;5;28;01mdef\u001b[39;00m \u001b[38;5;21m__call__\u001b[39m(\u001b[38;5;28mself\u001b[39m, \u001b[38;5;241m*\u001b[39margs, \u001b[38;5;241m*\u001b[39m\u001b[38;5;241m*\u001b[39mkwargs):\n\u001b[1;32m    305\u001b[0m     \u001b[38;5;28;01mtry\u001b[39;00m:\n\u001b[0;32m--> 306\u001b[0m         \u001b[38;5;28;01mreturn\u001b[39;00m \u001b[38;5;28;43mself\u001b[39;49m\u001b[38;5;241;43m.\u001b[39;49m\u001b[43m_partial\u001b[49m\u001b[43m(\u001b[49m\u001b[38;5;241;43m*\u001b[39;49m\u001b[43margs\u001b[49m\u001b[43m,\u001b[49m\u001b[43m \u001b[49m\u001b[38;5;241;43m*\u001b[39;49m\u001b[38;5;241;43m*\u001b[39;49m\u001b[43mkwargs\u001b[49m\u001b[43m)\u001b[49m\n\u001b[1;32m    307\u001b[0m     \u001b[38;5;28;01mexcept\u001b[39;00m \u001b[38;5;167;01mTypeError\u001b[39;00m \u001b[38;5;28;01mas\u001b[39;00m exc:\n\u001b[1;32m    308\u001b[0m         \u001b[38;5;28;01mif\u001b[39;00m \u001b[38;5;28mself\u001b[39m\u001b[38;5;241m.\u001b[39m_should_curry(args, kwargs, exc):\n",
      "File \u001b[0;32m~/opt/anaconda3/lib/python3.9/site-packages/altair/utils/data.py:118\u001b[0m, in \u001b[0;36mlimit_rows\u001b[0;34m(data, max_rows)\u001b[0m\n\u001b[1;32m    115\u001b[0m     \u001b[38;5;28;01mreturn\u001b[39;00m pa_table\n\u001b[1;32m    117\u001b[0m \u001b[38;5;28;01mif\u001b[39;00m max_rows \u001b[38;5;129;01mis\u001b[39;00m \u001b[38;5;129;01mnot\u001b[39;00m \u001b[38;5;28;01mNone\u001b[39;00m \u001b[38;5;129;01mand\u001b[39;00m \u001b[38;5;28mlen\u001b[39m(values) \u001b[38;5;241m>\u001b[39m max_rows:\n\u001b[0;32m--> 118\u001b[0m     \u001b[43mraise_max_rows_error\u001b[49m\u001b[43m(\u001b[49m\u001b[43m)\u001b[49m\n\u001b[1;32m    120\u001b[0m \u001b[38;5;28;01mreturn\u001b[39;00m data\n",
      "File \u001b[0;32m~/opt/anaconda3/lib/python3.9/site-packages/altair/utils/data.py:81\u001b[0m, in \u001b[0;36mlimit_rows.<locals>.raise_max_rows_error\u001b[0;34m()\u001b[0m\n\u001b[1;32m     80\u001b[0m \u001b[38;5;28;01mdef\u001b[39;00m \u001b[38;5;21mraise_max_rows_error\u001b[39m():\n\u001b[0;32m---> 81\u001b[0m     \u001b[38;5;28;01mraise\u001b[39;00m MaxRowsError(\n\u001b[1;32m     82\u001b[0m         \u001b[38;5;124m\"\u001b[39m\u001b[38;5;124mThe number of rows in your dataset is greater \u001b[39m\u001b[38;5;124m\"\u001b[39m\n\u001b[1;32m     83\u001b[0m         \u001b[38;5;124mf\u001b[39m\u001b[38;5;124m\"\u001b[39m\u001b[38;5;124mthan the maximum allowed (\u001b[39m\u001b[38;5;132;01m{\u001b[39;00mmax_rows\u001b[38;5;132;01m}\u001b[39;00m\u001b[38;5;124m).\u001b[39m\u001b[38;5;130;01m\\n\u001b[39;00m\u001b[38;5;130;01m\\n\u001b[39;00m\u001b[38;5;124m\"\u001b[39m\n\u001b[1;32m     84\u001b[0m         \u001b[38;5;124m\"\u001b[39m\u001b[38;5;124mTry enabling the VegaFusion data transformer which \u001b[39m\u001b[38;5;124m\"\u001b[39m\n\u001b[1;32m     85\u001b[0m         \u001b[38;5;124m\"\u001b[39m\u001b[38;5;124mraises this limit by pre-evaluating data\u001b[39m\u001b[38;5;130;01m\\n\u001b[39;00m\u001b[38;5;124m\"\u001b[39m\n\u001b[1;32m     86\u001b[0m         \u001b[38;5;124m\"\u001b[39m\u001b[38;5;124mtransformations in Python.\u001b[39m\u001b[38;5;130;01m\\n\u001b[39;00m\u001b[38;5;124m\"\u001b[39m\n\u001b[1;32m     87\u001b[0m         \u001b[38;5;124m\"\u001b[39m\u001b[38;5;124m    >> import altair as alt\u001b[39m\u001b[38;5;130;01m\\n\u001b[39;00m\u001b[38;5;124m\"\u001b[39m\n\u001b[1;32m     88\u001b[0m         \u001b[38;5;124m'\u001b[39m\u001b[38;5;124m    >> alt.data_transformers.enable(\u001b[39m\u001b[38;5;124m\"\u001b[39m\u001b[38;5;124mvegafusion\u001b[39m\u001b[38;5;124m\"\u001b[39m\u001b[38;5;124m)\u001b[39m\u001b[38;5;130;01m\\n\u001b[39;00m\u001b[38;5;130;01m\\n\u001b[39;00m\u001b[38;5;124m'\u001b[39m\n\u001b[1;32m     89\u001b[0m         \u001b[38;5;124m\"\u001b[39m\u001b[38;5;124mOr, see https://altair-viz.github.io/user_guide/large_datasets.html \u001b[39m\u001b[38;5;124m\"\u001b[39m\n\u001b[1;32m     90\u001b[0m         \u001b[38;5;124m\"\u001b[39m\u001b[38;5;124mfor additional information\u001b[39m\u001b[38;5;130;01m\\n\u001b[39;00m\u001b[38;5;124m\"\u001b[39m\n\u001b[1;32m     91\u001b[0m         \u001b[38;5;124m\"\u001b[39m\u001b[38;5;124mon how to plot large datasets.\u001b[39m\u001b[38;5;124m\"\u001b[39m\n\u001b[1;32m     92\u001b[0m     )\n",
      "\u001b[0;31mMaxRowsError\u001b[0m: The number of rows in your dataset is greater than the maximum allowed (5000).\n\nTry enabling the VegaFusion data transformer which raises this limit by pre-evaluating data\ntransformations in Python.\n    >> import altair as alt\n    >> alt.data_transformers.enable(\"vegafusion\")\n\nOr, see https://altair-viz.github.io/user_guide/large_datasets.html for additional information\non how to plot large datasets."
     ]
    },
    {
     "data": {
      "text/plain": [
       "alt.LayerChart(...)"
      ]
     },
     "execution_count": 20,
     "metadata": {},
     "output_type": "execute_result"
    }
   ],
   "source": [
    "base = alt.Chart(teams).mark_circle(opacity=0.2).transform_aggregate(\n",
    "        mean_goals = 'mean(goals)',\n",
    "        mean_opp_goals = 'mean(opponent_goals)',\n",
    "        tot_games = 'count(won)',\n",
    "        tot_wins = 'sum(won)',\n",
    "        groupby=['team', 'team_continent']\n",
    "    ).transform_calculate(\n",
    "        win_percentage = 'datum.tot_wins / datum.tot_games',\n",
    "    ).encode(\n",
    "        alt.X('mean_goals:Q', title='Mean Team Goals', \n",
    "              scale=alt.Scale(domain=[0,3]),\n",
    "              axis=alt.Axis(values=[0.0, 0.5, 1.0, 1.5, 2.0, 2.5, 3.0])),\n",
    "        alt.Y('mean_opp_goals:Q', title='Mean Opponent Goals')\n",
    "    ).properties(title='Team and Opponent Goals per Game', width=700)\n",
    "\n",
    "points = base.encode(\n",
    "    alt.Size('win_percentage:Q', title='Win Percentage',\n",
    "         legend=alt.Legend(format='%')))\n",
    "\n",
    "# get teams often considered the best in the world\n",
    "top10 = base.mark_point(color='black', fill=None, size=500).transform_filter(\n",
    "    {'field': 'team', 'oneOf': ['Brazil', 'Germany', 'Italy', 'Argentina', 'England', 'Spain',\n",
    "                               'France', 'Netherlands', 'Uruguay', 'Sweden']}\n",
    ")\n",
    "\n",
    "top10text_base = base.mark_text().encode(alt.Text('team:N'))\n",
    "\n",
    "top10text = top10text_base.mark_text(align='right', baseline='top', dy=8, dx=-8, fontSize=12\n",
    "    ).transform_filter({'field': 'team', 'oneOf': ['Italy', 'Sweden']})\n",
    "top10text += top10text_base.mark_text(align='right', baseline='bottom', dy=-6, dx=-8, fontSize=12\n",
    "    ).transform_filter({'field': 'team', 'oneOf': ['Uruguay']})\n",
    "top10text += top10text_base.mark_text(align='left', baseline='bottom', dy=-8, dx=8, fontSize=12\n",
    "    ).transform_filter({'field': 'team', 'oneOf': ['Germany']})\n",
    "top10text += top10text_base.mark_text(align='left', baseline='top', dy=10, dx=10, fontSize=12\n",
    "    ).transform_filter({'field': 'team', 'oneOf': ['England']})\n",
    "top10text += top10text_base.mark_text(align='right', baseline='bottom', dy=-12, dx=0, fontSize=12\n",
    "    ).transform_filter({'field': 'team', 'oneOf': ['Argentina']})\n",
    "top10text += top10text_base.mark_text(align='right', baseline='bottom', dy=-10, dx=-2, fontSize=12\n",
    "    ).transform_filter({'field': 'team', 'oneOf': ['Brazil']})\n",
    "top10text += top10text_base.mark_text(align='left', baseline='top', dy=4, dx=12, fontSize=12\n",
    "    ).transform_filter({'field': 'team', 'oneOf': ['Netherlands']})\n",
    "top10text += top10text_base.mark_text(align='right', baseline='top', dy=12, dx=6, fontSize=12\n",
    "    ).transform_filter({'field': 'team', 'oneOf': ['France']})\n",
    "top10text += top10text_base.mark_text(align='right', baseline='top', dy=12, dx=0, fontSize=12\n",
    "    ).transform_filter({'field': 'team', 'oneOf': ['Spain']})\n",
    "\n",
    "# combine\n",
    "teams4 = points + top10 + top10text\n",
    "\n",
    "teams4"
   ]
  },
  {
   "cell_type": "markdown",
   "id": "c6a58e59",
   "metadata": {},
   "source": [
    "### Player Plots"
   ]
  },
  {
   "cell_type": "markdown",
   "id": "346601f2",
   "metadata": {},
   "source": [
    "The following plots explore player-level trends."
   ]
  },
  {
   "cell_type": "markdown",
   "id": "4cb074ee",
   "metadata": {},
   "source": [
    "#### Plot 1: Top Players of All Time"
   ]
  },
  {
   "cell_type": "markdown",
   "id": "b6cec401",
   "metadata": {},
   "source": [
    "##### Prepare Data for Plot"
   ]
  },
  {
   "cell_type": "code",
   "execution_count": 21,
   "id": "5a5c1223",
   "metadata": {},
   "outputs": [],
   "source": [
    "# new data frame summing up goals per player per year\n",
    "goals['date'] = pd.to_datetime(goals['date'])\n",
    "goals['year'] = goals['date'].dt.year\n",
    "total_goals_by_player = goals.groupby(['year', 'scorer', 'scorer_team'])['point_earned'].sum().reset_index()\n",
    "total_goals_by_player = total_goals_by_player.rename(columns={'point_earned': 'total_goals'})\n",
    "total_goals_by_player = total_goals_by_player.sort_values(by='total_goals', ascending=False)\n",
    "\n",
    "# sum up goals scored by player/team\n",
    "total_goals_by_player_alltime = total_goals_by_player.groupby(['scorer', 'scorer_team']\n",
    "                                                             )['total_goals'].sum().reset_index()\n",
    "total_goals_by_player_alltime = total_goals_by_player_alltime.sort_values(by='total_goals', ascending=False)\n",
    "\n",
    "# get starting year\n",
    "def bin_years(year):\n",
    "    if year < 1940:\n",
    "        return '1916-1940'\n",
    "    elif year < 1960:\n",
    "        return '1941-1960'\n",
    "    elif year < 1980:\n",
    "        return '1961-1980'\n",
    "    elif year < 2000:\n",
    "        return '1981-2000'\n",
    "    else:\n",
    "        return '2001-2023'\n",
    "    \n",
    "total_goals_by_player_alltime['min_year'] = goals.groupby(['scorer'])['year'].transform('min')\n",
    "total_goals_by_player_alltime['min_year_binned'] = total_goals_by_player_alltime['min_year'].apply(bin_years)"
   ]
  },
  {
   "cell_type": "markdown",
   "id": "6f4e6d1d",
   "metadata": {},
   "source": [
    "##### Create Plot"
   ]
  },
  {
   "cell_type": "code",
   "execution_count": 22,
   "id": "f271cc61",
   "metadata": {},
   "outputs": [
    {
     "data": {
      "text/html": [
       "\n",
       "<style>\n",
       "  #altair-viz-9836560745de490a8edfb2408cc416c0.vega-embed {\n",
       "    width: 100%;\n",
       "    display: flex;\n",
       "  }\n",
       "\n",
       "  #altair-viz-9836560745de490a8edfb2408cc416c0.vega-embed details,\n",
       "  #altair-viz-9836560745de490a8edfb2408cc416c0.vega-embed details summary {\n",
       "    position: relative;\n",
       "  }\n",
       "</style>\n",
       "<div id=\"altair-viz-9836560745de490a8edfb2408cc416c0\"></div>\n",
       "<script type=\"text/javascript\">\n",
       "  var VEGA_DEBUG = (typeof VEGA_DEBUG == \"undefined\") ? {} : VEGA_DEBUG;\n",
       "  (function(spec, embedOpt){\n",
       "    let outputDiv = document.currentScript.previousElementSibling;\n",
       "    if (outputDiv.id !== \"altair-viz-9836560745de490a8edfb2408cc416c0\") {\n",
       "      outputDiv = document.getElementById(\"altair-viz-9836560745de490a8edfb2408cc416c0\");\n",
       "    }\n",
       "    const paths = {\n",
       "      \"vega\": \"https://cdn.jsdelivr.net/npm/vega@5?noext\",\n",
       "      \"vega-lib\": \"https://cdn.jsdelivr.net/npm/vega-lib?noext\",\n",
       "      \"vega-lite\": \"https://cdn.jsdelivr.net/npm/vega-lite@5.16.3?noext\",\n",
       "      \"vega-embed\": \"https://cdn.jsdelivr.net/npm/vega-embed@6?noext\",\n",
       "    };\n",
       "\n",
       "    function maybeLoadScript(lib, version) {\n",
       "      var key = `${lib.replace(\"-\", \"\")}_version`;\n",
       "      return (VEGA_DEBUG[key] == version) ?\n",
       "        Promise.resolve(paths[lib]) :\n",
       "        new Promise(function(resolve, reject) {\n",
       "          var s = document.createElement('script');\n",
       "          document.getElementsByTagName(\"head\")[0].appendChild(s);\n",
       "          s.async = true;\n",
       "          s.onload = () => {\n",
       "            VEGA_DEBUG[key] = version;\n",
       "            return resolve(paths[lib]);\n",
       "          };\n",
       "          s.onerror = () => reject(`Error loading script: ${paths[lib]}`);\n",
       "          s.src = paths[lib];\n",
       "        });\n",
       "    }\n",
       "\n",
       "    function showError(err) {\n",
       "      outputDiv.innerHTML = `<div class=\"error\" style=\"color:red;\">${err}</div>`;\n",
       "      throw err;\n",
       "    }\n",
       "\n",
       "    function displayChart(vegaEmbed) {\n",
       "      vegaEmbed(outputDiv, spec, embedOpt)\n",
       "        .catch(err => showError(`Javascript Error: ${err.message}<br>This usually means there's a typo in your chart specification. See the javascript console for the full traceback.`));\n",
       "    }\n",
       "\n",
       "    if(typeof define === \"function\" && define.amd) {\n",
       "      requirejs.config({paths});\n",
       "      require([\"vega-embed\"], displayChart, err => showError(`Error loading script: ${err.message}`));\n",
       "    } else {\n",
       "      maybeLoadScript(\"vega\", \"5\")\n",
       "        .then(() => maybeLoadScript(\"vega-lite\", \"5.16.3\"))\n",
       "        .then(() => maybeLoadScript(\"vega-embed\", \"6\"))\n",
       "        .catch(showError)\n",
       "        .then(() => displayChart(vegaEmbed));\n",
       "    }\n",
       "  })({\"config\": {\"view\": {\"height\": 400, \"width\": 600}, \"axis\": {\"labelFontSize\": 12, \"titleFontSize\": 13, \"titleAngle\": 0}, \"title\": {\"fontSize\": 14}, \"legend\": {\"labelFontSize\": 12, \"titleFontSize\": 13}, \"mark\": {\"fill\": \"#005391\"}}, \"layer\": [{\"mark\": {\"type\": \"bar\"}, \"encoding\": {\"color\": {\"condition\": {\"test\": \"datum.min_year_binned != null\", \"field\": \"min_year_binned\", \"type\": \"nominal\", \"scale\": {\"domain\": [\"1916-1940\", \"1941-1960\", \"1961-1980\", \"1981-2000\", \"2001-2023\", \"No Data\"], \"range\": [\"#005391\", \"#0074cc\", \"#1a9cff\", \"#66bdff\", \"#b3deff\", \"#E0E0E0\"]}, \"title\": \"Appearance Year\"}, \"value\": \"#E0E0E0\"}, \"text\": {\"field\": \"scorer_team\", \"type\": \"nominal\"}, \"x\": {\"field\": \"total_goals\", \"scale\": {\"domain\": [0, 125]}, \"title\": \"Total lifetime goals\", \"type\": \"quantitative\"}, \"y\": {\"field\": \"scorer\", \"sort\": \"-x\", \"title\": null, \"type\": \"nominal\"}}, \"title\": \"Top Ten Scorers of All Time\"}, {\"mark\": {\"type\": \"text\", \"align\": \"left\", \"color\": \"black\", \"dx\": 2}, \"encoding\": {\"color\": {\"condition\": {\"test\": \"datum.min_year_binned != null\", \"field\": \"min_year_binned\", \"type\": \"nominal\", \"scale\": {\"domain\": [\"1916-1940\", \"1941-1960\", \"1961-1980\", \"1981-2000\", \"2001-2023\", \"No Data\"], \"range\": [\"#005391\", \"#0074cc\", \"#1a9cff\", \"#66bdff\", \"#b3deff\", \"#E0E0E0\"]}, \"title\": \"Appearance Year\"}, \"value\": \"#E0E0E0\"}, \"text\": {\"field\": \"scorer_team\", \"type\": \"nominal\"}, \"x\": {\"field\": \"total_goals\", \"scale\": {\"domain\": [0, 125]}, \"title\": \"Total lifetime goals\", \"type\": \"quantitative\"}, \"y\": {\"field\": \"scorer\", \"sort\": \"-x\", \"title\": null, \"type\": \"nominal\"}}, \"title\": \"Top Ten Scorers of All Time\"}], \"data\": {\"name\": \"data-e9aa8366ee962e50a44b0d8ddd8b2a06\"}, \"$schema\": \"https://vega.github.io/schema/vega-lite/v5.16.3.json\", \"datasets\": {\"data-e9aa8366ee962e50a44b0d8ddd8b2a06\": [{\"scorer\": \"Cristiano Ronaldo\", \"scorer_team\": \"Portugal\", \"total_goals\": 111, \"min_year\": 1956.0, \"min_year_binned\": \"1941-1960\"}, {\"scorer\": \"Robert Lewandowski\", \"scorer_team\": \"Poland\", \"total_goals\": 62, \"min_year\": 1985.0, \"min_year_binned\": \"1981-2000\"}, {\"scorer\": \"Romelu Lukaku\", \"scorer_team\": \"Belgium\", \"total_goals\": 61, \"min_year\": 1989.0, \"min_year_binned\": \"1981-2000\"}, {\"scorer\": \"Harry Kane\", \"scorer_team\": \"England\", \"total_goals\": 55, \"min_year\": 1963.0, \"min_year_binned\": \"1961-1980\"}, {\"scorer\": \"Lionel Messi\", \"scorer_team\": \"Argentina\", \"total_goals\": 54, \"min_year\": 1977.0, \"min_year_binned\": \"1961-1980\"}, {\"scorer\": \"Edin D\\u017eeko\", \"scorer_team\": \"Bosnia and Herzegovina\", \"total_goals\": 50, \"min_year\": 1962.0, \"min_year_binned\": \"1961-1980\"}, {\"scorer\": \"Ali Daei\", \"scorer_team\": \"Iran\", \"total_goals\": 49, \"min_year\": 1937.0, \"min_year_binned\": \"1916-1940\"}, {\"scorer\": \"Miroslav Klose\", \"scorer_team\": \"Germany\", \"total_goals\": 48, \"min_year\": 1982.0, \"min_year_binned\": \"1981-2000\"}, {\"scorer\": \"Aleksandar Mitrovi\\u0107\", \"scorer_team\": \"Serbia\", \"total_goals\": 47, \"min_year\": 1934.0, \"min_year_binned\": \"1916-1940\"}, {\"scorer\": \"Carlos Ruiz\", \"scorer_team\": \"Guatemala\", \"total_goals\": 47, \"min_year\": 1955.0, \"min_year_binned\": \"1941-1960\"}]}}, {\"mode\": \"vega-lite\"});\n",
       "</script>"
      ],
      "text/plain": [
       "alt.LayerChart(...)"
      ]
     },
     "execution_count": 22,
     "metadata": {},
     "output_type": "execute_result"
    }
   ],
   "source": [
    "domain = ['1916-1940', '1941-1960', '1961-1980', '1981-2000', '2001-2023', 'No Data']\n",
    "colors = ['#005391', '#0074cc', '#1a9cff', '#66bdff', '#b3deff', '#E0E0E0']\n",
    "\n",
    "base = alt.Chart(total_goals_by_player_alltime.head(10)).mark_bar().encode(\n",
    "        alt.X('total_goals:Q', title=\"Total lifetime goals\", scale=alt.Scale(domain=[0, 125])),\n",
    "        alt.Y('scorer:N', title = None, sort='-x'),\n",
    "        text = 'scorer_team:N'\n",
    "    ).properties(\n",
    "        title='Top Ten Scorers of All Time'\n",
    "    ).encode(\n",
    "            color = alt.condition('datum.min_year_binned != null', 'min_year_binned:N', alt.value('#E0E0E0'), \n",
    "                                  scale=alt.Scale(domain=domain, range=colors),\n",
    "                                  title='Appearance Year')\n",
    "    )\n",
    "\n",
    "# add text\n",
    "players1 = base.mark_bar() + base.mark_text(align='left', dx=2, color='black')\n",
    "\n",
    "# rotate the Y-axis title to be horizontal\n",
    "players1.configure_axis(titleAngle=0)"
   ]
  },
  {
   "cell_type": "markdown",
   "id": "6616724e",
   "metadata": {},
   "source": [
    "#### Plot 2: Cristiano Ronaldo Goals"
   ]
  },
  {
   "cell_type": "markdown",
   "id": "0ac715ff",
   "metadata": {},
   "source": [
    "##### Prepare Data for Plot"
   ]
  },
  {
   "cell_type": "code",
   "execution_count": 23,
   "id": "f6e40a7e",
   "metadata": {},
   "outputs": [],
   "source": [
    "# filter goal count by ronaldo\n",
    "ronaldo = total_goals_by_player[total_goals_by_player['scorer'] == 'Cristiano Ronaldo']\n",
    "\n",
    "# calculate average goals for each player per year\n",
    "average_scorer_by_year = total_goals_by_player.groupby('year')['total_goals'].mean().reset_index()\n",
    "average_scorer_by_year = average_scorer_by_year.rename(columns={'total_goals': 'avg_goals_per_player'})\n",
    "\n",
    "# ronaldo goals, average player goals for each year ronaldo played\n",
    "ronaldo = ronaldo.merge(average_scorer_by_year, on='year', how='left')\n",
    "\n",
    "# reformat\n",
    "ronaldo = pd.melt(ronaldo, id_vars=['year', 'scorer'], value_vars=['total_goals', 'avg_goals_per_player'], \n",
    "                    var_name='type', value_name='goal count')\n",
    "ronaldo['type'] = ronaldo['type'].replace('total_goals', 'Cristiano Ronaldo')\n",
    "ronaldo['type'] = ronaldo['type'].replace('avg_goals_per_player', 'Average Player')"
   ]
  },
  {
   "cell_type": "markdown",
   "id": "e1f49e7c",
   "metadata": {},
   "source": [
    "##### Create Plot"
   ]
  },
  {
   "cell_type": "code",
   "execution_count": 24,
   "id": "9ecca7b0",
   "metadata": {},
   "outputs": [
    {
     "data": {
      "text/html": [
       "\n",
       "<style>\n",
       "  #altair-viz-c15c7c003ced46219a43451a1f0c9835.vega-embed {\n",
       "    width: 100%;\n",
       "    display: flex;\n",
       "  }\n",
       "\n",
       "  #altair-viz-c15c7c003ced46219a43451a1f0c9835.vega-embed details,\n",
       "  #altair-viz-c15c7c003ced46219a43451a1f0c9835.vega-embed details summary {\n",
       "    position: relative;\n",
       "  }\n",
       "</style>\n",
       "<div id=\"altair-viz-c15c7c003ced46219a43451a1f0c9835\"></div>\n",
       "<script type=\"text/javascript\">\n",
       "  var VEGA_DEBUG = (typeof VEGA_DEBUG == \"undefined\") ? {} : VEGA_DEBUG;\n",
       "  (function(spec, embedOpt){\n",
       "    let outputDiv = document.currentScript.previousElementSibling;\n",
       "    if (outputDiv.id !== \"altair-viz-c15c7c003ced46219a43451a1f0c9835\") {\n",
       "      outputDiv = document.getElementById(\"altair-viz-c15c7c003ced46219a43451a1f0c9835\");\n",
       "    }\n",
       "    const paths = {\n",
       "      \"vega\": \"https://cdn.jsdelivr.net/npm/vega@5?noext\",\n",
       "      \"vega-lib\": \"https://cdn.jsdelivr.net/npm/vega-lib?noext\",\n",
       "      \"vega-lite\": \"https://cdn.jsdelivr.net/npm/vega-lite@5.16.3?noext\",\n",
       "      \"vega-embed\": \"https://cdn.jsdelivr.net/npm/vega-embed@6?noext\",\n",
       "    };\n",
       "\n",
       "    function maybeLoadScript(lib, version) {\n",
       "      var key = `${lib.replace(\"-\", \"\")}_version`;\n",
       "      return (VEGA_DEBUG[key] == version) ?\n",
       "        Promise.resolve(paths[lib]) :\n",
       "        new Promise(function(resolve, reject) {\n",
       "          var s = document.createElement('script');\n",
       "          document.getElementsByTagName(\"head\")[0].appendChild(s);\n",
       "          s.async = true;\n",
       "          s.onload = () => {\n",
       "            VEGA_DEBUG[key] = version;\n",
       "            return resolve(paths[lib]);\n",
       "          };\n",
       "          s.onerror = () => reject(`Error loading script: ${paths[lib]}`);\n",
       "          s.src = paths[lib];\n",
       "        });\n",
       "    }\n",
       "\n",
       "    function showError(err) {\n",
       "      outputDiv.innerHTML = `<div class=\"error\" style=\"color:red;\">${err}</div>`;\n",
       "      throw err;\n",
       "    }\n",
       "\n",
       "    function displayChart(vegaEmbed) {\n",
       "      vegaEmbed(outputDiv, spec, embedOpt)\n",
       "        .catch(err => showError(`Javascript Error: ${err.message}<br>This usually means there's a typo in your chart specification. See the javascript console for the full traceback.`));\n",
       "    }\n",
       "\n",
       "    if(typeof define === \"function\" && define.amd) {\n",
       "      requirejs.config({paths});\n",
       "      require([\"vega-embed\"], displayChart, err => showError(`Error loading script: ${err.message}`));\n",
       "    } else {\n",
       "      maybeLoadScript(\"vega\", \"5\")\n",
       "        .then(() => maybeLoadScript(\"vega-lite\", \"5.16.3\"))\n",
       "        .then(() => maybeLoadScript(\"vega-embed\", \"6\"))\n",
       "        .catch(showError)\n",
       "        .then(() => displayChart(vegaEmbed));\n",
       "    }\n",
       "  })({\"config\": {\"view\": {\"height\": 400, \"width\": 600}, \"axis\": {\"labelFontSize\": 12, \"titleFontSize\": 13}, \"title\": {\"fontSize\": 14}, \"legend\": {\"labelFontSize\": 12, \"titleFontSize\": 13}, \"mark\": {\"fill\": \"#005391\"}}, \"layer\": [{\"mark\": {\"type\": \"line\", \"fill\": null}, \"encoding\": {\"color\": {\"field\": \"type\", \"legend\": null, \"type\": \"nominal\"}, \"x\": {\"axis\": {\"labelAngle\": -45, \"values\": [2000, 2002, 2004, 2006, 2008, 2010, 2012, 2014, 2016, 2018, 2020, 2022]}, \"field\": \"year\", \"title\": \"Year\", \"type\": \"ordinal\"}, \"y\": {\"field\": \"goal count\", \"title\": \"Total Goals Per Season\", \"type\": \"quantitative\"}}, \"title\": \"Cristiano Ronaldo: How does he compare to his peers?\"}, {\"mark\": {\"type\": \"text\", \"dy\": -10}, \"encoding\": {\"color\": {\"field\": \"type\", \"legend\": null, \"scale\": {\"range\": [\"#005391\", \"#f58518\"]}, \"type\": \"nominal\"}, \"text\": {\"field\": \"type\", \"type\": \"nominal\"}, \"x\": {\"axis\": {\"labelAngle\": -45}, \"field\": \"year\", \"title\": \"Year\", \"type\": \"ordinal\"}, \"y\": {\"field\": \"goal count\", \"title\": \"Total Goals Per Season\", \"type\": \"quantitative\"}}, \"transform\": [{\"filter\": \"(datum.year === 2013)\"}]}], \"data\": {\"name\": \"data-a279bc1b260d46c5c79d469fa339650f\"}, \"$schema\": \"https://vega.github.io/schema/vega-lite/v5.16.3.json\", \"datasets\": {\"data-a279bc1b260d46c5c79d469fa339650f\": [{\"year\": 2019, \"scorer\": \"Cristiano Ronaldo\", \"type\": \"Cristiano Ronaldo\", \"goal count\": 17.0}, {\"year\": 2021, \"scorer\": \"Cristiano Ronaldo\", \"type\": \"Cristiano Ronaldo\", \"goal count\": 11.0}, {\"year\": 2017, \"scorer\": \"Cristiano Ronaldo\", \"type\": \"Cristiano Ronaldo\", \"goal count\": 10.0}, {\"year\": 2023, \"scorer\": \"Cristiano Ronaldo\", \"type\": \"Cristiano Ronaldo\", \"goal count\": 10.0}, {\"year\": 2016, \"scorer\": \"Cristiano Ronaldo\", \"type\": \"Cristiano Ronaldo\", \"goal count\": 10.0}, {\"year\": 2004, \"scorer\": \"Cristiano Ronaldo\", \"type\": \"Cristiano Ronaldo\", \"goal count\": 7.0}, {\"year\": 2013, \"scorer\": \"Cristiano Ronaldo\", \"type\": \"Cristiano Ronaldo\", \"goal count\": 7.0}, {\"year\": 2007, \"scorer\": \"Cristiano Ronaldo\", \"type\": \"Cristiano Ronaldo\", \"goal count\": 5.0}, {\"year\": 2011, \"scorer\": \"Cristiano Ronaldo\", \"type\": \"Cristiano Ronaldo\", \"goal count\": 5.0}, {\"year\": 2018, \"scorer\": \"Cristiano Ronaldo\", \"type\": \"Cristiano Ronaldo\", \"goal count\": 4.0}, {\"year\": 2012, \"scorer\": \"Cristiano Ronaldo\", \"type\": \"Cristiano Ronaldo\", \"goal count\": 4.0}, {\"year\": 2006, \"scorer\": \"Cristiano Ronaldo\", \"type\": \"Cristiano Ronaldo\", \"goal count\": 4.0}, {\"year\": 2010, \"scorer\": \"Cristiano Ronaldo\", \"type\": \"Cristiano Ronaldo\", \"goal count\": 3.0}, {\"year\": 2022, \"scorer\": \"Cristiano Ronaldo\", \"type\": \"Cristiano Ronaldo\", \"goal count\": 3.0}, {\"year\": 2014, \"scorer\": \"Cristiano Ronaldo\", \"type\": \"Cristiano Ronaldo\", \"goal count\": 3.0}, {\"year\": 2015, \"scorer\": \"Cristiano Ronaldo\", \"type\": \"Cristiano Ronaldo\", \"goal count\": 3.0}, {\"year\": 2020, \"scorer\": \"Cristiano Ronaldo\", \"type\": \"Cristiano Ronaldo\", \"goal count\": 2.0}, {\"year\": 2005, \"scorer\": \"Cristiano Ronaldo\", \"type\": \"Cristiano Ronaldo\", \"goal count\": 2.0}, {\"year\": 2008, \"scorer\": \"Cristiano Ronaldo\", \"type\": \"Cristiano Ronaldo\", \"goal count\": 1.0}, {\"year\": 2019, \"scorer\": \"Cristiano Ronaldo\", \"type\": \"Average Player\", \"goal count\": 1.6794731064763995}, {\"year\": 2021, \"scorer\": \"Cristiano Ronaldo\", \"type\": \"Average Player\", \"goal count\": 1.797872340425532}, {\"year\": 2017, \"scorer\": \"Cristiano Ronaldo\", \"type\": \"Average Player\", \"goal count\": 1.5118858954041206}, {\"year\": 2023, \"scorer\": \"Cristiano Ronaldo\", \"type\": \"Average Player\", \"goal count\": 1.643010752688172}, {\"year\": 2016, \"scorer\": \"Cristiano Ronaldo\", \"type\": \"Average Player\", \"goal count\": 1.6042692939244663}, {\"year\": 2004, \"scorer\": \"Cristiano Ronaldo\", \"type\": \"Average Player\", \"goal count\": 1.7993384785005513}, {\"year\": 2013, \"scorer\": \"Cristiano Ronaldo\", \"type\": \"Average Player\", \"goal count\": 1.6531531531531531}, {\"year\": 2007, \"scorer\": \"Cristiano Ronaldo\", \"type\": \"Average Player\", \"goal count\": 1.6470588235294117}, {\"year\": 2011, \"scorer\": \"Cristiano Ronaldo\", \"type\": \"Average Player\", \"goal count\": 1.6662404092071612}, {\"year\": 2018, \"scorer\": \"Cristiano Ronaldo\", \"type\": \"Average Player\", \"goal count\": 1.4110787172011663}, {\"year\": 2012, \"scorer\": \"Cristiano Ronaldo\", \"type\": \"Average Player\", \"goal count\": 1.587037037037037}, {\"year\": 2006, \"scorer\": \"Cristiano Ronaldo\", \"type\": \"Average Player\", \"goal count\": 1.5434782608695652}, {\"year\": 2010, \"scorer\": \"Cristiano Ronaldo\", \"type\": \"Average Player\", \"goal count\": 1.4950819672131148}, {\"year\": 2022, \"scorer\": \"Cristiano Ronaldo\", \"type\": \"Average Player\", \"goal count\": 1.5159663865546218}, {\"year\": 2014, \"scorer\": \"Cristiano Ronaldo\", \"type\": \"Average Player\", \"goal count\": 1.4467353951890034}, {\"year\": 2015, \"scorer\": \"Cristiano Ronaldo\", \"type\": \"Average Player\", \"goal count\": 1.6188389923329682}, {\"year\": 2020, \"scorer\": \"Cristiano Ronaldo\", \"type\": \"Average Player\", \"goal count\": 1.3831775700934579}, {\"year\": 2005, \"scorer\": \"Cristiano Ronaldo\", \"type\": \"Average Player\", \"goal count\": 1.6857142857142857}, {\"year\": 2008, \"scorer\": \"Cristiano Ronaldo\", \"type\": \"Average Player\", \"goal count\": 1.599499374217772}]}}, {\"mode\": \"vega-lite\"});\n",
       "</script>"
      ],
      "text/plain": [
       "alt.LayerChart(...)"
      ]
     },
     "execution_count": 24,
     "metadata": {},
     "output_type": "execute_result"
    }
   ],
   "source": [
    "years=[2000, 2002, 2004, 2006, 2008, 2010, 2012, 2014, 2016, 2018, 2020, 2022]\n",
    "\n",
    "base = alt.Chart(ronaldo).mark_line(fill = None).encode(\n",
    "        alt.X('year:O', title='Year', axis=alt.Axis(labelAngle=-45, values=years)),\n",
    "        alt.Y('goal count:Q', title='Total Goals Per Season'),\n",
    "        alt.Color('type:N', legend=None)\n",
    "    ).properties(\n",
    "        title='Cristiano Ronaldo: How does he compare to his peers?'\n",
    "    )\n",
    "\n",
    "c2 = alt.Chart(ronaldo).mark_point().transform_filter(\n",
    "        alt.datum.year == 2013\n",
    "    ).encode(\n",
    "        alt.X('year:O', title=\"Year\", axis=alt.Axis(labelAngle=-45)),\n",
    "        alt.Y('goal count:Q', title='Total Goals Per Season'),\n",
    "        alt.Color('type:N', legend=None, scale=alt.Scale(range=['#005391', '#f58518']))\n",
    "    )\n",
    "\n",
    "c3 = c2.mark_text(dy = -10).encode(text='type:N')\n",
    "\n",
    "players2 = base + c3\n",
    "players2"
   ]
  },
  {
   "cell_type": "markdown",
   "id": "98510943",
   "metadata": {},
   "source": [
    "#### Plot 3: Goals by Year"
   ]
  },
  {
   "cell_type": "markdown",
   "id": "2caa7d64",
   "metadata": {},
   "source": [
    "##### Prepare Data for Plot"
   ]
  },
  {
   "cell_type": "code",
   "execution_count": 25,
   "id": "7a1f570e",
   "metadata": {},
   "outputs": [],
   "source": [
    "# calculate the goals scored per year played ratio\n",
    "goalyearratio = goals\n",
    "goalyearratio['scorer_goals'] = goals.groupby('scorer')['point_earned'].transform('sum')\n",
    "goalyearratio['years_played'] = goals.groupby('scorer')['year'].transform('nunique')\n",
    "goalyearratio['goals_to_year_ratio'] = goals['scorer_goals'] / goals['years_played']\n",
    "goalyearratio = goalyearratio[['scorer', 'scorer_goals', 'years_played','goals_to_year_ratio']].drop_duplicates()"
   ]
  },
  {
   "cell_type": "markdown",
   "id": "5687fb8b",
   "metadata": {},
   "source": [
    "##### Create Plot"
   ]
  },
  {
   "cell_type": "code",
   "execution_count": 26,
   "id": "7dbf3ec6",
   "metadata": {},
   "outputs": [
    {
     "ename": "MaxRowsError",
     "evalue": "The number of rows in your dataset is greater than the maximum allowed (5000).\n\nTry enabling the VegaFusion data transformer which raises this limit by pre-evaluating data\ntransformations in Python.\n    >> import altair as alt\n    >> alt.data_transformers.enable(\"vegafusion\")\n\nOr, see https://altair-viz.github.io/user_guide/large_datasets.html for additional information\non how to plot large datasets.",
     "output_type": "error",
     "traceback": [
      "\u001b[0;31m---------------------------------------------------------------------------\u001b[0m",
      "\u001b[0;31mMaxRowsError\u001b[0m                              Traceback (most recent call last)",
      "File \u001b[0;32m~/opt/anaconda3/lib/python3.9/site-packages/altair/vegalite/v5/api.py:950\u001b[0m, in \u001b[0;36mTopLevelMixin.to_dict\u001b[0;34m(self, validate, format, ignore, context)\u001b[0m\n\u001b[1;32m    948\u001b[0m copy \u001b[38;5;241m=\u001b[39m \u001b[38;5;28mself\u001b[39m\u001b[38;5;241m.\u001b[39mcopy(deep\u001b[38;5;241m=\u001b[39m\u001b[38;5;28;01mFalse\u001b[39;00m)  \u001b[38;5;66;03m# type: ignore[attr-defined]\u001b[39;00m\n\u001b[1;32m    949\u001b[0m original_data \u001b[38;5;241m=\u001b[39m \u001b[38;5;28mgetattr\u001b[39m(copy, \u001b[38;5;124m\"\u001b[39m\u001b[38;5;124mdata\u001b[39m\u001b[38;5;124m\"\u001b[39m, Undefined)\n\u001b[0;32m--> 950\u001b[0m copy\u001b[38;5;241m.\u001b[39mdata \u001b[38;5;241m=\u001b[39m \u001b[43m_prepare_data\u001b[49m\u001b[43m(\u001b[49m\u001b[43moriginal_data\u001b[49m\u001b[43m,\u001b[49m\u001b[43m \u001b[49m\u001b[43mcontext\u001b[49m\u001b[43m)\u001b[49m\n\u001b[1;32m    952\u001b[0m \u001b[38;5;28;01mif\u001b[39;00m original_data \u001b[38;5;129;01mis\u001b[39;00m \u001b[38;5;129;01mnot\u001b[39;00m Undefined:\n\u001b[1;32m    953\u001b[0m     context[\u001b[38;5;124m\"\u001b[39m\u001b[38;5;124mdata\u001b[39m\u001b[38;5;124m\"\u001b[39m] \u001b[38;5;241m=\u001b[39m original_data\n",
      "File \u001b[0;32m~/opt/anaconda3/lib/python3.9/site-packages/altair/vegalite/v5/api.py:111\u001b[0m, in \u001b[0;36m_prepare_data\u001b[0;34m(data, context)\u001b[0m\n\u001b[1;32m    109\u001b[0m \u001b[38;5;66;03m# convert dataframes  or objects with __geo_interface__ to dict\u001b[39;00m\n\u001b[1;32m    110\u001b[0m \u001b[38;5;28;01melif\u001b[39;00m \u001b[38;5;28misinstance\u001b[39m(data, pd\u001b[38;5;241m.\u001b[39mDataFrame) \u001b[38;5;129;01mor\u001b[39;00m \u001b[38;5;28mhasattr\u001b[39m(data, \u001b[38;5;124m\"\u001b[39m\u001b[38;5;124m__geo_interface__\u001b[39m\u001b[38;5;124m\"\u001b[39m):\n\u001b[0;32m--> 111\u001b[0m     data \u001b[38;5;241m=\u001b[39m \u001b[43m_pipe\u001b[49m\u001b[43m(\u001b[49m\u001b[43mdata\u001b[49m\u001b[43m,\u001b[49m\u001b[43m \u001b[49m\u001b[43mdata_transformers\u001b[49m\u001b[38;5;241;43m.\u001b[39;49m\u001b[43mget\u001b[49m\u001b[43m(\u001b[49m\u001b[43m)\u001b[49m\u001b[43m)\u001b[49m\n\u001b[1;32m    113\u001b[0m \u001b[38;5;66;03m# convert string input to a URLData\u001b[39;00m\n\u001b[1;32m    114\u001b[0m \u001b[38;5;28;01melif\u001b[39;00m \u001b[38;5;28misinstance\u001b[39m(data, \u001b[38;5;28mstr\u001b[39m):\n",
      "File \u001b[0;32m~/opt/anaconda3/lib/python3.9/site-packages/toolz/functoolz.py:630\u001b[0m, in \u001b[0;36mpipe\u001b[0;34m(data, *funcs)\u001b[0m\n\u001b[1;32m    610\u001b[0m \u001b[38;5;124;03m\"\"\" Pipe a value through a sequence of functions\u001b[39;00m\n\u001b[1;32m    611\u001b[0m \n\u001b[1;32m    612\u001b[0m \u001b[38;5;124;03mI.e. ``pipe(data, f, g, h)`` is equivalent to ``h(g(f(data)))``\u001b[39;00m\n\u001b[0;32m   (...)\u001b[0m\n\u001b[1;32m    627\u001b[0m \u001b[38;5;124;03m    thread_last\u001b[39;00m\n\u001b[1;32m    628\u001b[0m \u001b[38;5;124;03m\"\"\"\u001b[39;00m\n\u001b[1;32m    629\u001b[0m \u001b[38;5;28;01mfor\u001b[39;00m func \u001b[38;5;129;01min\u001b[39;00m funcs:\n\u001b[0;32m--> 630\u001b[0m     data \u001b[38;5;241m=\u001b[39m \u001b[43mfunc\u001b[49m\u001b[43m(\u001b[49m\u001b[43mdata\u001b[49m\u001b[43m)\u001b[49m\n\u001b[1;32m    631\u001b[0m \u001b[38;5;28;01mreturn\u001b[39;00m data\n",
      "File \u001b[0;32m~/opt/anaconda3/lib/python3.9/site-packages/toolz/functoolz.py:306\u001b[0m, in \u001b[0;36mcurry.__call__\u001b[0;34m(self, *args, **kwargs)\u001b[0m\n\u001b[1;32m    304\u001b[0m \u001b[38;5;28;01mdef\u001b[39;00m \u001b[38;5;21m__call__\u001b[39m(\u001b[38;5;28mself\u001b[39m, \u001b[38;5;241m*\u001b[39margs, \u001b[38;5;241m*\u001b[39m\u001b[38;5;241m*\u001b[39mkwargs):\n\u001b[1;32m    305\u001b[0m     \u001b[38;5;28;01mtry\u001b[39;00m:\n\u001b[0;32m--> 306\u001b[0m         \u001b[38;5;28;01mreturn\u001b[39;00m \u001b[38;5;28;43mself\u001b[39;49m\u001b[38;5;241;43m.\u001b[39;49m\u001b[43m_partial\u001b[49m\u001b[43m(\u001b[49m\u001b[38;5;241;43m*\u001b[39;49m\u001b[43margs\u001b[49m\u001b[43m,\u001b[49m\u001b[43m \u001b[49m\u001b[38;5;241;43m*\u001b[39;49m\u001b[38;5;241;43m*\u001b[39;49m\u001b[43mkwargs\u001b[49m\u001b[43m)\u001b[49m\n\u001b[1;32m    307\u001b[0m     \u001b[38;5;28;01mexcept\u001b[39;00m \u001b[38;5;167;01mTypeError\u001b[39;00m \u001b[38;5;28;01mas\u001b[39;00m exc:\n\u001b[1;32m    308\u001b[0m         \u001b[38;5;28;01mif\u001b[39;00m \u001b[38;5;28mself\u001b[39m\u001b[38;5;241m.\u001b[39m_should_curry(args, kwargs, exc):\n",
      "File \u001b[0;32m~/opt/anaconda3/lib/python3.9/site-packages/altair/vegalite/data.py:23\u001b[0m, in \u001b[0;36mdefault_data_transformer\u001b[0;34m(data, max_rows)\u001b[0m\n\u001b[1;32m     19\u001b[0m \u001b[38;5;129m@curried\u001b[39m\u001b[38;5;241m.\u001b[39mcurry\n\u001b[1;32m     20\u001b[0m \u001b[38;5;28;01mdef\u001b[39;00m \u001b[38;5;21mdefault_data_transformer\u001b[39m(\n\u001b[1;32m     21\u001b[0m     data: DataType, max_rows: \u001b[38;5;28mint\u001b[39m \u001b[38;5;241m=\u001b[39m \u001b[38;5;241m5000\u001b[39m\n\u001b[1;32m     22\u001b[0m ) \u001b[38;5;241m-\u001b[39m\u001b[38;5;241m>\u001b[39m ToValuesReturnType:\n\u001b[0;32m---> 23\u001b[0m     \u001b[38;5;28;01mreturn\u001b[39;00m \u001b[43mcurried\u001b[49m\u001b[38;5;241;43m.\u001b[39;49m\u001b[43mpipe\u001b[49m\u001b[43m(\u001b[49m\u001b[43mdata\u001b[49m\u001b[43m,\u001b[49m\u001b[43m \u001b[49m\u001b[43mlimit_rows\u001b[49m\u001b[43m(\u001b[49m\u001b[43mmax_rows\u001b[49m\u001b[38;5;241;43m=\u001b[39;49m\u001b[43mmax_rows\u001b[49m\u001b[43m)\u001b[49m\u001b[43m,\u001b[49m\u001b[43m \u001b[49m\u001b[43mto_values\u001b[49m\u001b[43m)\u001b[49m\n",
      "File \u001b[0;32m~/opt/anaconda3/lib/python3.9/site-packages/toolz/functoolz.py:630\u001b[0m, in \u001b[0;36mpipe\u001b[0;34m(data, *funcs)\u001b[0m\n\u001b[1;32m    610\u001b[0m \u001b[38;5;124;03m\"\"\" Pipe a value through a sequence of functions\u001b[39;00m\n\u001b[1;32m    611\u001b[0m \n\u001b[1;32m    612\u001b[0m \u001b[38;5;124;03mI.e. ``pipe(data, f, g, h)`` is equivalent to ``h(g(f(data)))``\u001b[39;00m\n\u001b[0;32m   (...)\u001b[0m\n\u001b[1;32m    627\u001b[0m \u001b[38;5;124;03m    thread_last\u001b[39;00m\n\u001b[1;32m    628\u001b[0m \u001b[38;5;124;03m\"\"\"\u001b[39;00m\n\u001b[1;32m    629\u001b[0m \u001b[38;5;28;01mfor\u001b[39;00m func \u001b[38;5;129;01min\u001b[39;00m funcs:\n\u001b[0;32m--> 630\u001b[0m     data \u001b[38;5;241m=\u001b[39m \u001b[43mfunc\u001b[49m\u001b[43m(\u001b[49m\u001b[43mdata\u001b[49m\u001b[43m)\u001b[49m\n\u001b[1;32m    631\u001b[0m \u001b[38;5;28;01mreturn\u001b[39;00m data\n",
      "File \u001b[0;32m~/opt/anaconda3/lib/python3.9/site-packages/toolz/functoolz.py:306\u001b[0m, in \u001b[0;36mcurry.__call__\u001b[0;34m(self, *args, **kwargs)\u001b[0m\n\u001b[1;32m    304\u001b[0m \u001b[38;5;28;01mdef\u001b[39;00m \u001b[38;5;21m__call__\u001b[39m(\u001b[38;5;28mself\u001b[39m, \u001b[38;5;241m*\u001b[39margs, \u001b[38;5;241m*\u001b[39m\u001b[38;5;241m*\u001b[39mkwargs):\n\u001b[1;32m    305\u001b[0m     \u001b[38;5;28;01mtry\u001b[39;00m:\n\u001b[0;32m--> 306\u001b[0m         \u001b[38;5;28;01mreturn\u001b[39;00m \u001b[38;5;28;43mself\u001b[39;49m\u001b[38;5;241;43m.\u001b[39;49m\u001b[43m_partial\u001b[49m\u001b[43m(\u001b[49m\u001b[38;5;241;43m*\u001b[39;49m\u001b[43margs\u001b[49m\u001b[43m,\u001b[49m\u001b[43m \u001b[49m\u001b[38;5;241;43m*\u001b[39;49m\u001b[38;5;241;43m*\u001b[39;49m\u001b[43mkwargs\u001b[49m\u001b[43m)\u001b[49m\n\u001b[1;32m    307\u001b[0m     \u001b[38;5;28;01mexcept\u001b[39;00m \u001b[38;5;167;01mTypeError\u001b[39;00m \u001b[38;5;28;01mas\u001b[39;00m exc:\n\u001b[1;32m    308\u001b[0m         \u001b[38;5;28;01mif\u001b[39;00m \u001b[38;5;28mself\u001b[39m\u001b[38;5;241m.\u001b[39m_should_curry(args, kwargs, exc):\n",
      "File \u001b[0;32m~/opt/anaconda3/lib/python3.9/site-packages/altair/utils/data.py:118\u001b[0m, in \u001b[0;36mlimit_rows\u001b[0;34m(data, max_rows)\u001b[0m\n\u001b[1;32m    115\u001b[0m     \u001b[38;5;28;01mreturn\u001b[39;00m pa_table\n\u001b[1;32m    117\u001b[0m \u001b[38;5;28;01mif\u001b[39;00m max_rows \u001b[38;5;129;01mis\u001b[39;00m \u001b[38;5;129;01mnot\u001b[39;00m \u001b[38;5;28;01mNone\u001b[39;00m \u001b[38;5;129;01mand\u001b[39;00m \u001b[38;5;28mlen\u001b[39m(values) \u001b[38;5;241m>\u001b[39m max_rows:\n\u001b[0;32m--> 118\u001b[0m     \u001b[43mraise_max_rows_error\u001b[49m\u001b[43m(\u001b[49m\u001b[43m)\u001b[49m\n\u001b[1;32m    120\u001b[0m \u001b[38;5;28;01mreturn\u001b[39;00m data\n",
      "File \u001b[0;32m~/opt/anaconda3/lib/python3.9/site-packages/altair/utils/data.py:81\u001b[0m, in \u001b[0;36mlimit_rows.<locals>.raise_max_rows_error\u001b[0;34m()\u001b[0m\n\u001b[1;32m     80\u001b[0m \u001b[38;5;28;01mdef\u001b[39;00m \u001b[38;5;21mraise_max_rows_error\u001b[39m():\n\u001b[0;32m---> 81\u001b[0m     \u001b[38;5;28;01mraise\u001b[39;00m MaxRowsError(\n\u001b[1;32m     82\u001b[0m         \u001b[38;5;124m\"\u001b[39m\u001b[38;5;124mThe number of rows in your dataset is greater \u001b[39m\u001b[38;5;124m\"\u001b[39m\n\u001b[1;32m     83\u001b[0m         \u001b[38;5;124mf\u001b[39m\u001b[38;5;124m\"\u001b[39m\u001b[38;5;124mthan the maximum allowed (\u001b[39m\u001b[38;5;132;01m{\u001b[39;00mmax_rows\u001b[38;5;132;01m}\u001b[39;00m\u001b[38;5;124m).\u001b[39m\u001b[38;5;130;01m\\n\u001b[39;00m\u001b[38;5;130;01m\\n\u001b[39;00m\u001b[38;5;124m\"\u001b[39m\n\u001b[1;32m     84\u001b[0m         \u001b[38;5;124m\"\u001b[39m\u001b[38;5;124mTry enabling the VegaFusion data transformer which \u001b[39m\u001b[38;5;124m\"\u001b[39m\n\u001b[1;32m     85\u001b[0m         \u001b[38;5;124m\"\u001b[39m\u001b[38;5;124mraises this limit by pre-evaluating data\u001b[39m\u001b[38;5;130;01m\\n\u001b[39;00m\u001b[38;5;124m\"\u001b[39m\n\u001b[1;32m     86\u001b[0m         \u001b[38;5;124m\"\u001b[39m\u001b[38;5;124mtransformations in Python.\u001b[39m\u001b[38;5;130;01m\\n\u001b[39;00m\u001b[38;5;124m\"\u001b[39m\n\u001b[1;32m     87\u001b[0m         \u001b[38;5;124m\"\u001b[39m\u001b[38;5;124m    >> import altair as alt\u001b[39m\u001b[38;5;130;01m\\n\u001b[39;00m\u001b[38;5;124m\"\u001b[39m\n\u001b[1;32m     88\u001b[0m         \u001b[38;5;124m'\u001b[39m\u001b[38;5;124m    >> alt.data_transformers.enable(\u001b[39m\u001b[38;5;124m\"\u001b[39m\u001b[38;5;124mvegafusion\u001b[39m\u001b[38;5;124m\"\u001b[39m\u001b[38;5;124m)\u001b[39m\u001b[38;5;130;01m\\n\u001b[39;00m\u001b[38;5;130;01m\\n\u001b[39;00m\u001b[38;5;124m'\u001b[39m\n\u001b[1;32m     89\u001b[0m         \u001b[38;5;124m\"\u001b[39m\u001b[38;5;124mOr, see https://altair-viz.github.io/user_guide/large_datasets.html \u001b[39m\u001b[38;5;124m\"\u001b[39m\n\u001b[1;32m     90\u001b[0m         \u001b[38;5;124m\"\u001b[39m\u001b[38;5;124mfor additional information\u001b[39m\u001b[38;5;130;01m\\n\u001b[39;00m\u001b[38;5;124m\"\u001b[39m\n\u001b[1;32m     91\u001b[0m         \u001b[38;5;124m\"\u001b[39m\u001b[38;5;124mon how to plot large datasets.\u001b[39m\u001b[38;5;124m\"\u001b[39m\n\u001b[1;32m     92\u001b[0m     )\n",
      "\u001b[0;31mMaxRowsError\u001b[0m: The number of rows in your dataset is greater than the maximum allowed (5000).\n\nTry enabling the VegaFusion data transformer which raises this limit by pre-evaluating data\ntransformations in Python.\n    >> import altair as alt\n    >> alt.data_transformers.enable(\"vegafusion\")\n\nOr, see https://altair-viz.github.io/user_guide/large_datasets.html for additional information\non how to plot large datasets."
     ]
    },
    {
     "data": {
      "text/plain": [
       "alt.LayerChart(...)"
      ]
     },
     "execution_count": 26,
     "metadata": {},
     "output_type": "execute_result"
    }
   ],
   "source": [
    "ratio = alt.Chart(goalyearratio).mark_circle().encode(\n",
    "        alt.X('years_played:Q', title = 'Years Played'),\n",
    "        alt.Y('scorer_goals:Q', title = 'Total Goals Scored'),\n",
    "        fill=alt.condition(alt.datum.scorer == 'Cristiano Ronaldo', alt.value('#f58518'), alt.value('#005391'))\n",
    "    ).properties(\n",
    "        title='Goal Frequency'\n",
    "    )\n",
    "\n",
    "text = ratio.mark_text(\n",
    "        align='left',\n",
    "        baseline='middle',\n",
    "        dx=-105,\n",
    "        fontSize=12,\n",
    "    ).encode(\n",
    "        x='years_played:Q',\n",
    "        y='scorer_goals:Q',\n",
    "        text=alt.condition(alt.datum.scorer == 'Cristiano Ronaldo', 'scorer', alt.value('')),\n",
    "        color=alt.value('black')\n",
    "    )\n",
    "\n",
    "players3 = ratio + text\n",
    "players3"
   ]
  },
  {
   "cell_type": "markdown",
   "id": "26491863",
   "metadata": {},
   "source": [
    "#### Plot 4: Does Ronaldo Score Early?"
   ]
  },
  {
   "cell_type": "markdown",
   "id": "48d0a755",
   "metadata": {},
   "source": [
    "##### Prepare Data for Plot"
   ]
  },
  {
   "cell_type": "code",
   "execution_count": 27,
   "id": "286edeff",
   "metadata": {},
   "outputs": [],
   "source": [
    "# filter data to Ronaldo/non Ronaldo\n",
    "goals['ronaldo'] = goals['scorer'] == 'Cristiano Ronaldo'\n",
    "goals['ronaldo'] = np.where(goals['scorer'] == 'Cristiano Ronaldo', 'Cristiano Ronaldo', 'All other players')"
   ]
  },
  {
   "cell_type": "markdown",
   "id": "1d925913",
   "metadata": {},
   "source": [
    "##### Create Plot"
   ]
  },
  {
   "cell_type": "code",
   "execution_count": 28,
   "id": "47806ee5",
   "metadata": {},
   "outputs": [
    {
     "ename": "MaxRowsError",
     "evalue": "The number of rows in your dataset is greater than the maximum allowed (5000).\n\nTry enabling the VegaFusion data transformer which raises this limit by pre-evaluating data\ntransformations in Python.\n    >> import altair as alt\n    >> alt.data_transformers.enable(\"vegafusion\")\n\nOr, see https://altair-viz.github.io/user_guide/large_datasets.html for additional information\non how to plot large datasets.",
     "output_type": "error",
     "traceback": [
      "\u001b[0;31m---------------------------------------------------------------------------\u001b[0m",
      "\u001b[0;31mMaxRowsError\u001b[0m                              Traceback (most recent call last)",
      "File \u001b[0;32m~/opt/anaconda3/lib/python3.9/site-packages/altair/vegalite/v5/api.py:2975\u001b[0m, in \u001b[0;36mChart.to_dict\u001b[0;34m(self, validate, format, ignore, context)\u001b[0m\n\u001b[1;32m   2971\u001b[0m     copy\u001b[38;5;241m.\u001b[39mdata \u001b[38;5;241m=\u001b[39m core\u001b[38;5;241m.\u001b[39mInlineData(values\u001b[38;5;241m=\u001b[39m[{}])  \u001b[38;5;66;03m# type: ignore[assignment]\u001b[39;00m\n\u001b[1;32m   2972\u001b[0m     \u001b[38;5;28;01mreturn\u001b[39;00m \u001b[38;5;28msuper\u001b[39m(Chart, copy)\u001b[38;5;241m.\u001b[39mto_dict(\n\u001b[1;32m   2973\u001b[0m         validate\u001b[38;5;241m=\u001b[39mvalidate, \u001b[38;5;28mformat\u001b[39m\u001b[38;5;241m=\u001b[39m\u001b[38;5;28mformat\u001b[39m, ignore\u001b[38;5;241m=\u001b[39mignore, context\u001b[38;5;241m=\u001b[39mcontext\n\u001b[1;32m   2974\u001b[0m     )\n\u001b[0;32m-> 2975\u001b[0m \u001b[38;5;28;01mreturn\u001b[39;00m \u001b[38;5;28;43msuper\u001b[39;49m\u001b[43m(\u001b[49m\u001b[43m)\u001b[49m\u001b[38;5;241;43m.\u001b[39;49m\u001b[43mto_dict\u001b[49m\u001b[43m(\u001b[49m\n\u001b[1;32m   2976\u001b[0m \u001b[43m    \u001b[49m\u001b[43mvalidate\u001b[49m\u001b[38;5;241;43m=\u001b[39;49m\u001b[43mvalidate\u001b[49m\u001b[43m,\u001b[49m\u001b[43m \u001b[49m\u001b[38;5;28;43mformat\u001b[39;49m\u001b[38;5;241;43m=\u001b[39;49m\u001b[38;5;28;43mformat\u001b[39;49m\u001b[43m,\u001b[49m\u001b[43m \u001b[49m\u001b[43mignore\u001b[49m\u001b[38;5;241;43m=\u001b[39;49m\u001b[43mignore\u001b[49m\u001b[43m,\u001b[49m\u001b[43m \u001b[49m\u001b[43mcontext\u001b[49m\u001b[38;5;241;43m=\u001b[39;49m\u001b[43mcontext\u001b[49m\n\u001b[1;32m   2977\u001b[0m \u001b[43m\u001b[49m\u001b[43m)\u001b[49m\n",
      "File \u001b[0;32m~/opt/anaconda3/lib/python3.9/site-packages/altair/vegalite/v5/api.py:950\u001b[0m, in \u001b[0;36mTopLevelMixin.to_dict\u001b[0;34m(self, validate, format, ignore, context)\u001b[0m\n\u001b[1;32m    948\u001b[0m copy \u001b[38;5;241m=\u001b[39m \u001b[38;5;28mself\u001b[39m\u001b[38;5;241m.\u001b[39mcopy(deep\u001b[38;5;241m=\u001b[39m\u001b[38;5;28;01mFalse\u001b[39;00m)  \u001b[38;5;66;03m# type: ignore[attr-defined]\u001b[39;00m\n\u001b[1;32m    949\u001b[0m original_data \u001b[38;5;241m=\u001b[39m \u001b[38;5;28mgetattr\u001b[39m(copy, \u001b[38;5;124m\"\u001b[39m\u001b[38;5;124mdata\u001b[39m\u001b[38;5;124m\"\u001b[39m, Undefined)\n\u001b[0;32m--> 950\u001b[0m copy\u001b[38;5;241m.\u001b[39mdata \u001b[38;5;241m=\u001b[39m \u001b[43m_prepare_data\u001b[49m\u001b[43m(\u001b[49m\u001b[43moriginal_data\u001b[49m\u001b[43m,\u001b[49m\u001b[43m \u001b[49m\u001b[43mcontext\u001b[49m\u001b[43m)\u001b[49m\n\u001b[1;32m    952\u001b[0m \u001b[38;5;28;01mif\u001b[39;00m original_data \u001b[38;5;129;01mis\u001b[39;00m \u001b[38;5;129;01mnot\u001b[39;00m Undefined:\n\u001b[1;32m    953\u001b[0m     context[\u001b[38;5;124m\"\u001b[39m\u001b[38;5;124mdata\u001b[39m\u001b[38;5;124m\"\u001b[39m] \u001b[38;5;241m=\u001b[39m original_data\n",
      "File \u001b[0;32m~/opt/anaconda3/lib/python3.9/site-packages/altair/vegalite/v5/api.py:111\u001b[0m, in \u001b[0;36m_prepare_data\u001b[0;34m(data, context)\u001b[0m\n\u001b[1;32m    109\u001b[0m \u001b[38;5;66;03m# convert dataframes  or objects with __geo_interface__ to dict\u001b[39;00m\n\u001b[1;32m    110\u001b[0m \u001b[38;5;28;01melif\u001b[39;00m \u001b[38;5;28misinstance\u001b[39m(data, pd\u001b[38;5;241m.\u001b[39mDataFrame) \u001b[38;5;129;01mor\u001b[39;00m \u001b[38;5;28mhasattr\u001b[39m(data, \u001b[38;5;124m\"\u001b[39m\u001b[38;5;124m__geo_interface__\u001b[39m\u001b[38;5;124m\"\u001b[39m):\n\u001b[0;32m--> 111\u001b[0m     data \u001b[38;5;241m=\u001b[39m \u001b[43m_pipe\u001b[49m\u001b[43m(\u001b[49m\u001b[43mdata\u001b[49m\u001b[43m,\u001b[49m\u001b[43m \u001b[49m\u001b[43mdata_transformers\u001b[49m\u001b[38;5;241;43m.\u001b[39;49m\u001b[43mget\u001b[49m\u001b[43m(\u001b[49m\u001b[43m)\u001b[49m\u001b[43m)\u001b[49m\n\u001b[1;32m    113\u001b[0m \u001b[38;5;66;03m# convert string input to a URLData\u001b[39;00m\n\u001b[1;32m    114\u001b[0m \u001b[38;5;28;01melif\u001b[39;00m \u001b[38;5;28misinstance\u001b[39m(data, \u001b[38;5;28mstr\u001b[39m):\n",
      "File \u001b[0;32m~/opt/anaconda3/lib/python3.9/site-packages/toolz/functoolz.py:630\u001b[0m, in \u001b[0;36mpipe\u001b[0;34m(data, *funcs)\u001b[0m\n\u001b[1;32m    610\u001b[0m \u001b[38;5;124;03m\"\"\" Pipe a value through a sequence of functions\u001b[39;00m\n\u001b[1;32m    611\u001b[0m \n\u001b[1;32m    612\u001b[0m \u001b[38;5;124;03mI.e. ``pipe(data, f, g, h)`` is equivalent to ``h(g(f(data)))``\u001b[39;00m\n\u001b[0;32m   (...)\u001b[0m\n\u001b[1;32m    627\u001b[0m \u001b[38;5;124;03m    thread_last\u001b[39;00m\n\u001b[1;32m    628\u001b[0m \u001b[38;5;124;03m\"\"\"\u001b[39;00m\n\u001b[1;32m    629\u001b[0m \u001b[38;5;28;01mfor\u001b[39;00m func \u001b[38;5;129;01min\u001b[39;00m funcs:\n\u001b[0;32m--> 630\u001b[0m     data \u001b[38;5;241m=\u001b[39m \u001b[43mfunc\u001b[49m\u001b[43m(\u001b[49m\u001b[43mdata\u001b[49m\u001b[43m)\u001b[49m\n\u001b[1;32m    631\u001b[0m \u001b[38;5;28;01mreturn\u001b[39;00m data\n",
      "File \u001b[0;32m~/opt/anaconda3/lib/python3.9/site-packages/toolz/functoolz.py:306\u001b[0m, in \u001b[0;36mcurry.__call__\u001b[0;34m(self, *args, **kwargs)\u001b[0m\n\u001b[1;32m    304\u001b[0m \u001b[38;5;28;01mdef\u001b[39;00m \u001b[38;5;21m__call__\u001b[39m(\u001b[38;5;28mself\u001b[39m, \u001b[38;5;241m*\u001b[39margs, \u001b[38;5;241m*\u001b[39m\u001b[38;5;241m*\u001b[39mkwargs):\n\u001b[1;32m    305\u001b[0m     \u001b[38;5;28;01mtry\u001b[39;00m:\n\u001b[0;32m--> 306\u001b[0m         \u001b[38;5;28;01mreturn\u001b[39;00m \u001b[38;5;28;43mself\u001b[39;49m\u001b[38;5;241;43m.\u001b[39;49m\u001b[43m_partial\u001b[49m\u001b[43m(\u001b[49m\u001b[38;5;241;43m*\u001b[39;49m\u001b[43margs\u001b[49m\u001b[43m,\u001b[49m\u001b[43m \u001b[49m\u001b[38;5;241;43m*\u001b[39;49m\u001b[38;5;241;43m*\u001b[39;49m\u001b[43mkwargs\u001b[49m\u001b[43m)\u001b[49m\n\u001b[1;32m    307\u001b[0m     \u001b[38;5;28;01mexcept\u001b[39;00m \u001b[38;5;167;01mTypeError\u001b[39;00m \u001b[38;5;28;01mas\u001b[39;00m exc:\n\u001b[1;32m    308\u001b[0m         \u001b[38;5;28;01mif\u001b[39;00m \u001b[38;5;28mself\u001b[39m\u001b[38;5;241m.\u001b[39m_should_curry(args, kwargs, exc):\n",
      "File \u001b[0;32m~/opt/anaconda3/lib/python3.9/site-packages/altair/vegalite/data.py:23\u001b[0m, in \u001b[0;36mdefault_data_transformer\u001b[0;34m(data, max_rows)\u001b[0m\n\u001b[1;32m     19\u001b[0m \u001b[38;5;129m@curried\u001b[39m\u001b[38;5;241m.\u001b[39mcurry\n\u001b[1;32m     20\u001b[0m \u001b[38;5;28;01mdef\u001b[39;00m \u001b[38;5;21mdefault_data_transformer\u001b[39m(\n\u001b[1;32m     21\u001b[0m     data: DataType, max_rows: \u001b[38;5;28mint\u001b[39m \u001b[38;5;241m=\u001b[39m \u001b[38;5;241m5000\u001b[39m\n\u001b[1;32m     22\u001b[0m ) \u001b[38;5;241m-\u001b[39m\u001b[38;5;241m>\u001b[39m ToValuesReturnType:\n\u001b[0;32m---> 23\u001b[0m     \u001b[38;5;28;01mreturn\u001b[39;00m \u001b[43mcurried\u001b[49m\u001b[38;5;241;43m.\u001b[39;49m\u001b[43mpipe\u001b[49m\u001b[43m(\u001b[49m\u001b[43mdata\u001b[49m\u001b[43m,\u001b[49m\u001b[43m \u001b[49m\u001b[43mlimit_rows\u001b[49m\u001b[43m(\u001b[49m\u001b[43mmax_rows\u001b[49m\u001b[38;5;241;43m=\u001b[39;49m\u001b[43mmax_rows\u001b[49m\u001b[43m)\u001b[49m\u001b[43m,\u001b[49m\u001b[43m \u001b[49m\u001b[43mto_values\u001b[49m\u001b[43m)\u001b[49m\n",
      "File \u001b[0;32m~/opt/anaconda3/lib/python3.9/site-packages/toolz/functoolz.py:630\u001b[0m, in \u001b[0;36mpipe\u001b[0;34m(data, *funcs)\u001b[0m\n\u001b[1;32m    610\u001b[0m \u001b[38;5;124;03m\"\"\" Pipe a value through a sequence of functions\u001b[39;00m\n\u001b[1;32m    611\u001b[0m \n\u001b[1;32m    612\u001b[0m \u001b[38;5;124;03mI.e. ``pipe(data, f, g, h)`` is equivalent to ``h(g(f(data)))``\u001b[39;00m\n\u001b[0;32m   (...)\u001b[0m\n\u001b[1;32m    627\u001b[0m \u001b[38;5;124;03m    thread_last\u001b[39;00m\n\u001b[1;32m    628\u001b[0m \u001b[38;5;124;03m\"\"\"\u001b[39;00m\n\u001b[1;32m    629\u001b[0m \u001b[38;5;28;01mfor\u001b[39;00m func \u001b[38;5;129;01min\u001b[39;00m funcs:\n\u001b[0;32m--> 630\u001b[0m     data \u001b[38;5;241m=\u001b[39m \u001b[43mfunc\u001b[49m\u001b[43m(\u001b[49m\u001b[43mdata\u001b[49m\u001b[43m)\u001b[49m\n\u001b[1;32m    631\u001b[0m \u001b[38;5;28;01mreturn\u001b[39;00m data\n",
      "File \u001b[0;32m~/opt/anaconda3/lib/python3.9/site-packages/toolz/functoolz.py:306\u001b[0m, in \u001b[0;36mcurry.__call__\u001b[0;34m(self, *args, **kwargs)\u001b[0m\n\u001b[1;32m    304\u001b[0m \u001b[38;5;28;01mdef\u001b[39;00m \u001b[38;5;21m__call__\u001b[39m(\u001b[38;5;28mself\u001b[39m, \u001b[38;5;241m*\u001b[39margs, \u001b[38;5;241m*\u001b[39m\u001b[38;5;241m*\u001b[39mkwargs):\n\u001b[1;32m    305\u001b[0m     \u001b[38;5;28;01mtry\u001b[39;00m:\n\u001b[0;32m--> 306\u001b[0m         \u001b[38;5;28;01mreturn\u001b[39;00m \u001b[38;5;28;43mself\u001b[39;49m\u001b[38;5;241;43m.\u001b[39;49m\u001b[43m_partial\u001b[49m\u001b[43m(\u001b[49m\u001b[38;5;241;43m*\u001b[39;49m\u001b[43margs\u001b[49m\u001b[43m,\u001b[49m\u001b[43m \u001b[49m\u001b[38;5;241;43m*\u001b[39;49m\u001b[38;5;241;43m*\u001b[39;49m\u001b[43mkwargs\u001b[49m\u001b[43m)\u001b[49m\n\u001b[1;32m    307\u001b[0m     \u001b[38;5;28;01mexcept\u001b[39;00m \u001b[38;5;167;01mTypeError\u001b[39;00m \u001b[38;5;28;01mas\u001b[39;00m exc:\n\u001b[1;32m    308\u001b[0m         \u001b[38;5;28;01mif\u001b[39;00m \u001b[38;5;28mself\u001b[39m\u001b[38;5;241m.\u001b[39m_should_curry(args, kwargs, exc):\n",
      "File \u001b[0;32m~/opt/anaconda3/lib/python3.9/site-packages/altair/utils/data.py:118\u001b[0m, in \u001b[0;36mlimit_rows\u001b[0;34m(data, max_rows)\u001b[0m\n\u001b[1;32m    115\u001b[0m     \u001b[38;5;28;01mreturn\u001b[39;00m pa_table\n\u001b[1;32m    117\u001b[0m \u001b[38;5;28;01mif\u001b[39;00m max_rows \u001b[38;5;129;01mis\u001b[39;00m \u001b[38;5;129;01mnot\u001b[39;00m \u001b[38;5;28;01mNone\u001b[39;00m \u001b[38;5;129;01mand\u001b[39;00m \u001b[38;5;28mlen\u001b[39m(values) \u001b[38;5;241m>\u001b[39m max_rows:\n\u001b[0;32m--> 118\u001b[0m     \u001b[43mraise_max_rows_error\u001b[49m\u001b[43m(\u001b[49m\u001b[43m)\u001b[49m\n\u001b[1;32m    120\u001b[0m \u001b[38;5;28;01mreturn\u001b[39;00m data\n",
      "File \u001b[0;32m~/opt/anaconda3/lib/python3.9/site-packages/altair/utils/data.py:81\u001b[0m, in \u001b[0;36mlimit_rows.<locals>.raise_max_rows_error\u001b[0;34m()\u001b[0m\n\u001b[1;32m     80\u001b[0m \u001b[38;5;28;01mdef\u001b[39;00m \u001b[38;5;21mraise_max_rows_error\u001b[39m():\n\u001b[0;32m---> 81\u001b[0m     \u001b[38;5;28;01mraise\u001b[39;00m MaxRowsError(\n\u001b[1;32m     82\u001b[0m         \u001b[38;5;124m\"\u001b[39m\u001b[38;5;124mThe number of rows in your dataset is greater \u001b[39m\u001b[38;5;124m\"\u001b[39m\n\u001b[1;32m     83\u001b[0m         \u001b[38;5;124mf\u001b[39m\u001b[38;5;124m\"\u001b[39m\u001b[38;5;124mthan the maximum allowed (\u001b[39m\u001b[38;5;132;01m{\u001b[39;00mmax_rows\u001b[38;5;132;01m}\u001b[39;00m\u001b[38;5;124m).\u001b[39m\u001b[38;5;130;01m\\n\u001b[39;00m\u001b[38;5;130;01m\\n\u001b[39;00m\u001b[38;5;124m\"\u001b[39m\n\u001b[1;32m     84\u001b[0m         \u001b[38;5;124m\"\u001b[39m\u001b[38;5;124mTry enabling the VegaFusion data transformer which \u001b[39m\u001b[38;5;124m\"\u001b[39m\n\u001b[1;32m     85\u001b[0m         \u001b[38;5;124m\"\u001b[39m\u001b[38;5;124mraises this limit by pre-evaluating data\u001b[39m\u001b[38;5;130;01m\\n\u001b[39;00m\u001b[38;5;124m\"\u001b[39m\n\u001b[1;32m     86\u001b[0m         \u001b[38;5;124m\"\u001b[39m\u001b[38;5;124mtransformations in Python.\u001b[39m\u001b[38;5;130;01m\\n\u001b[39;00m\u001b[38;5;124m\"\u001b[39m\n\u001b[1;32m     87\u001b[0m         \u001b[38;5;124m\"\u001b[39m\u001b[38;5;124m    >> import altair as alt\u001b[39m\u001b[38;5;130;01m\\n\u001b[39;00m\u001b[38;5;124m\"\u001b[39m\n\u001b[1;32m     88\u001b[0m         \u001b[38;5;124m'\u001b[39m\u001b[38;5;124m    >> alt.data_transformers.enable(\u001b[39m\u001b[38;5;124m\"\u001b[39m\u001b[38;5;124mvegafusion\u001b[39m\u001b[38;5;124m\"\u001b[39m\u001b[38;5;124m)\u001b[39m\u001b[38;5;130;01m\\n\u001b[39;00m\u001b[38;5;130;01m\\n\u001b[39;00m\u001b[38;5;124m'\u001b[39m\n\u001b[1;32m     89\u001b[0m         \u001b[38;5;124m\"\u001b[39m\u001b[38;5;124mOr, see https://altair-viz.github.io/user_guide/large_datasets.html \u001b[39m\u001b[38;5;124m\"\u001b[39m\n\u001b[1;32m     90\u001b[0m         \u001b[38;5;124m\"\u001b[39m\u001b[38;5;124mfor additional information\u001b[39m\u001b[38;5;130;01m\\n\u001b[39;00m\u001b[38;5;124m\"\u001b[39m\n\u001b[1;32m     91\u001b[0m         \u001b[38;5;124m\"\u001b[39m\u001b[38;5;124mon how to plot large datasets.\u001b[39m\u001b[38;5;124m\"\u001b[39m\n\u001b[1;32m     92\u001b[0m     )\n",
      "\u001b[0;31mMaxRowsError\u001b[0m: The number of rows in your dataset is greater than the maximum allowed (5000).\n\nTry enabling the VegaFusion data transformer which raises this limit by pre-evaluating data\ntransformations in Python.\n    >> import altair as alt\n    >> alt.data_transformers.enable(\"vegafusion\")\n\nOr, see https://altair-viz.github.io/user_guide/large_datasets.html for additional information\non how to plot large datasets."
     ]
    },
    {
     "data": {
      "text/plain": [
       "alt.Chart(...)"
      ]
     },
     "execution_count": 28,
     "metadata": {},
     "output_type": "execute_result"
    }
   ],
   "source": [
    "players4 = alt.Chart(goals).mark_boxplot(size = 40).transform_filter(\n",
    "        alt.datum.year == 2004\n",
    "    ).encode(\n",
    "        alt.X('ronaldo:N', axis=alt.Axis(labelAngle=0), title = None),\n",
    "        alt.Y('minute:Q', title = 'Minute Goal Scored', scale=alt.Scale(domain=[0, 90], clamp = True))\n",
    "    ).properties(\n",
    "        title='Does Ronaldo score early in games?'\n",
    "    )\n",
    "\n",
    "players4"
   ]
  },
  {
   "cell_type": "markdown",
   "id": "4e88e00b",
   "metadata": {},
   "source": [
    "### Save Plots"
   ]
  },
  {
   "cell_type": "code",
   "execution_count": 29,
   "id": "00944b1d",
   "metadata": {},
   "outputs": [],
   "source": [
    "# games\n",
    "games1.save('Plots/games1.png')\n",
    "games2.save('Plots/games2.png')\n",
    "games3.save('Plots/games3.png')\n",
    "games4.save('Plots/games4.png')\n",
    "\n",
    "# teams\n",
    "teams1.save('Plots/teams1.png')\n",
    "teams2.save('Plots/teams2.png')\n",
    "teams3.save('Plots/teams3.png')\n",
    "teams4.save('Plots/teams4.png')\n",
    "\n",
    "# players\n",
    "players1.save('Plots/players1.png')\n",
    "players2.save('Plots/players2.png')\n",
    "players3.save('Plots/players3.png')\n",
    "players4.save('Plots/players4.png')"
   ]
  }
 ],
 "metadata": {
  "kernelspec": {
   "display_name": "Python 3 (ipykernel)",
   "language": "python",
   "name": "python3"
  },
  "language_info": {
   "codemirror_mode": {
    "name": "ipython",
    "version": 3
   },
   "file_extension": ".py",
   "mimetype": "text/x-python",
   "name": "python",
   "nbconvert_exporter": "python",
   "pygments_lexer": "ipython3",
   "version": "3.9.12"
  }
 },
 "nbformat": 4,
 "nbformat_minor": 5
}
